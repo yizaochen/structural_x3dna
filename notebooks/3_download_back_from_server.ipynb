{
 "cells": [
  {
   "cell_type": "code",
   "execution_count": 1,
   "metadata": {},
   "outputs": [],
   "source": [
    "from strucpara.processing import BasePairAgent\n",
    "import pandas as pd\n",
    "rootfolder = '/home/ytcdata/x3dna_data'"
   ]
  },
  {
   "cell_type": "markdown",
   "metadata": {},
   "source": [
    "### Part 1: Initialize"
   ]
  },
  {
   "cell_type": "code",
   "execution_count": 2,
   "metadata": {},
   "outputs": [
    {
     "name": "stdout",
     "output_type": "stream",
     "text": [
      "mkdir /home/ytcdata/x3dna_data/pnas_rna\n",
      "mkdir /home/ytcdata/x3dna_data/pnas_rna/0_1us\n"
     ]
    }
   ],
   "source": [
    "host = 'tgtg_21mer'\n",
    "type_na = 'bdna+bdna'\n",
    "n_bp = 21 # 16, 21\n",
    "time_interval = '1_2us' # '0_1us', '1_2us', '2_3us', '3_4us', '4_5us'\n",
    "bp_agent = BasePairAgent(rootfolder, host, time_interval, type_na, n_bp)"
   ]
  },
  {
   "cell_type": "markdown",
   "metadata": {},
   "source": [
    "### Part 2: Download bdna+bdna.ensemble.out from server"
   ]
  },
  {
   "cell_type": "code",
   "execution_count": 3,
   "metadata": {},
   "outputs": [
    {
     "name": "stdout",
     "output_type": "stream",
     "text": [
      "Please excute the following in the terminal:\n",
      "scp yizaochen@140.113.120.131:/home/yizaochen/x3dna/paper_2021/pnas_rna/0_1us/arna+arna.ensemble.out /home/ytcdata/x3dna_data/pnas_rna/0_1us/arna+arna.ensemble.out\n"
     ]
    }
   ],
   "source": [
    "server_ip = '140.113.120.131'\n",
    "bp_agent.download_ensesmble_out(server_ip)"
   ]
  },
  {
   "cell_type": "markdown",
   "metadata": {},
   "source": [
    "### Part 2-2: "
   ]
  },
  {
   "cell_type": "code",
   "execution_count": 3,
   "metadata": {},
   "outputs": [
    {
     "name": "stdout",
     "output_type": "stream",
     "text": [
      "/home/ytcdata/x3dna_data/tgtg_21mer exists\n",
      "/home/ytcdata/x3dna_data/tgtg_21mer/1_2us exists\n",
      "cp /home/yizaochen/codes/dna_rna/collect_folder_to_multiscale/tgtg_21mer/1_2us/bdna+bdna.ensemble.out /home/ytcdata/x3dna_data/tgtg_21mer/1_2us/bdna+bdna.ensemble.out\n",
      "/home/ytcdata/x3dna_data/tgtg_21mer exists\n",
      "mkdir /home/ytcdata/x3dna_data/tgtg_21mer/2_3us\n",
      "cp /home/yizaochen/codes/dna_rna/collect_folder_to_multiscale/tgtg_21mer/2_3us/bdna+bdna.ensemble.out /home/ytcdata/x3dna_data/tgtg_21mer/2_3us/bdna+bdna.ensemble.out\n",
      "/home/ytcdata/x3dna_data/tgtg_21mer exists\n",
      "mkdir /home/ytcdata/x3dna_data/tgtg_21mer/3_4us\n",
      "cp /home/yizaochen/codes/dna_rna/collect_folder_to_multiscale/tgtg_21mer/3_4us/bdna+bdna.ensemble.out /home/ytcdata/x3dna_data/tgtg_21mer/3_4us/bdna+bdna.ensemble.out\n",
      "/home/ytcdata/x3dna_data/tgtg_21mer exists\n",
      "mkdir /home/ytcdata/x3dna_data/tgtg_21mer/4_5us\n",
      "cp /home/yizaochen/codes/dna_rna/collect_folder_to_multiscale/tgtg_21mer/4_5us/bdna+bdna.ensemble.out /home/ytcdata/x3dna_data/tgtg_21mer/4_5us/bdna+bdna.ensemble.out\n",
      "/home/ytcdata/x3dna_data/ctct_21mer exists\n",
      "mkdir /home/ytcdata/x3dna_data/ctct_21mer/1_2us\n",
      "cp /home/yizaochen/codes/dna_rna/collect_folder_to_multiscale/ctct_21mer/1_2us/bdna+bdna.ensemble.out /home/ytcdata/x3dna_data/ctct_21mer/1_2us/bdna+bdna.ensemble.out\n",
      "/home/ytcdata/x3dna_data/ctct_21mer exists\n",
      "mkdir /home/ytcdata/x3dna_data/ctct_21mer/2_3us\n",
      "cp /home/yizaochen/codes/dna_rna/collect_folder_to_multiscale/ctct_21mer/2_3us/bdna+bdna.ensemble.out /home/ytcdata/x3dna_data/ctct_21mer/2_3us/bdna+bdna.ensemble.out\n",
      "/home/ytcdata/x3dna_data/ctct_21mer exists\n",
      "mkdir /home/ytcdata/x3dna_data/ctct_21mer/3_4us\n",
      "cp /home/yizaochen/codes/dna_rna/collect_folder_to_multiscale/ctct_21mer/3_4us/bdna+bdna.ensemble.out /home/ytcdata/x3dna_data/ctct_21mer/3_4us/bdna+bdna.ensemble.out\n",
      "/home/ytcdata/x3dna_data/ctct_21mer exists\n",
      "mkdir /home/ytcdata/x3dna_data/ctct_21mer/4_5us\n",
      "cp /home/yizaochen/codes/dna_rna/collect_folder_to_multiscale/ctct_21mer/4_5us/bdna+bdna.ensemble.out /home/ytcdata/x3dna_data/ctct_21mer/4_5us/bdna+bdna.ensemble.out\n"
     ]
    }
   ],
   "source": [
    "type_na = 'bdna+bdna'\n",
    "n_bp = 21 # 16, 21\n",
    "for host in ['tgtg_21mer', 'ctct_21mer']:\n",
    "    for time_interval in ['1_2us', '2_3us', '3_4us', '4_5us']:\n",
    "        bp_agent = BasePairAgent(rootfolder, host, time_interval, type_na, n_bp)\n",
    "        bp_agent.copy_out_to_datafolder()"
   ]
  },
  {
   "cell_type": "markdown",
   "metadata": {},
   "source": [
    "### Additional Part 1: Clean all the dat file"
   ]
  },
  {
   "cell_type": "code",
   "execution_count": null,
   "metadata": {},
   "outputs": [],
   "source": [
    "bp_agent.clean_dat_files()"
   ]
  }
 ],
 "metadata": {
  "kernelspec": {
   "display_name": "Python 3",
   "language": "python",
   "name": "python3"
  },
  "language_info": {
   "codemirror_mode": {
    "name": "ipython",
    "version": 3
   },
   "file_extension": ".py",
   "mimetype": "text/x-python",
   "name": "python",
   "nbconvert_exporter": "python",
   "pygments_lexer": "ipython3",
   "version": "3.8.5"
  }
 },
 "nbformat": 4,
 "nbformat_minor": 4
}
