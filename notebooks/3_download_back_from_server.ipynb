{
 "cells": [
  {
   "cell_type": "code",
   "execution_count": 1,
   "metadata": {},
   "outputs": [],
   "source": [
    "from strucpara.processing import BasePairAgent\n",
    "import pandas as pd\n",
    "rootfolder = '/home/ytcdata/x3dna_data'"
   ]
  },
  {
   "cell_type": "markdown",
   "metadata": {},
   "source": [
    "### Part 1: Initialize"
   ]
  },
  {
   "cell_type": "code",
   "execution_count": 2,
   "metadata": {},
   "outputs": [
    {
     "name": "stdout",
     "output_type": "stream",
     "text": [
      "mkdir /home/ytcdata/x3dna_data/pnas_rna\n",
      "mkdir /home/ytcdata/x3dna_data/pnas_rna/0_1us\n"
     ]
    }
   ],
   "source": [
    "host = 'pnas_rna'\n",
    "type_na = 'arna+arna'\n",
    "n_bp = 16 # 16, 21\n",
    "time_interval = '0_1us' # '0_1us', '1_2us', '2_3us', '3_4us', '4_5us'\n",
    "bp_agent = BasePairAgent(rootfolder, host, time_interval, type_na, n_bp)"
   ]
  },
  {
   "cell_type": "markdown",
   "metadata": {},
   "source": [
    "### Part 2: Download bdna+bdna.ensemble.out from server"
   ]
  },
  {
   "cell_type": "code",
   "execution_count": 3,
   "metadata": {},
   "outputs": [
    {
     "name": "stdout",
     "output_type": "stream",
     "text": [
      "Please excute the following in the terminal:\n",
      "scp yizaochen@140.113.120.131:/home/yizaochen/x3dna/paper_2021/pnas_rna/0_1us/arna+arna.ensemble.out /home/ytcdata/x3dna_data/pnas_rna/0_1us/arna+arna.ensemble.out\n"
     ]
    }
   ],
   "source": [
    "server_ip = '140.113.120.131'\n",
    "bp_agent.download_ensesmble_out(server_ip)"
   ]
  },
  {
   "cell_type": "markdown",
   "metadata": {},
   "source": [
    "### Additional Part 1: Clean all the dat file"
   ]
  },
  {
   "cell_type": "code",
   "execution_count": null,
   "metadata": {},
   "outputs": [],
   "source": [
    "bp_agent.clean_dat_files()"
   ]
  }
 ],
 "metadata": {
  "kernelspec": {
   "display_name": "Python 3",
   "language": "python",
   "name": "python3"
  },
  "language_info": {
   "codemirror_mode": {
    "name": "ipython",
    "version": 3
   },
   "file_extension": ".py",
   "mimetype": "text/x-python",
   "name": "python",
   "nbconvert_exporter": "python",
   "pygments_lexer": "ipython3",
   "version": "3.8.5"
  }
 },
 "nbformat": 4,
 "nbformat_minor": 4
}
