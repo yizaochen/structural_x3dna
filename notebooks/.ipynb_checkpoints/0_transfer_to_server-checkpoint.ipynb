{
 "cells": [
  {
   "cell_type": "code",
   "execution_count": 1,
   "metadata": {},
   "outputs": [],
   "source": [
    "from strucpara.transfer import TransferAgent\n",
    "allsys_folder = '/home/yizaochen/codes/dna_rna/all_systems'"
   ]
  },
  {
   "cell_type": "markdown",
   "metadata": {},
   "source": [
    "### Part 0: Initialize"
   ]
  },
  {
   "cell_type": "code",
   "execution_count": 125,
   "metadata": {},
   "outputs": [
    {
     "name": "stdout",
     "output_type": "stream",
     "text": [
      "/home/yizaochen/codes/dna_rna/collect_folder_to_multiscale/atat_21mer exists\n",
      "mkdir /home/yizaochen/codes/dna_rna/collect_folder_to_multiscale/atat_21mer/4_5us\n"
     ]
    }
   ],
   "source": [
    "host = 'atat_21mer'\n",
    "time_interval = '4_5us' # '0_1us', '1_2us', '2_3us', '3_4us', '4_5us'\n",
    "t_agent = TransferAgent(allsys_folder, host, time_interval)"
   ]
  },
  {
   "cell_type": "markdown",
   "metadata": {},
   "source": [
    "### Part 1: Convert perfect.gro to perfect.pdb"
   ]
  },
  {
   "cell_type": "code",
   "execution_count": 126,
   "metadata": {},
   "outputs": [
    {
     "name": "stdout",
     "output_type": "stream",
     "text": [
      "/usr/bin/gmx editconf -f /home/yizaochen/codes/dna_rna/all_systems/atat_21mer/bdna+bdna/input/allatoms/bdna+bdna.perfect.gro -o /home/yizaochen/codes/dna_rna/all_systems/atat_21mer/bdna+bdna/input/allatoms/bdna+bdna.perfect.pdb\n"
     ]
    }
   ],
   "source": [
    "t_agent.perfect_gro_to_pdb()"
   ]
  },
  {
   "cell_type": "markdown",
   "metadata": {},
   "source": [
    "### Part 2: Concatenate xtc"
   ]
  },
  {
   "cell_type": "code",
   "execution_count": 127,
   "metadata": {},
   "outputs": [
    {
     "name": "stdout",
     "output_type": "stream",
     "text": [
      "/usr/bin/gmx trjcat -f /home/ytcdata/simulation/atat_21mer/bdna+bdna/data/roughtrj/1000/bdna+bdna.nopbc.fit.41.1000.xtc /home/ytcdata/simulation/atat_21mer/bdna+bdna/data/roughtrj/1000/bdna+bdna.nopbc.fit.42.1000.xtc /home/ytcdata/simulation/atat_21mer/bdna+bdna/data/roughtrj/1000/bdna+bdna.nopbc.fit.43.1000.xtc /home/ytcdata/simulation/atat_21mer/bdna+bdna/data/roughtrj/1000/bdna+bdna.nopbc.fit.44.1000.xtc /home/ytcdata/simulation/atat_21mer/bdna+bdna/data/roughtrj/1000/bdna+bdna.nopbc.fit.45.1000.xtc /home/ytcdata/simulation/atat_21mer/bdna+bdna/data/roughtrj/1000/bdna+bdna.nopbc.fit.46.1000.xtc /home/ytcdata/simulation/atat_21mer/bdna+bdna/data/roughtrj/1000/bdna+bdna.nopbc.fit.47.1000.xtc /home/ytcdata/simulation/atat_21mer/bdna+bdna/data/roughtrj/1000/bdna+bdna.nopbc.fit.48.1000.xtc /home/ytcdata/simulation/atat_21mer/bdna+bdna/data/roughtrj/1000/bdna+bdna.nopbc.fit.49.1000.xtc /home/ytcdata/simulation/atat_21mer/bdna+bdna/data/roughtrj/1000/bdna+bdna.nopbc.fit.50.1000.xtc  -o /home/yizaochen/codes/dna_rna/all_systems/atat_21mer/bdna+bdna/input/allatoms/bdna+bdna.4_5us.xtc -dt 100\n"
     ]
    }
   ],
   "source": [
    "# Concatenate xtc by gmx\n",
    "simu_folder = '/home/ytcdata/simulation'\n",
    "t_agent.concatenate_trajectory(simu_folder)"
   ]
  },
  {
   "cell_type": "markdown",
   "metadata": {},
   "source": [
    "### Part 3: Fitting xtc to perfect structure"
   ]
  },
  {
   "cell_type": "code",
   "execution_count": 128,
   "metadata": {},
   "outputs": [
    {
     "name": "stdout",
     "output_type": "stream",
     "text": [
      "echo 0 0 | /usr/bin/gmx trjconv -fit rot+trans -s /home/yizaochen/codes/dna_rna/all_systems/atat_21mer/bdna+bdna/input/allatoms/bdna+bdna.perfect.pdb -f /home/yizaochen/codes/dna_rna/all_systems/atat_21mer/bdna+bdna/input/allatoms/bdna+bdna.4_5us.xtc -o /home/yizaochen/codes/dna_rna/all_systems/atat_21mer/bdna+bdna/input/allatoms/bdna+bdna.4_5us.fitperfect.xtc\n"
     ]
    }
   ],
   "source": [
    "t_agent.rmsd_fit_to_perfect()"
   ]
  },
  {
   "cell_type": "markdown",
   "metadata": {},
   "source": [
    "### Part 4: Copy to collect folder"
   ]
  },
  {
   "cell_type": "code",
   "execution_count": 129,
   "metadata": {},
   "outputs": [
    {
     "name": "stdout",
     "output_type": "stream",
     "text": [
      "cp /home/yizaochen/codes/dna_rna/all_systems/atat_21mer/bdna+bdna/input/allatoms/bdna+bdna.perfect.pdb /home/yizaochen/codes/dna_rna/collect_folder_to_multiscale/atat_21mer/4_5us/bdna+bdna.perfect.pdb\n",
      "cp /home/yizaochen/codes/dna_rna/all_systems/atat_21mer/bdna+bdna/input/allatoms/bdna+bdna.4_5us.fitperfect.xtc /home/yizaochen/codes/dna_rna/collect_folder_to_multiscale/atat_21mer/4_5us/bdna+bdna.all.fitperfect.xtc\n"
     ]
    }
   ],
   "source": [
    "t_agent.copy_to_collect_folder()"
   ]
  },
  {
   "cell_type": "code",
   "execution_count": 130,
   "metadata": {},
   "outputs": [
    {
     "name": "stdout",
     "output_type": "stream",
     "text": [
      "vmd -pdb /home/yizaochen/codes/dna_rna/collect_folder_to_multiscale/atat_21mer/4_5us/bdna+bdna.perfect.pdb /home/yizaochen/codes/dna_rna/collect_folder_to_multiscale/atat_21mer/4_5us/bdna+bdna.all.fitperfect.xtc\n"
     ]
    }
   ],
   "source": [
    "t_agent.check_pdb_xtc_by_vmd()"
   ]
  },
  {
   "cell_type": "markdown",
   "metadata": {},
   "source": [
    "### Part 3-1: Batch Preparing"
   ]
  },
  {
   "cell_type": "code",
   "execution_count": 131,
   "metadata": {
    "collapsed": true,
    "jupyter": {
     "outputs_hidden": true
    }
   },
   "outputs": [
    {
     "name": "stdout",
     "output_type": "stream",
     "text": [
      "mkdir /home/yizaochen/codes/dna_rna/collect_folder_to_multiscale/tat_1_21mer\n",
      "mkdir /home/yizaochen/codes/dna_rna/collect_folder_to_multiscale/tat_1_21mer/0_1us\n",
      "/usr/bin/gmx editconf -f /home/yizaochen/codes/dna_rna/all_systems/tat_1_21mer/bdna+bdna/input/allatoms/bdna+bdna.perfect.gro -o /home/yizaochen/codes/dna_rna/all_systems/tat_1_21mer/bdna+bdna/input/allatoms/bdna+bdna.perfect.pdb\n",
      "/usr/bin/gmx trjcat -f /home/ytcdata/simulation/tat_1_21mer/bdna+bdna/data/roughtrj/1000/bdna+bdna.nopbc.fit.1.1000.xtc /home/ytcdata/simulation/tat_1_21mer/bdna+bdna/data/roughtrj/1000/bdna+bdna.nopbc.fit.2.1000.xtc /home/ytcdata/simulation/tat_1_21mer/bdna+bdna/data/roughtrj/1000/bdna+bdna.nopbc.fit.3.1000.xtc /home/ytcdata/simulation/tat_1_21mer/bdna+bdna/data/roughtrj/1000/bdna+bdna.nopbc.fit.4.1000.xtc /home/ytcdata/simulation/tat_1_21mer/bdna+bdna/data/roughtrj/1000/bdna+bdna.nopbc.fit.5.1000.xtc /home/ytcdata/simulation/tat_1_21mer/bdna+bdna/data/roughtrj/1000/bdna+bdna.nopbc.fit.6.1000.xtc /home/ytcdata/simulation/tat_1_21mer/bdna+bdna/data/roughtrj/1000/bdna+bdna.nopbc.fit.7.1000.xtc /home/ytcdata/simulation/tat_1_21mer/bdna+bdna/data/roughtrj/1000/bdna+bdna.nopbc.fit.8.1000.xtc /home/ytcdata/simulation/tat_1_21mer/bdna+bdna/data/roughtrj/1000/bdna+bdna.nopbc.fit.9.1000.xtc /home/ytcdata/simulation/tat_1_21mer/bdna+bdna/data/roughtrj/1000/bdna+bdna.nopbc.fit.10.1000.xtc  -o /home/yizaochen/codes/dna_rna/all_systems/tat_1_21mer/bdna+bdna/input/allatoms/bdna+bdna.0_1us.xtc -dt 100\n",
      "echo 0 0 | /usr/bin/gmx trjconv -fit rot+trans -s /home/yizaochen/codes/dna_rna/all_systems/tat_1_21mer/bdna+bdna/input/allatoms/bdna+bdna.perfect.pdb -f /home/yizaochen/codes/dna_rna/all_systems/tat_1_21mer/bdna+bdna/input/allatoms/bdna+bdna.0_1us.xtc -o /home/yizaochen/codes/dna_rna/all_systems/tat_1_21mer/bdna+bdna/input/allatoms/bdna+bdna.0_1us.fitperfect.xtc\n",
      "cp /home/yizaochen/codes/dna_rna/all_systems/tat_1_21mer/bdna+bdna/input/allatoms/bdna+bdna.perfect.pdb /home/yizaochen/codes/dna_rna/collect_folder_to_multiscale/tat_1_21mer/0_1us/bdna+bdna.perfect.pdb\n",
      "cp /home/yizaochen/codes/dna_rna/all_systems/tat_1_21mer/bdna+bdna/input/allatoms/bdna+bdna.0_1us.fitperfect.xtc /home/yizaochen/codes/dna_rna/collect_folder_to_multiscale/tat_1_21mer/0_1us/bdna+bdna.all.fitperfect.xtc\n",
      "/home/yizaochen/codes/dna_rna/collect_folder_to_multiscale/tat_1_21mer exists\n",
      "mkdir /home/yizaochen/codes/dna_rna/collect_folder_to_multiscale/tat_1_21mer/1_2us\n",
      "/usr/bin/gmx editconf -f /home/yizaochen/codes/dna_rna/all_systems/tat_1_21mer/bdna+bdna/input/allatoms/bdna+bdna.perfect.gro -o /home/yizaochen/codes/dna_rna/all_systems/tat_1_21mer/bdna+bdna/input/allatoms/bdna+bdna.perfect.pdb\n",
      "/usr/bin/gmx trjcat -f /home/ytcdata/simulation/tat_1_21mer/bdna+bdna/data/roughtrj/1000/bdna+bdna.nopbc.fit.11.1000.xtc /home/ytcdata/simulation/tat_1_21mer/bdna+bdna/data/roughtrj/1000/bdna+bdna.nopbc.fit.12.1000.xtc /home/ytcdata/simulation/tat_1_21mer/bdna+bdna/data/roughtrj/1000/bdna+bdna.nopbc.fit.13.1000.xtc /home/ytcdata/simulation/tat_1_21mer/bdna+bdna/data/roughtrj/1000/bdna+bdna.nopbc.fit.14.1000.xtc /home/ytcdata/simulation/tat_1_21mer/bdna+bdna/data/roughtrj/1000/bdna+bdna.nopbc.fit.15.1000.xtc /home/ytcdata/simulation/tat_1_21mer/bdna+bdna/data/roughtrj/1000/bdna+bdna.nopbc.fit.16.1000.xtc /home/ytcdata/simulation/tat_1_21mer/bdna+bdna/data/roughtrj/1000/bdna+bdna.nopbc.fit.17.1000.xtc /home/ytcdata/simulation/tat_1_21mer/bdna+bdna/data/roughtrj/1000/bdna+bdna.nopbc.fit.18.1000.xtc /home/ytcdata/simulation/tat_1_21mer/bdna+bdna/data/roughtrj/1000/bdna+bdna.nopbc.fit.19.1000.xtc /home/ytcdata/simulation/tat_1_21mer/bdna+bdna/data/roughtrj/1000/bdna+bdna.nopbc.fit.20.1000.xtc  -o /home/yizaochen/codes/dna_rna/all_systems/tat_1_21mer/bdna+bdna/input/allatoms/bdna+bdna.1_2us.xtc -dt 100\n",
      "echo 0 0 | /usr/bin/gmx trjconv -fit rot+trans -s /home/yizaochen/codes/dna_rna/all_systems/tat_1_21mer/bdna+bdna/input/allatoms/bdna+bdna.perfect.pdb -f /home/yizaochen/codes/dna_rna/all_systems/tat_1_21mer/bdna+bdna/input/allatoms/bdna+bdna.1_2us.xtc -o /home/yizaochen/codes/dna_rna/all_systems/tat_1_21mer/bdna+bdna/input/allatoms/bdna+bdna.1_2us.fitperfect.xtc\n",
      "cp /home/yizaochen/codes/dna_rna/all_systems/tat_1_21mer/bdna+bdna/input/allatoms/bdna+bdna.perfect.pdb /home/yizaochen/codes/dna_rna/collect_folder_to_multiscale/tat_1_21mer/1_2us/bdna+bdna.perfect.pdb\n",
      "cp /home/yizaochen/codes/dna_rna/all_systems/tat_1_21mer/bdna+bdna/input/allatoms/bdna+bdna.1_2us.fitperfect.xtc /home/yizaochen/codes/dna_rna/collect_folder_to_multiscale/tat_1_21mer/1_2us/bdna+bdna.all.fitperfect.xtc\n",
      "/home/yizaochen/codes/dna_rna/collect_folder_to_multiscale/tat_1_21mer exists\n",
      "mkdir /home/yizaochen/codes/dna_rna/collect_folder_to_multiscale/tat_1_21mer/2_3us\n",
      "/usr/bin/gmx editconf -f /home/yizaochen/codes/dna_rna/all_systems/tat_1_21mer/bdna+bdna/input/allatoms/bdna+bdna.perfect.gro -o /home/yizaochen/codes/dna_rna/all_systems/tat_1_21mer/bdna+bdna/input/allatoms/bdna+bdna.perfect.pdb\n",
      "/usr/bin/gmx trjcat -f /home/ytcdata/simulation/tat_1_21mer/bdna+bdna/data/roughtrj/1000/bdna+bdna.nopbc.fit.21.1000.xtc /home/ytcdata/simulation/tat_1_21mer/bdna+bdna/data/roughtrj/1000/bdna+bdna.nopbc.fit.22.1000.xtc /home/ytcdata/simulation/tat_1_21mer/bdna+bdna/data/roughtrj/1000/bdna+bdna.nopbc.fit.23.1000.xtc /home/ytcdata/simulation/tat_1_21mer/bdna+bdna/data/roughtrj/1000/bdna+bdna.nopbc.fit.24.1000.xtc /home/ytcdata/simulation/tat_1_21mer/bdna+bdna/data/roughtrj/1000/bdna+bdna.nopbc.fit.25.1000.xtc /home/ytcdata/simulation/tat_1_21mer/bdna+bdna/data/roughtrj/1000/bdna+bdna.nopbc.fit.26.1000.xtc /home/ytcdata/simulation/tat_1_21mer/bdna+bdna/data/roughtrj/1000/bdna+bdna.nopbc.fit.27.1000.xtc /home/ytcdata/simulation/tat_1_21mer/bdna+bdna/data/roughtrj/1000/bdna+bdna.nopbc.fit.28.1000.xtc /home/ytcdata/simulation/tat_1_21mer/bdna+bdna/data/roughtrj/1000/bdna+bdna.nopbc.fit.29.1000.xtc /home/ytcdata/simulation/tat_1_21mer/bdna+bdna/data/roughtrj/1000/bdna+bdna.nopbc.fit.30.1000.xtc  -o /home/yizaochen/codes/dna_rna/all_systems/tat_1_21mer/bdna+bdna/input/allatoms/bdna+bdna.2_3us.xtc -dt 100\n",
      "echo 0 0 | /usr/bin/gmx trjconv -fit rot+trans -s /home/yizaochen/codes/dna_rna/all_systems/tat_1_21mer/bdna+bdna/input/allatoms/bdna+bdna.perfect.pdb -f /home/yizaochen/codes/dna_rna/all_systems/tat_1_21mer/bdna+bdna/input/allatoms/bdna+bdna.2_3us.xtc -o /home/yizaochen/codes/dna_rna/all_systems/tat_1_21mer/bdna+bdna/input/allatoms/bdna+bdna.2_3us.fitperfect.xtc\n",
      "cp /home/yizaochen/codes/dna_rna/all_systems/tat_1_21mer/bdna+bdna/input/allatoms/bdna+bdna.perfect.pdb /home/yizaochen/codes/dna_rna/collect_folder_to_multiscale/tat_1_21mer/2_3us/bdna+bdna.perfect.pdb\n",
      "cp /home/yizaochen/codes/dna_rna/all_systems/tat_1_21mer/bdna+bdna/input/allatoms/bdna+bdna.2_3us.fitperfect.xtc /home/yizaochen/codes/dna_rna/collect_folder_to_multiscale/tat_1_21mer/2_3us/bdna+bdna.all.fitperfect.xtc\n",
      "/home/yizaochen/codes/dna_rna/collect_folder_to_multiscale/tat_1_21mer exists\n",
      "mkdir /home/yizaochen/codes/dna_rna/collect_folder_to_multiscale/tat_1_21mer/3_4us\n",
      "/usr/bin/gmx editconf -f /home/yizaochen/codes/dna_rna/all_systems/tat_1_21mer/bdna+bdna/input/allatoms/bdna+bdna.perfect.gro -o /home/yizaochen/codes/dna_rna/all_systems/tat_1_21mer/bdna+bdna/input/allatoms/bdna+bdna.perfect.pdb\n",
      "/usr/bin/gmx trjcat -f /home/ytcdata/simulation/tat_1_21mer/bdna+bdna/data/roughtrj/1000/bdna+bdna.nopbc.fit.31.1000.xtc /home/ytcdata/simulation/tat_1_21mer/bdna+bdna/data/roughtrj/1000/bdna+bdna.nopbc.fit.32.1000.xtc /home/ytcdata/simulation/tat_1_21mer/bdna+bdna/data/roughtrj/1000/bdna+bdna.nopbc.fit.33.1000.xtc /home/ytcdata/simulation/tat_1_21mer/bdna+bdna/data/roughtrj/1000/bdna+bdna.nopbc.fit.34.1000.xtc /home/ytcdata/simulation/tat_1_21mer/bdna+bdna/data/roughtrj/1000/bdna+bdna.nopbc.fit.35.1000.xtc /home/ytcdata/simulation/tat_1_21mer/bdna+bdna/data/roughtrj/1000/bdna+bdna.nopbc.fit.36.1000.xtc /home/ytcdata/simulation/tat_1_21mer/bdna+bdna/data/roughtrj/1000/bdna+bdna.nopbc.fit.37.1000.xtc /home/ytcdata/simulation/tat_1_21mer/bdna+bdna/data/roughtrj/1000/bdna+bdna.nopbc.fit.38.1000.xtc /home/ytcdata/simulation/tat_1_21mer/bdna+bdna/data/roughtrj/1000/bdna+bdna.nopbc.fit.39.1000.xtc /home/ytcdata/simulation/tat_1_21mer/bdna+bdna/data/roughtrj/1000/bdna+bdna.nopbc.fit.40.1000.xtc  -o /home/yizaochen/codes/dna_rna/all_systems/tat_1_21mer/bdna+bdna/input/allatoms/bdna+bdna.3_4us.xtc -dt 100\n",
      "echo 0 0 | /usr/bin/gmx trjconv -fit rot+trans -s /home/yizaochen/codes/dna_rna/all_systems/tat_1_21mer/bdna+bdna/input/allatoms/bdna+bdna.perfect.pdb -f /home/yizaochen/codes/dna_rna/all_systems/tat_1_21mer/bdna+bdna/input/allatoms/bdna+bdna.3_4us.xtc -o /home/yizaochen/codes/dna_rna/all_systems/tat_1_21mer/bdna+bdna/input/allatoms/bdna+bdna.3_4us.fitperfect.xtc\n",
      "cp /home/yizaochen/codes/dna_rna/all_systems/tat_1_21mer/bdna+bdna/input/allatoms/bdna+bdna.perfect.pdb /home/yizaochen/codes/dna_rna/collect_folder_to_multiscale/tat_1_21mer/3_4us/bdna+bdna.perfect.pdb\n",
      "cp /home/yizaochen/codes/dna_rna/all_systems/tat_1_21mer/bdna+bdna/input/allatoms/bdna+bdna.3_4us.fitperfect.xtc /home/yizaochen/codes/dna_rna/collect_folder_to_multiscale/tat_1_21mer/3_4us/bdna+bdna.all.fitperfect.xtc\n",
      "/home/yizaochen/codes/dna_rna/collect_folder_to_multiscale/tat_1_21mer exists\n",
      "mkdir /home/yizaochen/codes/dna_rna/collect_folder_to_multiscale/tat_1_21mer/4_5us\n",
      "/usr/bin/gmx editconf -f /home/yizaochen/codes/dna_rna/all_systems/tat_1_21mer/bdna+bdna/input/allatoms/bdna+bdna.perfect.gro -o /home/yizaochen/codes/dna_rna/all_systems/tat_1_21mer/bdna+bdna/input/allatoms/bdna+bdna.perfect.pdb\n",
      "/usr/bin/gmx trjcat -f /home/ytcdata/simulation/tat_1_21mer/bdna+bdna/data/roughtrj/1000/bdna+bdna.nopbc.fit.41.1000.xtc /home/ytcdata/simulation/tat_1_21mer/bdna+bdna/data/roughtrj/1000/bdna+bdna.nopbc.fit.42.1000.xtc /home/ytcdata/simulation/tat_1_21mer/bdna+bdna/data/roughtrj/1000/bdna+bdna.nopbc.fit.43.1000.xtc /home/ytcdata/simulation/tat_1_21mer/bdna+bdna/data/roughtrj/1000/bdna+bdna.nopbc.fit.44.1000.xtc /home/ytcdata/simulation/tat_1_21mer/bdna+bdna/data/roughtrj/1000/bdna+bdna.nopbc.fit.45.1000.xtc /home/ytcdata/simulation/tat_1_21mer/bdna+bdna/data/roughtrj/1000/bdna+bdna.nopbc.fit.46.1000.xtc /home/ytcdata/simulation/tat_1_21mer/bdna+bdna/data/roughtrj/1000/bdna+bdna.nopbc.fit.47.1000.xtc /home/ytcdata/simulation/tat_1_21mer/bdna+bdna/data/roughtrj/1000/bdna+bdna.nopbc.fit.48.1000.xtc /home/ytcdata/simulation/tat_1_21mer/bdna+bdna/data/roughtrj/1000/bdna+bdna.nopbc.fit.49.1000.xtc /home/ytcdata/simulation/tat_1_21mer/bdna+bdna/data/roughtrj/1000/bdna+bdna.nopbc.fit.50.1000.xtc  -o /home/yizaochen/codes/dna_rna/all_systems/tat_1_21mer/bdna+bdna/input/allatoms/bdna+bdna.4_5us.xtc -dt 100\n",
      "echo 0 0 | /usr/bin/gmx trjconv -fit rot+trans -s /home/yizaochen/codes/dna_rna/all_systems/tat_1_21mer/bdna+bdna/input/allatoms/bdna+bdna.perfect.pdb -f /home/yizaochen/codes/dna_rna/all_systems/tat_1_21mer/bdna+bdna/input/allatoms/bdna+bdna.4_5us.xtc -o /home/yizaochen/codes/dna_rna/all_systems/tat_1_21mer/bdna+bdna/input/allatoms/bdna+bdna.4_5us.fitperfect.xtc\n",
      "cp /home/yizaochen/codes/dna_rna/all_systems/tat_1_21mer/bdna+bdna/input/allatoms/bdna+bdna.perfect.pdb /home/yizaochen/codes/dna_rna/collect_folder_to_multiscale/tat_1_21mer/4_5us/bdna+bdna.perfect.pdb\n",
      "cp /home/yizaochen/codes/dna_rna/all_systems/tat_1_21mer/bdna+bdna/input/allatoms/bdna+bdna.4_5us.fitperfect.xtc /home/yizaochen/codes/dna_rna/collect_folder_to_multiscale/tat_1_21mer/4_5us/bdna+bdna.all.fitperfect.xtc\n",
      "mkdir /home/yizaochen/codes/dna_rna/collect_folder_to_multiscale/tat_2_21mer\n",
      "mkdir /home/yizaochen/codes/dna_rna/collect_folder_to_multiscale/tat_2_21mer/0_1us\n",
      "/usr/bin/gmx editconf -f /home/yizaochen/codes/dna_rna/all_systems/tat_2_21mer/bdna+bdna/input/allatoms/bdna+bdna.perfect.gro -o /home/yizaochen/codes/dna_rna/all_systems/tat_2_21mer/bdna+bdna/input/allatoms/bdna+bdna.perfect.pdb\n",
      "/usr/bin/gmx trjcat -f /home/ytcdata/simulation/tat_2_21mer/bdna+bdna/data/roughtrj/1000/bdna+bdna.nopbc.fit.1.1000.xtc /home/ytcdata/simulation/tat_2_21mer/bdna+bdna/data/roughtrj/1000/bdna+bdna.nopbc.fit.2.1000.xtc /home/ytcdata/simulation/tat_2_21mer/bdna+bdna/data/roughtrj/1000/bdna+bdna.nopbc.fit.3.1000.xtc /home/ytcdata/simulation/tat_2_21mer/bdna+bdna/data/roughtrj/1000/bdna+bdna.nopbc.fit.4.1000.xtc /home/ytcdata/simulation/tat_2_21mer/bdna+bdna/data/roughtrj/1000/bdna+bdna.nopbc.fit.5.1000.xtc /home/ytcdata/simulation/tat_2_21mer/bdna+bdna/data/roughtrj/1000/bdna+bdna.nopbc.fit.6.1000.xtc /home/ytcdata/simulation/tat_2_21mer/bdna+bdna/data/roughtrj/1000/bdna+bdna.nopbc.fit.7.1000.xtc /home/ytcdata/simulation/tat_2_21mer/bdna+bdna/data/roughtrj/1000/bdna+bdna.nopbc.fit.8.1000.xtc /home/ytcdata/simulation/tat_2_21mer/bdna+bdna/data/roughtrj/1000/bdna+bdna.nopbc.fit.9.1000.xtc /home/ytcdata/simulation/tat_2_21mer/bdna+bdna/data/roughtrj/1000/bdna+bdna.nopbc.fit.10.1000.xtc  -o /home/yizaochen/codes/dna_rna/all_systems/tat_2_21mer/bdna+bdna/input/allatoms/bdna+bdna.0_1us.xtc -dt 100\n",
      "echo 0 0 | /usr/bin/gmx trjconv -fit rot+trans -s /home/yizaochen/codes/dna_rna/all_systems/tat_2_21mer/bdna+bdna/input/allatoms/bdna+bdna.perfect.pdb -f /home/yizaochen/codes/dna_rna/all_systems/tat_2_21mer/bdna+bdna/input/allatoms/bdna+bdna.0_1us.xtc -o /home/yizaochen/codes/dna_rna/all_systems/tat_2_21mer/bdna+bdna/input/allatoms/bdna+bdna.0_1us.fitperfect.xtc\n",
      "cp /home/yizaochen/codes/dna_rna/all_systems/tat_2_21mer/bdna+bdna/input/allatoms/bdna+bdna.perfect.pdb /home/yizaochen/codes/dna_rna/collect_folder_to_multiscale/tat_2_21mer/0_1us/bdna+bdna.perfect.pdb\n",
      "cp /home/yizaochen/codes/dna_rna/all_systems/tat_2_21mer/bdna+bdna/input/allatoms/bdna+bdna.0_1us.fitperfect.xtc /home/yizaochen/codes/dna_rna/collect_folder_to_multiscale/tat_2_21mer/0_1us/bdna+bdna.all.fitperfect.xtc\n",
      "/home/yizaochen/codes/dna_rna/collect_folder_to_multiscale/tat_2_21mer exists\n",
      "mkdir /home/yizaochen/codes/dna_rna/collect_folder_to_multiscale/tat_2_21mer/1_2us\n",
      "/usr/bin/gmx editconf -f /home/yizaochen/codes/dna_rna/all_systems/tat_2_21mer/bdna+bdna/input/allatoms/bdna+bdna.perfect.gro -o /home/yizaochen/codes/dna_rna/all_systems/tat_2_21mer/bdna+bdna/input/allatoms/bdna+bdna.perfect.pdb\n",
      "/usr/bin/gmx trjcat -f /home/ytcdata/simulation/tat_2_21mer/bdna+bdna/data/roughtrj/1000/bdna+bdna.nopbc.fit.11.1000.xtc /home/ytcdata/simulation/tat_2_21mer/bdna+bdna/data/roughtrj/1000/bdna+bdna.nopbc.fit.12.1000.xtc /home/ytcdata/simulation/tat_2_21mer/bdna+bdna/data/roughtrj/1000/bdna+bdna.nopbc.fit.13.1000.xtc /home/ytcdata/simulation/tat_2_21mer/bdna+bdna/data/roughtrj/1000/bdna+bdna.nopbc.fit.14.1000.xtc /home/ytcdata/simulation/tat_2_21mer/bdna+bdna/data/roughtrj/1000/bdna+bdna.nopbc.fit.15.1000.xtc /home/ytcdata/simulation/tat_2_21mer/bdna+bdna/data/roughtrj/1000/bdna+bdna.nopbc.fit.16.1000.xtc /home/ytcdata/simulation/tat_2_21mer/bdna+bdna/data/roughtrj/1000/bdna+bdna.nopbc.fit.17.1000.xtc /home/ytcdata/simulation/tat_2_21mer/bdna+bdna/data/roughtrj/1000/bdna+bdna.nopbc.fit.18.1000.xtc /home/ytcdata/simulation/tat_2_21mer/bdna+bdna/data/roughtrj/1000/bdna+bdna.nopbc.fit.19.1000.xtc /home/ytcdata/simulation/tat_2_21mer/bdna+bdna/data/roughtrj/1000/bdna+bdna.nopbc.fit.20.1000.xtc  -o /home/yizaochen/codes/dna_rna/all_systems/tat_2_21mer/bdna+bdna/input/allatoms/bdna+bdna.1_2us.xtc -dt 100\n",
      "echo 0 0 | /usr/bin/gmx trjconv -fit rot+trans -s /home/yizaochen/codes/dna_rna/all_systems/tat_2_21mer/bdna+bdna/input/allatoms/bdna+bdna.perfect.pdb -f /home/yizaochen/codes/dna_rna/all_systems/tat_2_21mer/bdna+bdna/input/allatoms/bdna+bdna.1_2us.xtc -o /home/yizaochen/codes/dna_rna/all_systems/tat_2_21mer/bdna+bdna/input/allatoms/bdna+bdna.1_2us.fitperfect.xtc\n",
      "cp /home/yizaochen/codes/dna_rna/all_systems/tat_2_21mer/bdna+bdna/input/allatoms/bdna+bdna.perfect.pdb /home/yizaochen/codes/dna_rna/collect_folder_to_multiscale/tat_2_21mer/1_2us/bdna+bdna.perfect.pdb\n",
      "cp /home/yizaochen/codes/dna_rna/all_systems/tat_2_21mer/bdna+bdna/input/allatoms/bdna+bdna.1_2us.fitperfect.xtc /home/yizaochen/codes/dna_rna/collect_folder_to_multiscale/tat_2_21mer/1_2us/bdna+bdna.all.fitperfect.xtc\n",
      "/home/yizaochen/codes/dna_rna/collect_folder_to_multiscale/tat_2_21mer exists\n",
      "mkdir /home/yizaochen/codes/dna_rna/collect_folder_to_multiscale/tat_2_21mer/2_3us\n",
      "/usr/bin/gmx editconf -f /home/yizaochen/codes/dna_rna/all_systems/tat_2_21mer/bdna+bdna/input/allatoms/bdna+bdna.perfect.gro -o /home/yizaochen/codes/dna_rna/all_systems/tat_2_21mer/bdna+bdna/input/allatoms/bdna+bdna.perfect.pdb\n",
      "/usr/bin/gmx trjcat -f /home/ytcdata/simulation/tat_2_21mer/bdna+bdna/data/roughtrj/1000/bdna+bdna.nopbc.fit.21.1000.xtc /home/ytcdata/simulation/tat_2_21mer/bdna+bdna/data/roughtrj/1000/bdna+bdna.nopbc.fit.22.1000.xtc /home/ytcdata/simulation/tat_2_21mer/bdna+bdna/data/roughtrj/1000/bdna+bdna.nopbc.fit.23.1000.xtc /home/ytcdata/simulation/tat_2_21mer/bdna+bdna/data/roughtrj/1000/bdna+bdna.nopbc.fit.24.1000.xtc /home/ytcdata/simulation/tat_2_21mer/bdna+bdna/data/roughtrj/1000/bdna+bdna.nopbc.fit.25.1000.xtc /home/ytcdata/simulation/tat_2_21mer/bdna+bdna/data/roughtrj/1000/bdna+bdna.nopbc.fit.26.1000.xtc /home/ytcdata/simulation/tat_2_21mer/bdna+bdna/data/roughtrj/1000/bdna+bdna.nopbc.fit.27.1000.xtc /home/ytcdata/simulation/tat_2_21mer/bdna+bdna/data/roughtrj/1000/bdna+bdna.nopbc.fit.28.1000.xtc /home/ytcdata/simulation/tat_2_21mer/bdna+bdna/data/roughtrj/1000/bdna+bdna.nopbc.fit.29.1000.xtc /home/ytcdata/simulation/tat_2_21mer/bdna+bdna/data/roughtrj/1000/bdna+bdna.nopbc.fit.30.1000.xtc  -o /home/yizaochen/codes/dna_rna/all_systems/tat_2_21mer/bdna+bdna/input/allatoms/bdna+bdna.2_3us.xtc -dt 100\n",
      "echo 0 0 | /usr/bin/gmx trjconv -fit rot+trans -s /home/yizaochen/codes/dna_rna/all_systems/tat_2_21mer/bdna+bdna/input/allatoms/bdna+bdna.perfect.pdb -f /home/yizaochen/codes/dna_rna/all_systems/tat_2_21mer/bdna+bdna/input/allatoms/bdna+bdna.2_3us.xtc -o /home/yizaochen/codes/dna_rna/all_systems/tat_2_21mer/bdna+bdna/input/allatoms/bdna+bdna.2_3us.fitperfect.xtc\n",
      "cp /home/yizaochen/codes/dna_rna/all_systems/tat_2_21mer/bdna+bdna/input/allatoms/bdna+bdna.perfect.pdb /home/yizaochen/codes/dna_rna/collect_folder_to_multiscale/tat_2_21mer/2_3us/bdna+bdna.perfect.pdb\n",
      "cp /home/yizaochen/codes/dna_rna/all_systems/tat_2_21mer/bdna+bdna/input/allatoms/bdna+bdna.2_3us.fitperfect.xtc /home/yizaochen/codes/dna_rna/collect_folder_to_multiscale/tat_2_21mer/2_3us/bdna+bdna.all.fitperfect.xtc\n",
      "/home/yizaochen/codes/dna_rna/collect_folder_to_multiscale/tat_2_21mer exists\n",
      "mkdir /home/yizaochen/codes/dna_rna/collect_folder_to_multiscale/tat_2_21mer/3_4us\n",
      "/usr/bin/gmx editconf -f /home/yizaochen/codes/dna_rna/all_systems/tat_2_21mer/bdna+bdna/input/allatoms/bdna+bdna.perfect.gro -o /home/yizaochen/codes/dna_rna/all_systems/tat_2_21mer/bdna+bdna/input/allatoms/bdna+bdna.perfect.pdb\n",
      "/usr/bin/gmx trjcat -f /home/ytcdata/simulation/tat_2_21mer/bdna+bdna/data/roughtrj/1000/bdna+bdna.nopbc.fit.31.1000.xtc /home/ytcdata/simulation/tat_2_21mer/bdna+bdna/data/roughtrj/1000/bdna+bdna.nopbc.fit.32.1000.xtc /home/ytcdata/simulation/tat_2_21mer/bdna+bdna/data/roughtrj/1000/bdna+bdna.nopbc.fit.33.1000.xtc /home/ytcdata/simulation/tat_2_21mer/bdna+bdna/data/roughtrj/1000/bdna+bdna.nopbc.fit.34.1000.xtc /home/ytcdata/simulation/tat_2_21mer/bdna+bdna/data/roughtrj/1000/bdna+bdna.nopbc.fit.35.1000.xtc /home/ytcdata/simulation/tat_2_21mer/bdna+bdna/data/roughtrj/1000/bdna+bdna.nopbc.fit.36.1000.xtc /home/ytcdata/simulation/tat_2_21mer/bdna+bdna/data/roughtrj/1000/bdna+bdna.nopbc.fit.37.1000.xtc /home/ytcdata/simulation/tat_2_21mer/bdna+bdna/data/roughtrj/1000/bdna+bdna.nopbc.fit.38.1000.xtc /home/ytcdata/simulation/tat_2_21mer/bdna+bdna/data/roughtrj/1000/bdna+bdna.nopbc.fit.39.1000.xtc /home/ytcdata/simulation/tat_2_21mer/bdna+bdna/data/roughtrj/1000/bdna+bdna.nopbc.fit.40.1000.xtc  -o /home/yizaochen/codes/dna_rna/all_systems/tat_2_21mer/bdna+bdna/input/allatoms/bdna+bdna.3_4us.xtc -dt 100\n",
      "echo 0 0 | /usr/bin/gmx trjconv -fit rot+trans -s /home/yizaochen/codes/dna_rna/all_systems/tat_2_21mer/bdna+bdna/input/allatoms/bdna+bdna.perfect.pdb -f /home/yizaochen/codes/dna_rna/all_systems/tat_2_21mer/bdna+bdna/input/allatoms/bdna+bdna.3_4us.xtc -o /home/yizaochen/codes/dna_rna/all_systems/tat_2_21mer/bdna+bdna/input/allatoms/bdna+bdna.3_4us.fitperfect.xtc\n",
      "cp /home/yizaochen/codes/dna_rna/all_systems/tat_2_21mer/bdna+bdna/input/allatoms/bdna+bdna.perfect.pdb /home/yizaochen/codes/dna_rna/collect_folder_to_multiscale/tat_2_21mer/3_4us/bdna+bdna.perfect.pdb\n",
      "cp /home/yizaochen/codes/dna_rna/all_systems/tat_2_21mer/bdna+bdna/input/allatoms/bdna+bdna.3_4us.fitperfect.xtc /home/yizaochen/codes/dna_rna/collect_folder_to_multiscale/tat_2_21mer/3_4us/bdna+bdna.all.fitperfect.xtc\n",
      "/home/yizaochen/codes/dna_rna/collect_folder_to_multiscale/tat_2_21mer exists\n",
      "mkdir /home/yizaochen/codes/dna_rna/collect_folder_to_multiscale/tat_2_21mer/4_5us\n",
      "/usr/bin/gmx editconf -f /home/yizaochen/codes/dna_rna/all_systems/tat_2_21mer/bdna+bdna/input/allatoms/bdna+bdna.perfect.gro -o /home/yizaochen/codes/dna_rna/all_systems/tat_2_21mer/bdna+bdna/input/allatoms/bdna+bdna.perfect.pdb\n",
      "/usr/bin/gmx trjcat -f /home/ytcdata/simulation/tat_2_21mer/bdna+bdna/data/roughtrj/1000/bdna+bdna.nopbc.fit.41.1000.xtc /home/ytcdata/simulation/tat_2_21mer/bdna+bdna/data/roughtrj/1000/bdna+bdna.nopbc.fit.42.1000.xtc /home/ytcdata/simulation/tat_2_21mer/bdna+bdna/data/roughtrj/1000/bdna+bdna.nopbc.fit.43.1000.xtc /home/ytcdata/simulation/tat_2_21mer/bdna+bdna/data/roughtrj/1000/bdna+bdna.nopbc.fit.44.1000.xtc /home/ytcdata/simulation/tat_2_21mer/bdna+bdna/data/roughtrj/1000/bdna+bdna.nopbc.fit.45.1000.xtc /home/ytcdata/simulation/tat_2_21mer/bdna+bdna/data/roughtrj/1000/bdna+bdna.nopbc.fit.46.1000.xtc /home/ytcdata/simulation/tat_2_21mer/bdna+bdna/data/roughtrj/1000/bdna+bdna.nopbc.fit.47.1000.xtc /home/ytcdata/simulation/tat_2_21mer/bdna+bdna/data/roughtrj/1000/bdna+bdna.nopbc.fit.48.1000.xtc /home/ytcdata/simulation/tat_2_21mer/bdna+bdna/data/roughtrj/1000/bdna+bdna.nopbc.fit.49.1000.xtc /home/ytcdata/simulation/tat_2_21mer/bdna+bdna/data/roughtrj/1000/bdna+bdna.nopbc.fit.50.1000.xtc  -o /home/yizaochen/codes/dna_rna/all_systems/tat_2_21mer/bdna+bdna/input/allatoms/bdna+bdna.4_5us.xtc -dt 100\n",
      "echo 0 0 | /usr/bin/gmx trjconv -fit rot+trans -s /home/yizaochen/codes/dna_rna/all_systems/tat_2_21mer/bdna+bdna/input/allatoms/bdna+bdna.perfect.pdb -f /home/yizaochen/codes/dna_rna/all_systems/tat_2_21mer/bdna+bdna/input/allatoms/bdna+bdna.4_5us.xtc -o /home/yizaochen/codes/dna_rna/all_systems/tat_2_21mer/bdna+bdna/input/allatoms/bdna+bdna.4_5us.fitperfect.xtc\n",
      "cp /home/yizaochen/codes/dna_rna/all_systems/tat_2_21mer/bdna+bdna/input/allatoms/bdna+bdna.perfect.pdb /home/yizaochen/codes/dna_rna/collect_folder_to_multiscale/tat_2_21mer/4_5us/bdna+bdna.perfect.pdb\n",
      "cp /home/yizaochen/codes/dna_rna/all_systems/tat_2_21mer/bdna+bdna/input/allatoms/bdna+bdna.4_5us.fitperfect.xtc /home/yizaochen/codes/dna_rna/collect_folder_to_multiscale/tat_2_21mer/4_5us/bdna+bdna.all.fitperfect.xtc\n",
      "mkdir /home/yizaochen/codes/dna_rna/collect_folder_to_multiscale/tat_3_21mer\n",
      "mkdir /home/yizaochen/codes/dna_rna/collect_folder_to_multiscale/tat_3_21mer/0_1us\n",
      "/usr/bin/gmx editconf -f /home/yizaochen/codes/dna_rna/all_systems/tat_3_21mer/bdna+bdna/input/allatoms/bdna+bdna.perfect.gro -o /home/yizaochen/codes/dna_rna/all_systems/tat_3_21mer/bdna+bdna/input/allatoms/bdna+bdna.perfect.pdb\n",
      "/usr/bin/gmx trjcat -f /home/ytcdata/simulation/tat_3_21mer/bdna+bdna/data/roughtrj/1000/bdna+bdna.nopbc.fit.1.1000.xtc /home/ytcdata/simulation/tat_3_21mer/bdna+bdna/data/roughtrj/1000/bdna+bdna.nopbc.fit.2.1000.xtc /home/ytcdata/simulation/tat_3_21mer/bdna+bdna/data/roughtrj/1000/bdna+bdna.nopbc.fit.3.1000.xtc /home/ytcdata/simulation/tat_3_21mer/bdna+bdna/data/roughtrj/1000/bdna+bdna.nopbc.fit.4.1000.xtc /home/ytcdata/simulation/tat_3_21mer/bdna+bdna/data/roughtrj/1000/bdna+bdna.nopbc.fit.5.1000.xtc /home/ytcdata/simulation/tat_3_21mer/bdna+bdna/data/roughtrj/1000/bdna+bdna.nopbc.fit.6.1000.xtc /home/ytcdata/simulation/tat_3_21mer/bdna+bdna/data/roughtrj/1000/bdna+bdna.nopbc.fit.7.1000.xtc /home/ytcdata/simulation/tat_3_21mer/bdna+bdna/data/roughtrj/1000/bdna+bdna.nopbc.fit.8.1000.xtc /home/ytcdata/simulation/tat_3_21mer/bdna+bdna/data/roughtrj/1000/bdna+bdna.nopbc.fit.9.1000.xtc /home/ytcdata/simulation/tat_3_21mer/bdna+bdna/data/roughtrj/1000/bdna+bdna.nopbc.fit.10.1000.xtc  -o /home/yizaochen/codes/dna_rna/all_systems/tat_3_21mer/bdna+bdna/input/allatoms/bdna+bdna.0_1us.xtc -dt 100\n",
      "echo 0 0 | /usr/bin/gmx trjconv -fit rot+trans -s /home/yizaochen/codes/dna_rna/all_systems/tat_3_21mer/bdna+bdna/input/allatoms/bdna+bdna.perfect.pdb -f /home/yizaochen/codes/dna_rna/all_systems/tat_3_21mer/bdna+bdna/input/allatoms/bdna+bdna.0_1us.xtc -o /home/yizaochen/codes/dna_rna/all_systems/tat_3_21mer/bdna+bdna/input/allatoms/bdna+bdna.0_1us.fitperfect.xtc\n",
      "cp /home/yizaochen/codes/dna_rna/all_systems/tat_3_21mer/bdna+bdna/input/allatoms/bdna+bdna.perfect.pdb /home/yizaochen/codes/dna_rna/collect_folder_to_multiscale/tat_3_21mer/0_1us/bdna+bdna.perfect.pdb\n",
      "cp /home/yizaochen/codes/dna_rna/all_systems/tat_3_21mer/bdna+bdna/input/allatoms/bdna+bdna.0_1us.fitperfect.xtc /home/yizaochen/codes/dna_rna/collect_folder_to_multiscale/tat_3_21mer/0_1us/bdna+bdna.all.fitperfect.xtc\n",
      "/home/yizaochen/codes/dna_rna/collect_folder_to_multiscale/tat_3_21mer exists\n",
      "mkdir /home/yizaochen/codes/dna_rna/collect_folder_to_multiscale/tat_3_21mer/1_2us\n",
      "/usr/bin/gmx editconf -f /home/yizaochen/codes/dna_rna/all_systems/tat_3_21mer/bdna+bdna/input/allatoms/bdna+bdna.perfect.gro -o /home/yizaochen/codes/dna_rna/all_systems/tat_3_21mer/bdna+bdna/input/allatoms/bdna+bdna.perfect.pdb\n",
      "/usr/bin/gmx trjcat -f /home/ytcdata/simulation/tat_3_21mer/bdna+bdna/data/roughtrj/1000/bdna+bdna.nopbc.fit.11.1000.xtc /home/ytcdata/simulation/tat_3_21mer/bdna+bdna/data/roughtrj/1000/bdna+bdna.nopbc.fit.12.1000.xtc /home/ytcdata/simulation/tat_3_21mer/bdna+bdna/data/roughtrj/1000/bdna+bdna.nopbc.fit.13.1000.xtc /home/ytcdata/simulation/tat_3_21mer/bdna+bdna/data/roughtrj/1000/bdna+bdna.nopbc.fit.14.1000.xtc /home/ytcdata/simulation/tat_3_21mer/bdna+bdna/data/roughtrj/1000/bdna+bdna.nopbc.fit.15.1000.xtc /home/ytcdata/simulation/tat_3_21mer/bdna+bdna/data/roughtrj/1000/bdna+bdna.nopbc.fit.16.1000.xtc /home/ytcdata/simulation/tat_3_21mer/bdna+bdna/data/roughtrj/1000/bdna+bdna.nopbc.fit.17.1000.xtc /home/ytcdata/simulation/tat_3_21mer/bdna+bdna/data/roughtrj/1000/bdna+bdna.nopbc.fit.18.1000.xtc /home/ytcdata/simulation/tat_3_21mer/bdna+bdna/data/roughtrj/1000/bdna+bdna.nopbc.fit.19.1000.xtc /home/ytcdata/simulation/tat_3_21mer/bdna+bdna/data/roughtrj/1000/bdna+bdna.nopbc.fit.20.1000.xtc  -o /home/yizaochen/codes/dna_rna/all_systems/tat_3_21mer/bdna+bdna/input/allatoms/bdna+bdna.1_2us.xtc -dt 100\n",
      "echo 0 0 | /usr/bin/gmx trjconv -fit rot+trans -s /home/yizaochen/codes/dna_rna/all_systems/tat_3_21mer/bdna+bdna/input/allatoms/bdna+bdna.perfect.pdb -f /home/yizaochen/codes/dna_rna/all_systems/tat_3_21mer/bdna+bdna/input/allatoms/bdna+bdna.1_2us.xtc -o /home/yizaochen/codes/dna_rna/all_systems/tat_3_21mer/bdna+bdna/input/allatoms/bdna+bdna.1_2us.fitperfect.xtc\n",
      "cp /home/yizaochen/codes/dna_rna/all_systems/tat_3_21mer/bdna+bdna/input/allatoms/bdna+bdna.perfect.pdb /home/yizaochen/codes/dna_rna/collect_folder_to_multiscale/tat_3_21mer/1_2us/bdna+bdna.perfect.pdb\n",
      "cp /home/yizaochen/codes/dna_rna/all_systems/tat_3_21mer/bdna+bdna/input/allatoms/bdna+bdna.1_2us.fitperfect.xtc /home/yizaochen/codes/dna_rna/collect_folder_to_multiscale/tat_3_21mer/1_2us/bdna+bdna.all.fitperfect.xtc\n",
      "/home/yizaochen/codes/dna_rna/collect_folder_to_multiscale/tat_3_21mer exists\n",
      "mkdir /home/yizaochen/codes/dna_rna/collect_folder_to_multiscale/tat_3_21mer/2_3us\n",
      "/usr/bin/gmx editconf -f /home/yizaochen/codes/dna_rna/all_systems/tat_3_21mer/bdna+bdna/input/allatoms/bdna+bdna.perfect.gro -o /home/yizaochen/codes/dna_rna/all_systems/tat_3_21mer/bdna+bdna/input/allatoms/bdna+bdna.perfect.pdb\n",
      "/usr/bin/gmx trjcat -f /home/ytcdata/simulation/tat_3_21mer/bdna+bdna/data/roughtrj/1000/bdna+bdna.nopbc.fit.21.1000.xtc /home/ytcdata/simulation/tat_3_21mer/bdna+bdna/data/roughtrj/1000/bdna+bdna.nopbc.fit.22.1000.xtc /home/ytcdata/simulation/tat_3_21mer/bdna+bdna/data/roughtrj/1000/bdna+bdna.nopbc.fit.23.1000.xtc /home/ytcdata/simulation/tat_3_21mer/bdna+bdna/data/roughtrj/1000/bdna+bdna.nopbc.fit.24.1000.xtc /home/ytcdata/simulation/tat_3_21mer/bdna+bdna/data/roughtrj/1000/bdna+bdna.nopbc.fit.25.1000.xtc /home/ytcdata/simulation/tat_3_21mer/bdna+bdna/data/roughtrj/1000/bdna+bdna.nopbc.fit.26.1000.xtc /home/ytcdata/simulation/tat_3_21mer/bdna+bdna/data/roughtrj/1000/bdna+bdna.nopbc.fit.27.1000.xtc /home/ytcdata/simulation/tat_3_21mer/bdna+bdna/data/roughtrj/1000/bdna+bdna.nopbc.fit.28.1000.xtc /home/ytcdata/simulation/tat_3_21mer/bdna+bdna/data/roughtrj/1000/bdna+bdna.nopbc.fit.29.1000.xtc /home/ytcdata/simulation/tat_3_21mer/bdna+bdna/data/roughtrj/1000/bdna+bdna.nopbc.fit.30.1000.xtc  -o /home/yizaochen/codes/dna_rna/all_systems/tat_3_21mer/bdna+bdna/input/allatoms/bdna+bdna.2_3us.xtc -dt 100\n",
      "echo 0 0 | /usr/bin/gmx trjconv -fit rot+trans -s /home/yizaochen/codes/dna_rna/all_systems/tat_3_21mer/bdna+bdna/input/allatoms/bdna+bdna.perfect.pdb -f /home/yizaochen/codes/dna_rna/all_systems/tat_3_21mer/bdna+bdna/input/allatoms/bdna+bdna.2_3us.xtc -o /home/yizaochen/codes/dna_rna/all_systems/tat_3_21mer/bdna+bdna/input/allatoms/bdna+bdna.2_3us.fitperfect.xtc\n",
      "cp /home/yizaochen/codes/dna_rna/all_systems/tat_3_21mer/bdna+bdna/input/allatoms/bdna+bdna.perfect.pdb /home/yizaochen/codes/dna_rna/collect_folder_to_multiscale/tat_3_21mer/2_3us/bdna+bdna.perfect.pdb\n",
      "cp /home/yizaochen/codes/dna_rna/all_systems/tat_3_21mer/bdna+bdna/input/allatoms/bdna+bdna.2_3us.fitperfect.xtc /home/yizaochen/codes/dna_rna/collect_folder_to_multiscale/tat_3_21mer/2_3us/bdna+bdna.all.fitperfect.xtc\n",
      "/home/yizaochen/codes/dna_rna/collect_folder_to_multiscale/tat_3_21mer exists\n",
      "mkdir /home/yizaochen/codes/dna_rna/collect_folder_to_multiscale/tat_3_21mer/3_4us\n",
      "/usr/bin/gmx editconf -f /home/yizaochen/codes/dna_rna/all_systems/tat_3_21mer/bdna+bdna/input/allatoms/bdna+bdna.perfect.gro -o /home/yizaochen/codes/dna_rna/all_systems/tat_3_21mer/bdna+bdna/input/allatoms/bdna+bdna.perfect.pdb\n",
      "/usr/bin/gmx trjcat -f /home/ytcdata/simulation/tat_3_21mer/bdna+bdna/data/roughtrj/1000/bdna+bdna.nopbc.fit.31.1000.xtc /home/ytcdata/simulation/tat_3_21mer/bdna+bdna/data/roughtrj/1000/bdna+bdna.nopbc.fit.32.1000.xtc /home/ytcdata/simulation/tat_3_21mer/bdna+bdna/data/roughtrj/1000/bdna+bdna.nopbc.fit.33.1000.xtc /home/ytcdata/simulation/tat_3_21mer/bdna+bdna/data/roughtrj/1000/bdna+bdna.nopbc.fit.34.1000.xtc /home/ytcdata/simulation/tat_3_21mer/bdna+bdna/data/roughtrj/1000/bdna+bdna.nopbc.fit.35.1000.xtc /home/ytcdata/simulation/tat_3_21mer/bdna+bdna/data/roughtrj/1000/bdna+bdna.nopbc.fit.36.1000.xtc /home/ytcdata/simulation/tat_3_21mer/bdna+bdna/data/roughtrj/1000/bdna+bdna.nopbc.fit.37.1000.xtc /home/ytcdata/simulation/tat_3_21mer/bdna+bdna/data/roughtrj/1000/bdna+bdna.nopbc.fit.38.1000.xtc /home/ytcdata/simulation/tat_3_21mer/bdna+bdna/data/roughtrj/1000/bdna+bdna.nopbc.fit.39.1000.xtc /home/ytcdata/simulation/tat_3_21mer/bdna+bdna/data/roughtrj/1000/bdna+bdna.nopbc.fit.40.1000.xtc  -o /home/yizaochen/codes/dna_rna/all_systems/tat_3_21mer/bdna+bdna/input/allatoms/bdna+bdna.3_4us.xtc -dt 100\n",
      "echo 0 0 | /usr/bin/gmx trjconv -fit rot+trans -s /home/yizaochen/codes/dna_rna/all_systems/tat_3_21mer/bdna+bdna/input/allatoms/bdna+bdna.perfect.pdb -f /home/yizaochen/codes/dna_rna/all_systems/tat_3_21mer/bdna+bdna/input/allatoms/bdna+bdna.3_4us.xtc -o /home/yizaochen/codes/dna_rna/all_systems/tat_3_21mer/bdna+bdna/input/allatoms/bdna+bdna.3_4us.fitperfect.xtc\n",
      "cp /home/yizaochen/codes/dna_rna/all_systems/tat_3_21mer/bdna+bdna/input/allatoms/bdna+bdna.perfect.pdb /home/yizaochen/codes/dna_rna/collect_folder_to_multiscale/tat_3_21mer/3_4us/bdna+bdna.perfect.pdb\n",
      "cp /home/yizaochen/codes/dna_rna/all_systems/tat_3_21mer/bdna+bdna/input/allatoms/bdna+bdna.3_4us.fitperfect.xtc /home/yizaochen/codes/dna_rna/collect_folder_to_multiscale/tat_3_21mer/3_4us/bdna+bdna.all.fitperfect.xtc\n",
      "/home/yizaochen/codes/dna_rna/collect_folder_to_multiscale/tat_3_21mer exists\n",
      "mkdir /home/yizaochen/codes/dna_rna/collect_folder_to_multiscale/tat_3_21mer/4_5us\n",
      "/usr/bin/gmx editconf -f /home/yizaochen/codes/dna_rna/all_systems/tat_3_21mer/bdna+bdna/input/allatoms/bdna+bdna.perfect.gro -o /home/yizaochen/codes/dna_rna/all_systems/tat_3_21mer/bdna+bdna/input/allatoms/bdna+bdna.perfect.pdb\n",
      "/usr/bin/gmx trjcat -f /home/ytcdata/simulation/tat_3_21mer/bdna+bdna/data/roughtrj/1000/bdna+bdna.nopbc.fit.41.1000.xtc /home/ytcdata/simulation/tat_3_21mer/bdna+bdna/data/roughtrj/1000/bdna+bdna.nopbc.fit.42.1000.xtc /home/ytcdata/simulation/tat_3_21mer/bdna+bdna/data/roughtrj/1000/bdna+bdna.nopbc.fit.43.1000.xtc /home/ytcdata/simulation/tat_3_21mer/bdna+bdna/data/roughtrj/1000/bdna+bdna.nopbc.fit.44.1000.xtc /home/ytcdata/simulation/tat_3_21mer/bdna+bdna/data/roughtrj/1000/bdna+bdna.nopbc.fit.45.1000.xtc /home/ytcdata/simulation/tat_3_21mer/bdna+bdna/data/roughtrj/1000/bdna+bdna.nopbc.fit.46.1000.xtc /home/ytcdata/simulation/tat_3_21mer/bdna+bdna/data/roughtrj/1000/bdna+bdna.nopbc.fit.47.1000.xtc /home/ytcdata/simulation/tat_3_21mer/bdna+bdna/data/roughtrj/1000/bdna+bdna.nopbc.fit.48.1000.xtc /home/ytcdata/simulation/tat_3_21mer/bdna+bdna/data/roughtrj/1000/bdna+bdna.nopbc.fit.49.1000.xtc /home/ytcdata/simulation/tat_3_21mer/bdna+bdna/data/roughtrj/1000/bdna+bdna.nopbc.fit.50.1000.xtc  -o /home/yizaochen/codes/dna_rna/all_systems/tat_3_21mer/bdna+bdna/input/allatoms/bdna+bdna.4_5us.xtc -dt 100\n",
      "echo 0 0 | /usr/bin/gmx trjconv -fit rot+trans -s /home/yizaochen/codes/dna_rna/all_systems/tat_3_21mer/bdna+bdna/input/allatoms/bdna+bdna.perfect.pdb -f /home/yizaochen/codes/dna_rna/all_systems/tat_3_21mer/bdna+bdna/input/allatoms/bdna+bdna.4_5us.xtc -o /home/yizaochen/codes/dna_rna/all_systems/tat_3_21mer/bdna+bdna/input/allatoms/bdna+bdna.4_5us.fitperfect.xtc\n",
      "cp /home/yizaochen/codes/dna_rna/all_systems/tat_3_21mer/bdna+bdna/input/allatoms/bdna+bdna.perfect.pdb /home/yizaochen/codes/dna_rna/collect_folder_to_multiscale/tat_3_21mer/4_5us/bdna+bdna.perfect.pdb\n",
      "cp /home/yizaochen/codes/dna_rna/all_systems/tat_3_21mer/bdna+bdna/input/allatoms/bdna+bdna.4_5us.fitperfect.xtc /home/yizaochen/codes/dna_rna/collect_folder_to_multiscale/tat_3_21mer/4_5us/bdna+bdna.all.fitperfect.xtc\n"
     ]
    }
   ],
   "source": [
    "hosts = ['tat_1_21mer', 'tat_2_21mer', 'tat_3_21mer']\n",
    "time_intervals = ['0_1us', '1_2us', '2_3us', '3_4us', '4_5us']\n",
    "for host in hosts:\n",
    "    for time_interval in time_intervals:\n",
    "        t_agent = TransferAgent(allsys_folder, host, time_interval)\n",
    "        t_agent.perfect_gro_to_pdb()        \n",
    "        simu_folder = '/home/ytcdata/simulation'\n",
    "        t_agent.concatenate_trajectory(simu_folder)\n",
    "        t_agent.rmsd_fit_to_perfect()\n",
    "        t_agent.copy_to_collect_folder()        "
   ]
  },
  {
   "cell_type": "markdown",
   "metadata": {},
   "source": [
    "### Part 5: Remove temp xtc"
   ]
  },
  {
   "cell_type": "code",
   "execution_count": 22,
   "metadata": {},
   "outputs": [
    {
     "name": "stdout",
     "output_type": "stream",
     "text": [
      "rm /home/yizaochen/codes/dna_rna/all_systems/a_tract_21mer/bdna+bdna/input/allatoms/bdna+bdna.4_5us.xtc\n",
      "rm /home/yizaochen/codes/dna_rna/all_systems/a_tract_21mer/bdna+bdna/input/allatoms/bdna+bdna.4_5us.fitperfect.xtc\n"
     ]
    }
   ],
   "source": [
    "t_agent.remove_temp_xtc()"
   ]
  },
  {
   "cell_type": "markdown",
   "metadata": {},
   "source": [
    "### Part 6: Compress Input"
   ]
  },
  {
   "cell_type": "code",
   "execution_count": 3,
   "metadata": {},
   "outputs": [
    {
     "name": "stdout",
     "output_type": "stream",
     "text": [
      "Archive /home/yizaochen/codes/dna_rna/collect_folder_to_multiscale/a_tract_21mer/1_2us into /home/yizaochen/codes/dna_rna/collect_folder_to_multiscale/a_tract_21mer/a_tract_21mer.1_2us.zip\n"
     ]
    }
   ],
   "source": [
    "t_agent.compress_input()"
   ]
  },
  {
   "cell_type": "markdown",
   "metadata": {},
   "source": [
    "### Part 7: Transfer to server"
   ]
  },
  {
   "cell_type": "code",
   "execution_count": 4,
   "metadata": {},
   "outputs": [
    {
     "name": "stdout",
     "output_type": "stream",
     "text": [
      "Please excute the following in the terminal:\n",
      "scp /home/yizaochen/codes/dna_rna/collect_folder_to_multiscale/a_tract_21mer/a_tract_21mer.1_2us.zip yizaochen@140.113.120.133:/home/yizaochen/x3dna/paper_2021\n"
     ]
    }
   ],
   "source": [
    "server_ip = '140.113.120.133'\n",
    "t_agent.scp_to_server(server_ip)"
   ]
  },
  {
   "cell_type": "markdown",
   "metadata": {},
   "source": [
    "### Part 8: Decompress in server"
   ]
  },
  {
   "cell_type": "code",
   "execution_count": 3,
   "metadata": {},
   "outputs": [
    {
     "name": "stdout",
     "output_type": "stream",
     "text": [
      "Please excute the following in the terminal:\n",
      "cd /home/yizaochen/x3dna/paper_2021\n",
      "unzip a_tract_21mer.1_2us.zip\n",
      "mv ./1_2us ./a_tract_21mer\n",
      "rm a_tract_21mer.1_2us.zip\n"
     ]
    }
   ],
   "source": [
    "t_agent.decompress_in_server()"
   ]
  },
  {
   "cell_type": "code",
   "execution_count": null,
   "metadata": {},
   "outputs": [],
   "source": []
  }
 ],
 "metadata": {
  "kernelspec": {
   "display_name": "Python 3",
   "language": "python",
   "name": "python3"
  },
  "language_info": {
   "codemirror_mode": {
    "name": "ipython",
    "version": 3
   },
   "file_extension": ".py",
   "mimetype": "text/x-python",
   "name": "python",
   "nbconvert_exporter": "python",
   "pygments_lexer": "ipython3",
   "version": "3.8.5"
  }
 },
 "nbformat": 4,
 "nbformat_minor": 4
}
