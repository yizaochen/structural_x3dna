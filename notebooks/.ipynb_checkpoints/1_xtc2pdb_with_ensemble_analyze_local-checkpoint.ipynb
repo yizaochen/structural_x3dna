{
 "cells": [
  {
   "cell_type": "markdown",
   "metadata": {},
   "source": [
    "## On Local Computer"
   ]
  },
  {
   "cell_type": "code",
   "execution_count": 1,
   "metadata": {},
   "outputs": [],
   "source": [
    "from strucpara.initializeserver import InitialLocalAgent\n",
    "from strucpara.xdna import X3DNALocalAgent"
   ]
  },
  {
   "cell_type": "markdown",
   "metadata": {},
   "source": [
    "### Part 1: xtc2pdb with ensemble analysis"
   ]
  },
  {
   "cell_type": "code",
   "execution_count": 2,
   "metadata": {},
   "outputs": [
    {
     "name": "stdout",
     "output_type": "stream",
     "text": [
      "echo 0 | /usr/bin/gmx trjconv -s /home/yizaochen/codes/dna_rna/collect_folder_to_multiscale/a_tract_21mer/1_2us/bdna+bdna.perfect.pdb -f /home/yizaochen/codes/dna_rna/collect_folder_to_multiscale/a_tract_21mer/1_2us/bdna+bdna.all.fitperfect.xtc -o /home/yizaochen/codes/dna_rna/collect_folder_to_multiscale/a_tract_21mer/1_2us/bdna+bdna.all.fitperfect.pdb\n",
      "Start Find-Pair: /home/yizaochen/codes/dna_rna/collect_folder_to_multiscale/a_tract_21mer/1_2us\n",
      "Start Ensemble Analyze: /home/yizaochen/codes/dna_rna/collect_folder_to_multiscale/a_tract_21mer/1_2us\n",
      "rm /home/yizaochen/codes/dna_rna/collect_folder_to_multiscale/a_tract_21mer/1_2us/bdna+bdna.all.fitperfect.pdb\n",
      "echo 0 | /usr/bin/gmx trjconv -s /home/yizaochen/codes/dna_rna/collect_folder_to_multiscale/a_tract_21mer/2_3us/bdna+bdna.perfect.pdb -f /home/yizaochen/codes/dna_rna/collect_folder_to_multiscale/a_tract_21mer/2_3us/bdna+bdna.all.fitperfect.xtc -o /home/yizaochen/codes/dna_rna/collect_folder_to_multiscale/a_tract_21mer/2_3us/bdna+bdna.all.fitperfect.pdb\n",
      "Start Find-Pair: /home/yizaochen/codes/dna_rna/collect_folder_to_multiscale/a_tract_21mer/2_3us\n",
      "Start Ensemble Analyze: /home/yizaochen/codes/dna_rna/collect_folder_to_multiscale/a_tract_21mer/2_3us\n",
      "rm /home/yizaochen/codes/dna_rna/collect_folder_to_multiscale/a_tract_21mer/2_3us/bdna+bdna.all.fitperfect.pdb\n",
      "echo 0 | /usr/bin/gmx trjconv -s /home/yizaochen/codes/dna_rna/collect_folder_to_multiscale/a_tract_21mer/3_4us/bdna+bdna.perfect.pdb -f /home/yizaochen/codes/dna_rna/collect_folder_to_multiscale/a_tract_21mer/3_4us/bdna+bdna.all.fitperfect.xtc -o /home/yizaochen/codes/dna_rna/collect_folder_to_multiscale/a_tract_21mer/3_4us/bdna+bdna.all.fitperfect.pdb\n",
      "Start Find-Pair: /home/yizaochen/codes/dna_rna/collect_folder_to_multiscale/a_tract_21mer/3_4us\n",
      "Start Ensemble Analyze: /home/yizaochen/codes/dna_rna/collect_folder_to_multiscale/a_tract_21mer/3_4us\n",
      "rm /home/yizaochen/codes/dna_rna/collect_folder_to_multiscale/a_tract_21mer/3_4us/bdna+bdna.all.fitperfect.pdb\n",
      "echo 0 | /usr/bin/gmx trjconv -s /home/yizaochen/codes/dna_rna/collect_folder_to_multiscale/a_tract_21mer/4_5us/bdna+bdna.perfect.pdb -f /home/yizaochen/codes/dna_rna/collect_folder_to_multiscale/a_tract_21mer/4_5us/bdna+bdna.all.fitperfect.xtc -o /home/yizaochen/codes/dna_rna/collect_folder_to_multiscale/a_tract_21mer/4_5us/bdna+bdna.all.fitperfect.pdb\n",
      "Start Find-Pair: /home/yizaochen/codes/dna_rna/collect_folder_to_multiscale/a_tract_21mer/4_5us\n",
      "Start Ensemble Analyze: /home/yizaochen/codes/dna_rna/collect_folder_to_multiscale/a_tract_21mer/4_5us\n",
      "rm /home/yizaochen/codes/dna_rna/collect_folder_to_multiscale/a_tract_21mer/4_5us/bdna+bdna.all.fitperfect.pdb\n",
      "echo 0 | /usr/bin/gmx trjconv -s /home/yizaochen/codes/dna_rna/collect_folder_to_multiscale/g_tract_21mer/1_2us/bdna+bdna.perfect.pdb -f /home/yizaochen/codes/dna_rna/collect_folder_to_multiscale/g_tract_21mer/1_2us/bdna+bdna.all.fitperfect.xtc -o /home/yizaochen/codes/dna_rna/collect_folder_to_multiscale/g_tract_21mer/1_2us/bdna+bdna.all.fitperfect.pdb\n",
      "Start Find-Pair: /home/yizaochen/codes/dna_rna/collect_folder_to_multiscale/g_tract_21mer/1_2us\n",
      "Start Ensemble Analyze: /home/yizaochen/codes/dna_rna/collect_folder_to_multiscale/g_tract_21mer/1_2us\n",
      "rm /home/yizaochen/codes/dna_rna/collect_folder_to_multiscale/g_tract_21mer/1_2us/bdna+bdna.all.fitperfect.pdb\n",
      "echo 0 | /usr/bin/gmx trjconv -s /home/yizaochen/codes/dna_rna/collect_folder_to_multiscale/g_tract_21mer/2_3us/bdna+bdna.perfect.pdb -f /home/yizaochen/codes/dna_rna/collect_folder_to_multiscale/g_tract_21mer/2_3us/bdna+bdna.all.fitperfect.xtc -o /home/yizaochen/codes/dna_rna/collect_folder_to_multiscale/g_tract_21mer/2_3us/bdna+bdna.all.fitperfect.pdb\n",
      "Start Find-Pair: /home/yizaochen/codes/dna_rna/collect_folder_to_multiscale/g_tract_21mer/2_3us\n",
      "Start Ensemble Analyze: /home/yizaochen/codes/dna_rna/collect_folder_to_multiscale/g_tract_21mer/2_3us\n",
      "rm /home/yizaochen/codes/dna_rna/collect_folder_to_multiscale/g_tract_21mer/2_3us/bdna+bdna.all.fitperfect.pdb\n",
      "echo 0 | /usr/bin/gmx trjconv -s /home/yizaochen/codes/dna_rna/collect_folder_to_multiscale/g_tract_21mer/3_4us/bdna+bdna.perfect.pdb -f /home/yizaochen/codes/dna_rna/collect_folder_to_multiscale/g_tract_21mer/3_4us/bdna+bdna.all.fitperfect.xtc -o /home/yizaochen/codes/dna_rna/collect_folder_to_multiscale/g_tract_21mer/3_4us/bdna+bdna.all.fitperfect.pdb\n",
      "Start Find-Pair: /home/yizaochen/codes/dna_rna/collect_folder_to_multiscale/g_tract_21mer/3_4us\n",
      "Start Ensemble Analyze: /home/yizaochen/codes/dna_rna/collect_folder_to_multiscale/g_tract_21mer/3_4us\n",
      "rm /home/yizaochen/codes/dna_rna/collect_folder_to_multiscale/g_tract_21mer/3_4us/bdna+bdna.all.fitperfect.pdb\n",
      "echo 0 | /usr/bin/gmx trjconv -s /home/yizaochen/codes/dna_rna/collect_folder_to_multiscale/g_tract_21mer/4_5us/bdna+bdna.perfect.pdb -f /home/yizaochen/codes/dna_rna/collect_folder_to_multiscale/g_tract_21mer/4_5us/bdna+bdna.all.fitperfect.xtc -o /home/yizaochen/codes/dna_rna/collect_folder_to_multiscale/g_tract_21mer/4_5us/bdna+bdna.all.fitperfect.pdb\n",
      "Start Find-Pair: /home/yizaochen/codes/dna_rna/collect_folder_to_multiscale/g_tract_21mer/4_5us\n",
      "Start Ensemble Analyze: /home/yizaochen/codes/dna_rna/collect_folder_to_multiscale/g_tract_21mer/4_5us\n",
      "rm /home/yizaochen/codes/dna_rna/collect_folder_to_multiscale/g_tract_21mer/4_5us/bdna+bdna.all.fitperfect.pdb\n",
      "echo 0 | /usr/bin/gmx trjconv -s /home/yizaochen/codes/dna_rna/collect_folder_to_multiscale/gcgc_21mer/1_2us/bdna+bdna.perfect.pdb -f /home/yizaochen/codes/dna_rna/collect_folder_to_multiscale/gcgc_21mer/1_2us/bdna+bdna.all.fitperfect.xtc -o /home/yizaochen/codes/dna_rna/collect_folder_to_multiscale/gcgc_21mer/1_2us/bdna+bdna.all.fitperfect.pdb\n",
      "Start Find-Pair: /home/yizaochen/codes/dna_rna/collect_folder_to_multiscale/gcgc_21mer/1_2us\n",
      "Start Ensemble Analyze: /home/yizaochen/codes/dna_rna/collect_folder_to_multiscale/gcgc_21mer/1_2us\n",
      "rm /home/yizaochen/codes/dna_rna/collect_folder_to_multiscale/gcgc_21mer/1_2us/bdna+bdna.all.fitperfect.pdb\n",
      "echo 0 | /usr/bin/gmx trjconv -s /home/yizaochen/codes/dna_rna/collect_folder_to_multiscale/gcgc_21mer/2_3us/bdna+bdna.perfect.pdb -f /home/yizaochen/codes/dna_rna/collect_folder_to_multiscale/gcgc_21mer/2_3us/bdna+bdna.all.fitperfect.xtc -o /home/yizaochen/codes/dna_rna/collect_folder_to_multiscale/gcgc_21mer/2_3us/bdna+bdna.all.fitperfect.pdb\n",
      "Start Find-Pair: /home/yizaochen/codes/dna_rna/collect_folder_to_multiscale/gcgc_21mer/2_3us\n",
      "Start Ensemble Analyze: /home/yizaochen/codes/dna_rna/collect_folder_to_multiscale/gcgc_21mer/2_3us\n",
      "rm /home/yizaochen/codes/dna_rna/collect_folder_to_multiscale/gcgc_21mer/2_3us/bdna+bdna.all.fitperfect.pdb\n",
      "echo 0 | /usr/bin/gmx trjconv -s /home/yizaochen/codes/dna_rna/collect_folder_to_multiscale/gcgc_21mer/3_4us/bdna+bdna.perfect.pdb -f /home/yizaochen/codes/dna_rna/collect_folder_to_multiscale/gcgc_21mer/3_4us/bdna+bdna.all.fitperfect.xtc -o /home/yizaochen/codes/dna_rna/collect_folder_to_multiscale/gcgc_21mer/3_4us/bdna+bdna.all.fitperfect.pdb\n",
      "Start Find-Pair: /home/yizaochen/codes/dna_rna/collect_folder_to_multiscale/gcgc_21mer/3_4us\n",
      "Start Ensemble Analyze: /home/yizaochen/codes/dna_rna/collect_folder_to_multiscale/gcgc_21mer/3_4us\n",
      "rm /home/yizaochen/codes/dna_rna/collect_folder_to_multiscale/gcgc_21mer/3_4us/bdna+bdna.all.fitperfect.pdb\n",
      "echo 0 | /usr/bin/gmx trjconv -s /home/yizaochen/codes/dna_rna/collect_folder_to_multiscale/gcgc_21mer/4_5us/bdna+bdna.perfect.pdb -f /home/yizaochen/codes/dna_rna/collect_folder_to_multiscale/gcgc_21mer/4_5us/bdna+bdna.all.fitperfect.xtc -o /home/yizaochen/codes/dna_rna/collect_folder_to_multiscale/gcgc_21mer/4_5us/bdna+bdna.all.fitperfect.pdb\n",
      "Start Find-Pair: /home/yizaochen/codes/dna_rna/collect_folder_to_multiscale/gcgc_21mer/4_5us\n",
      "Start Ensemble Analyze: /home/yizaochen/codes/dna_rna/collect_folder_to_multiscale/gcgc_21mer/4_5us\n",
      "rm /home/yizaochen/codes/dna_rna/collect_folder_to_multiscale/gcgc_21mer/4_5us/bdna+bdna.all.fitperfect.pdb\n"
     ]
    }
   ],
   "source": [
    "hosts = ['a_tract_21mer', 'g_tract_21mer', 'gcgc_21mer']\n",
    "time_intervals = ['1_2us', '2_3us', '3_4us', '4_5us']\n",
    "\n",
    "for host in hosts:\n",
    "    for time_interval in time_intervals:\n",
    "        i_agent = InitialLocalAgent(host, time_interval)\n",
    "        x_agent = X3DNALocalAgent(host, time_interval)\n",
    "        \n",
    "        i_agent.xtc2pdb()\n",
    "        find_pair_out = x_agent.find_pair()\n",
    "        ensemble_out = x_agent.x3dna_ensemble_analyze()\n",
    "        i_agent.remove_out_pdb()"
   ]
  },
  {
   "cell_type": "code",
   "execution_count": 3,
   "metadata": {},
   "outputs": [
    {
     "name": "stdout",
     "output_type": "stream",
     "text": [
      "echo 0 | /usr/bin/gmx trjconv -s /home/yizaochen/codes/dna_rna/collect_folder_to_multiscale/tat_21mer/0_1us/bdna+bdna.perfect.pdb -f /home/yizaochen/codes/dna_rna/collect_folder_to_multiscale/tat_21mer/0_1us/bdna+bdna.all.fitperfect.xtc -o /home/yizaochen/codes/dna_rna/collect_folder_to_multiscale/tat_21mer/0_1us/bdna+bdna.all.fitperfect.pdb\n",
      "Start Find-Pair: /home/yizaochen/codes/dna_rna/collect_folder_to_multiscale/tat_21mer/0_1us\n",
      "Start Ensemble Analyze: /home/yizaochen/codes/dna_rna/collect_folder_to_multiscale/tat_21mer/0_1us\n",
      "rm /home/yizaochen/codes/dna_rna/collect_folder_to_multiscale/tat_21mer/0_1us/bdna+bdna.all.fitperfect.pdb\n",
      "echo 0 | /usr/bin/gmx trjconv -s /home/yizaochen/codes/dna_rna/collect_folder_to_multiscale/tat_21mer/1_2us/bdna+bdna.perfect.pdb -f /home/yizaochen/codes/dna_rna/collect_folder_to_multiscale/tat_21mer/1_2us/bdna+bdna.all.fitperfect.xtc -o /home/yizaochen/codes/dna_rna/collect_folder_to_multiscale/tat_21mer/1_2us/bdna+bdna.all.fitperfect.pdb\n",
      "Start Find-Pair: /home/yizaochen/codes/dna_rna/collect_folder_to_multiscale/tat_21mer/1_2us\n",
      "Start Ensemble Analyze: /home/yizaochen/codes/dna_rna/collect_folder_to_multiscale/tat_21mer/1_2us\n",
      "rm /home/yizaochen/codes/dna_rna/collect_folder_to_multiscale/tat_21mer/1_2us/bdna+bdna.all.fitperfect.pdb\n",
      "echo 0 | /usr/bin/gmx trjconv -s /home/yizaochen/codes/dna_rna/collect_folder_to_multiscale/tat_21mer/2_3us/bdna+bdna.perfect.pdb -f /home/yizaochen/codes/dna_rna/collect_folder_to_multiscale/tat_21mer/2_3us/bdna+bdna.all.fitperfect.xtc -o /home/yizaochen/codes/dna_rna/collect_folder_to_multiscale/tat_21mer/2_3us/bdna+bdna.all.fitperfect.pdb\n",
      "Start Find-Pair: /home/yizaochen/codes/dna_rna/collect_folder_to_multiscale/tat_21mer/2_3us\n",
      "Start Ensemble Analyze: /home/yizaochen/codes/dna_rna/collect_folder_to_multiscale/tat_21mer/2_3us\n",
      "rm /home/yizaochen/codes/dna_rna/collect_folder_to_multiscale/tat_21mer/2_3us/bdna+bdna.all.fitperfect.pdb\n",
      "echo 0 | /usr/bin/gmx trjconv -s /home/yizaochen/codes/dna_rna/collect_folder_to_multiscale/tat_21mer/3_4us/bdna+bdna.perfect.pdb -f /home/yizaochen/codes/dna_rna/collect_folder_to_multiscale/tat_21mer/3_4us/bdna+bdna.all.fitperfect.xtc -o /home/yizaochen/codes/dna_rna/collect_folder_to_multiscale/tat_21mer/3_4us/bdna+bdna.all.fitperfect.pdb\n",
      "Start Find-Pair: /home/yizaochen/codes/dna_rna/collect_folder_to_multiscale/tat_21mer/3_4us\n",
      "Start Ensemble Analyze: /home/yizaochen/codes/dna_rna/collect_folder_to_multiscale/tat_21mer/3_4us\n",
      "rm /home/yizaochen/codes/dna_rna/collect_folder_to_multiscale/tat_21mer/3_4us/bdna+bdna.all.fitperfect.pdb\n",
      "echo 0 | /usr/bin/gmx trjconv -s /home/yizaochen/codes/dna_rna/collect_folder_to_multiscale/tat_21mer/4_5us/bdna+bdna.perfect.pdb -f /home/yizaochen/codes/dna_rna/collect_folder_to_multiscale/tat_21mer/4_5us/bdna+bdna.all.fitperfect.xtc -o /home/yizaochen/codes/dna_rna/collect_folder_to_multiscale/tat_21mer/4_5us/bdna+bdna.all.fitperfect.pdb\n",
      "Start Find-Pair: /home/yizaochen/codes/dna_rna/collect_folder_to_multiscale/tat_21mer/4_5us\n",
      "Start Ensemble Analyze: /home/yizaochen/codes/dna_rna/collect_folder_to_multiscale/tat_21mer/4_5us\n",
      "rm /home/yizaochen/codes/dna_rna/collect_folder_to_multiscale/tat_21mer/4_5us/bdna+bdna.all.fitperfect.pdb\n"
     ]
    }
   ],
   "source": [
    "hosts = ['tat_21mer']\n",
    "time_intervals = ['0_1us', '1_2us', '2_3us', '3_4us', '4_5us']\n",
    "\n",
    "for host in hosts:\n",
    "    for time_interval in time_intervals:\n",
    "        i_agent = InitialLocalAgent(host, time_interval)\n",
    "        x_agent = X3DNALocalAgent(host, time_interval)\n",
    "        \n",
    "        i_agent.xtc2pdb()\n",
    "        find_pair_out = x_agent.find_pair()\n",
    "        ensemble_out = x_agent.x3dna_ensemble_analyze()\n",
    "        i_agent.remove_out_pdb()"
   ]
  },
  {
   "cell_type": "code",
   "execution_count": 4,
   "metadata": {},
   "outputs": [
    {
     "name": "stdout",
     "output_type": "stream",
     "text": [
      "echo 0 | /usr/bin/gmx trjconv -s /home/yizaochen/codes/dna_rna/collect_folder_to_multiscale/atat_21mer/1_2us/bdna+bdna.perfect.pdb -f /home/yizaochen/codes/dna_rna/collect_folder_to_multiscale/atat_21mer/1_2us/bdna+bdna.all.fitperfect.xtc -o /home/yizaochen/codes/dna_rna/collect_folder_to_multiscale/atat_21mer/1_2us/bdna+bdna.all.fitperfect.pdb\n",
      "Start Find-Pair: /home/yizaochen/codes/dna_rna/collect_folder_to_multiscale/atat_21mer/1_2us\n",
      "Start Ensemble Analyze: /home/yizaochen/codes/dna_rna/collect_folder_to_multiscale/atat_21mer/1_2us\n",
      "rm /home/yizaochen/codes/dna_rna/collect_folder_to_multiscale/atat_21mer/1_2us/bdna+bdna.all.fitperfect.pdb\n",
      "echo 0 | /usr/bin/gmx trjconv -s /home/yizaochen/codes/dna_rna/collect_folder_to_multiscale/atat_21mer/2_3us/bdna+bdna.perfect.pdb -f /home/yizaochen/codes/dna_rna/collect_folder_to_multiscale/atat_21mer/2_3us/bdna+bdna.all.fitperfect.xtc -o /home/yizaochen/codes/dna_rna/collect_folder_to_multiscale/atat_21mer/2_3us/bdna+bdna.all.fitperfect.pdb\n",
      "Start Find-Pair: /home/yizaochen/codes/dna_rna/collect_folder_to_multiscale/atat_21mer/2_3us\n",
      "Start Ensemble Analyze: /home/yizaochen/codes/dna_rna/collect_folder_to_multiscale/atat_21mer/2_3us\n",
      "rm /home/yizaochen/codes/dna_rna/collect_folder_to_multiscale/atat_21mer/2_3us/bdna+bdna.all.fitperfect.pdb\n",
      "echo 0 | /usr/bin/gmx trjconv -s /home/yizaochen/codes/dna_rna/collect_folder_to_multiscale/atat_21mer/3_4us/bdna+bdna.perfect.pdb -f /home/yizaochen/codes/dna_rna/collect_folder_to_multiscale/atat_21mer/3_4us/bdna+bdna.all.fitperfect.xtc -o /home/yizaochen/codes/dna_rna/collect_folder_to_multiscale/atat_21mer/3_4us/bdna+bdna.all.fitperfect.pdb\n",
      "Start Find-Pair: /home/yizaochen/codes/dna_rna/collect_folder_to_multiscale/atat_21mer/3_4us\n",
      "Start Ensemble Analyze: /home/yizaochen/codes/dna_rna/collect_folder_to_multiscale/atat_21mer/3_4us\n",
      "rm /home/yizaochen/codes/dna_rna/collect_folder_to_multiscale/atat_21mer/3_4us/bdna+bdna.all.fitperfect.pdb\n",
      "echo 0 | /usr/bin/gmx trjconv -s /home/yizaochen/codes/dna_rna/collect_folder_to_multiscale/atat_21mer/4_5us/bdna+bdna.perfect.pdb -f /home/yizaochen/codes/dna_rna/collect_folder_to_multiscale/atat_21mer/4_5us/bdna+bdna.all.fitperfect.xtc -o /home/yizaochen/codes/dna_rna/collect_folder_to_multiscale/atat_21mer/4_5us/bdna+bdna.all.fitperfect.pdb\n",
      "Start Find-Pair: /home/yizaochen/codes/dna_rna/collect_folder_to_multiscale/atat_21mer/4_5us\n",
      "Start Ensemble Analyze: /home/yizaochen/codes/dna_rna/collect_folder_to_multiscale/atat_21mer/4_5us\n",
      "rm /home/yizaochen/codes/dna_rna/collect_folder_to_multiscale/atat_21mer/4_5us/bdna+bdna.all.fitperfect.pdb\n"
     ]
    }
   ],
   "source": [
    "hosts = ['atat_21mer']\n",
    "time_intervals = ['1_2us', '2_3us', '3_4us', '4_5us']\n",
    "\n",
    "for host in hosts:\n",
    "    for time_interval in time_intervals:\n",
    "        i_agent = InitialLocalAgent(host, time_interval)\n",
    "        x_agent = X3DNALocalAgent(host, time_interval)\n",
    "        \n",
    "        i_agent.xtc2pdb()\n",
    "        find_pair_out = x_agent.find_pair()\n",
    "        ensemble_out = x_agent.x3dna_ensemble_analyze()\n",
    "        i_agent.remove_out_pdb()"
   ]
  },
  {
   "cell_type": "markdown",
   "metadata": {},
   "source": [
    "### Part 2: Move ensemble.out into x3dna-data folder"
   ]
  },
  {
   "cell_type": "code",
   "execution_count": 4,
   "metadata": {},
   "outputs": [
    {
     "name": "stdout",
     "output_type": "stream",
     "text": [
      "mkdir /home/ytcdata/x3dna_data/tat_21mer/0_1us\n",
      "mv /home/yizaochen/codes/dna_rna/collect_folder_to_multiscale/tat_21mer/0_1us/bdna+bdna.ensemble.out /home/ytcdata/x3dna_data/tat_21mer/0_1us/bdna+bdna.ensemble.out\n",
      "mkdir /home/ytcdata/x3dna_data/tat_21mer/1_2us\n",
      "mv /home/yizaochen/codes/dna_rna/collect_folder_to_multiscale/tat_21mer/1_2us/bdna+bdna.ensemble.out /home/ytcdata/x3dna_data/tat_21mer/1_2us/bdna+bdna.ensemble.out\n",
      "mkdir /home/ytcdata/x3dna_data/tat_21mer/2_3us\n",
      "mv /home/yizaochen/codes/dna_rna/collect_folder_to_multiscale/tat_21mer/2_3us/bdna+bdna.ensemble.out /home/ytcdata/x3dna_data/tat_21mer/2_3us/bdna+bdna.ensemble.out\n",
      "mkdir /home/ytcdata/x3dna_data/tat_21mer/3_4us\n",
      "mv /home/yizaochen/codes/dna_rna/collect_folder_to_multiscale/tat_21mer/3_4us/bdna+bdna.ensemble.out /home/ytcdata/x3dna_data/tat_21mer/3_4us/bdna+bdna.ensemble.out\n",
      "mkdir /home/ytcdata/x3dna_data/tat_21mer/4_5us\n",
      "mv /home/yizaochen/codes/dna_rna/collect_folder_to_multiscale/tat_21mer/4_5us/bdna+bdna.ensemble.out /home/ytcdata/x3dna_data/tat_21mer/4_5us/bdna+bdna.ensemble.out\n"
     ]
    }
   ],
   "source": [
    "hosts = ['tat_21mer']\n",
    "time_intervals = ['0_1us', '1_2us', '2_3us', '3_4us', '4_5us']\n",
    "\n",
    "for host in hosts:\n",
    "    for time_interval in time_intervals:\n",
    "        x_agent = X3DNALocalAgent(host, time_interval)\n",
    "        x_agent.move_output_into_x3dna_folder()"
   ]
  },
  {
   "cell_type": "code",
   "execution_count": null,
   "metadata": {},
   "outputs": [],
   "source": []
  }
 ],
 "metadata": {
  "kernelspec": {
   "display_name": "Python 3",
   "language": "python",
   "name": "python3"
  },
  "language_info": {
   "codemirror_mode": {
    "name": "ipython",
    "version": 3
   },
   "file_extension": ".py",
   "mimetype": "text/x-python",
   "name": "python",
   "nbconvert_exporter": "python",
   "pygments_lexer": "ipython3",
   "version": "3.8.5"
  }
 },
 "nbformat": 4,
 "nbformat_minor": 4
}
