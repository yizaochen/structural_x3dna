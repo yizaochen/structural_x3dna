{
 "cells": [
  {
   "cell_type": "code",
   "execution_count": 1,
   "metadata": {},
   "outputs": [],
   "source": [
    "from strucpara.xrays import XrayAgent\n",
    "rootfolder = '/home/yizaochen/codes/structural_x3dna/xrays'"
   ]
  },
  {
   "cell_type": "markdown",
   "metadata": {},
   "source": [
    "### Part 1: Initialize"
   ]
  },
  {
   "cell_type": "code",
   "execution_count": 9,
   "metadata": {},
   "outputs": [
    {
     "name": "stdout",
     "output_type": "stream",
     "text": [
      "mkdir /home/yizaochen/codes/structural_x3dna/xrays/1qp5\n",
      "mkdir /home/yizaochen/codes/structural_x3dna/xrays/1qp5/work\n"
     ]
    }
   ],
   "source": [
    "host = '1qp5'\n",
    "x_agent = XrayAgent(rootfolder, host)"
   ]
  },
  {
   "cell_type": "markdown",
   "metadata": {},
   "source": [
    "### Part 2: Check clean PDB by VMD"
   ]
  },
  {
   "cell_type": "code",
   "execution_count": 10,
   "metadata": {},
   "outputs": [
    {
     "name": "stdout",
     "output_type": "stream",
     "text": [
      "vmd -pdb /home/yizaochen/codes/structural_x3dna/xrays/1qp5/1qp5_clean.pdb\n"
     ]
    }
   ],
   "source": [
    "x_agent.check_clean_pdb_by_vmd()"
   ]
  },
  {
   "cell_type": "code",
   "execution_count": 11,
   "metadata": {},
   "outputs": [
    {
     "name": "stdout",
     "output_type": "stream",
     "text": [
      "cp /home/yizaochen/codes/structural_x3dna/xrays/original_pdbs/1qp5.pdb /home/yizaochen/codes/structural_x3dna/xrays/1qp5/1qp5_clean.pdb\n",
      "vim /home/yizaochen/codes/structural_x3dna/xrays/1qp5/1qp5_clean.pdb\n"
     ]
    }
   ],
   "source": [
    "# Make clean pdb\n",
    "make_clean_pdb = False\n",
    "if make_clean_pdb:\n",
    "    x_agent.make_clean_pdb()"
   ]
  },
  {
   "cell_type": "markdown",
   "metadata": {},
   "source": [
    "### Part 3: Get output file"
   ]
  },
  {
   "cell_type": "code",
   "execution_count": 5,
   "metadata": {},
   "outputs": [
    {
     "name": "stdout",
     "output_type": "stream",
     "text": [
      "/home/yizaochen/opt/x3dna-v2.3/bin/find_pair /home/yizaochen/codes/structural_x3dna/xrays/1dn9/1dn9_clean.pdb /home/yizaochen/codes/structural_x3dna/xrays/1dn9/1dn9.inp\n",
      "/home/yizaochen/opt/x3dna-v2.3/bin/analyze /home/yizaochen/codes/structural_x3dna/xrays/1dn9/1dn9.inp\n"
     ]
    }
   ],
   "source": [
    "x_agent.find_pair()\n",
    "analyze_out = x_agent.analyze()"
   ]
  },
  {
   "cell_type": "markdown",
   "metadata": {},
   "source": [
    "### Part 4: Process output file"
   ]
  },
  {
   "cell_type": "code",
   "execution_count": 6,
   "metadata": {},
   "outputs": [
    {
     "name": "stdout",
     "output_type": "stream",
     "text": [
      "grep -A 13 '^Local base-pair parameters' /home/yizaochen/codes/structural_x3dna/xrays/1dn9/work/1dn9_clean.out > /home/yizaochen/codes/structural_x3dna/xrays/1dn9/local_base_pair.dat\n",
      "grep -A 12 '^Local base-pair step parameters' /home/yizaochen/codes/structural_x3dna/xrays/1dn9/work/1dn9_clean.out > /home/yizaochen/codes/structural_x3dna/xrays/1dn9/local_base_pair_step.dat\n",
      "grep -A 12 '^                  Minor Groove        Major Groove' /home/yizaochen/codes/structural_x3dna/xrays/1dn9/work/1dn9_clean.out > /home/yizaochen/codes/structural_x3dna/xrays/1dn9/major_minor.dat\n"
     ]
    }
   ],
   "source": [
    "x_agent.get_local_base_pair_dat()\n",
    "x_agent.get_local_base_pair_step_dat()\n",
    "x_agent.get_major_minor_dat()"
   ]
  },
  {
   "cell_type": "code",
   "execution_count": 7,
   "metadata": {},
   "outputs": [
    {
     "name": "stdout",
     "output_type": "stream",
     "text": [
      "vim /home/yizaochen/codes/structural_x3dna/xrays/1dn9/local_base_pair.dat\n",
      "vim /home/yizaochen/codes/structural_x3dna/xrays/1dn9/local_base_pair_step.dat\n",
      "vim /home/yizaochen/codes/structural_x3dna/xrays/1dn9/major_minor.dat\n"
     ]
    }
   ],
   "source": [
    "x_agent.vim_three_dats()"
   ]
  },
  {
   "cell_type": "markdown",
   "metadata": {},
   "source": [
    "### Part 5: vim input and output"
   ]
  },
  {
   "cell_type": "code",
   "execution_count": 8,
   "metadata": {},
   "outputs": [
    {
     "name": "stdout",
     "output_type": "stream",
     "text": [
      "vim /home/yizaochen/codes/structural_x3dna/xrays/1dn9/1dn9.inp\n",
      "vim /home/yizaochen/codes/structural_x3dna/xrays/1dn9/work/1dn9_clean.out\n"
     ]
    }
   ],
   "source": [
    "x_agent.vim_inp_and_outfile()"
   ]
  },
  {
   "cell_type": "code",
   "execution_count": null,
   "metadata": {},
   "outputs": [],
   "source": []
  }
 ],
 "metadata": {
  "kernelspec": {
   "display_name": "Python 3",
   "language": "python",
   "name": "python3"
  },
  "language_info": {
   "codemirror_mode": {
    "name": "ipython",
    "version": 3
   },
   "file_extension": ".py",
   "mimetype": "text/x-python",
   "name": "python",
   "nbconvert_exporter": "python",
   "pygments_lexer": "ipython3",
   "version": "3.8.5"
  }
 },
 "nbformat": 4,
 "nbformat_minor": 4
}
