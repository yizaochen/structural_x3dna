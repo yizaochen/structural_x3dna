{
 "cells": [
  {
   "cell_type": "code",
   "execution_count": 1,
   "metadata": {},
   "outputs": [],
   "source": [
    "from strucpara.xrays import XrayCollectAgent\n",
    "import matplotlib.pyplot as plt\n",
    "from matplotlib.patches import Patch\n",
    "rootfolder = '/home/yizaochen/codes/structural_x3dna/xrays'"
   ]
  },
  {
   "cell_type": "markdown",
   "metadata": {},
   "source": [
    "### Part 1: Initialize"
   ]
  },
  {
   "cell_type": "code",
   "execution_count": 2,
   "metadata": {
    "collapsed": true,
    "jupyter": {
     "outputs_hidden": true
    }
   },
   "outputs": [
    {
     "name": "stdout",
     "output_type": "stream",
     "text": [
      "/home/yizaochen/codes/structural_x3dna/xrays/1d98 exists\n",
      "/home/yizaochen/codes/structural_x3dna/xrays/1d98/work exists\n",
      "/home/yizaochen/codes/structural_x3dna/xrays/1d89 exists\n",
      "/home/yizaochen/codes/structural_x3dna/xrays/1d89/work exists\n",
      "/home/yizaochen/codes/structural_x3dna/xrays/1bdn exists\n",
      "/home/yizaochen/codes/structural_x3dna/xrays/1bdn/work exists\n",
      "/home/yizaochen/codes/structural_x3dna/xrays/1fzx exists\n",
      "/home/yizaochen/codes/structural_x3dna/xrays/1fzx/work exists\n",
      "/home/yizaochen/codes/structural_x3dna/xrays/1nev exists\n",
      "/home/yizaochen/codes/structural_x3dna/xrays/1nev/1 exists\n",
      "/home/yizaochen/codes/structural_x3dna/xrays/1nev/1/work exists\n",
      "/home/yizaochen/codes/structural_x3dna/xrays/1nev/2 exists\n",
      "/home/yizaochen/codes/structural_x3dna/xrays/1nev/2/work exists\n",
      "/home/yizaochen/codes/structural_x3dna/xrays/1nev/3 exists\n",
      "/home/yizaochen/codes/structural_x3dna/xrays/1nev/3/work exists\n",
      "/home/yizaochen/codes/structural_x3dna/xrays/1nev/4 exists\n",
      "/home/yizaochen/codes/structural_x3dna/xrays/1nev/4/work exists\n",
      "/home/yizaochen/codes/structural_x3dna/xrays/1nev/5 exists\n",
      "/home/yizaochen/codes/structural_x3dna/xrays/1nev/5/work exists\n",
      "/home/yizaochen/codes/structural_x3dna/xrays/1nev/6 exists\n",
      "/home/yizaochen/codes/structural_x3dna/xrays/1nev/6/work exists\n",
      "/home/yizaochen/codes/structural_x3dna/xrays/1nev/7 exists\n",
      "/home/yizaochen/codes/structural_x3dna/xrays/1nev/7/work exists\n",
      "/home/yizaochen/codes/structural_x3dna/xrays/1nev/8 exists\n",
      "/home/yizaochen/codes/structural_x3dna/xrays/1nev/8/work exists\n",
      "/home/yizaochen/codes/structural_x3dna/xrays/1nev/9 exists\n",
      "/home/yizaochen/codes/structural_x3dna/xrays/1nev/9/work exists\n",
      "/home/yizaochen/codes/structural_x3dna/xrays/1nev/10 exists\n",
      "/home/yizaochen/codes/structural_x3dna/xrays/1nev/10/work exists\n",
      "/home/yizaochen/codes/structural_x3dna/xrays/1d65 exists\n",
      "/home/yizaochen/codes/structural_x3dna/xrays/1d65/work exists\n",
      "/home/yizaochen/codes/structural_x3dna/xrays/167d exists\n",
      "/home/yizaochen/codes/structural_x3dna/xrays/167d/work exists\n",
      "/home/yizaochen/codes/structural_x3dna/xrays/1ilc exists\n",
      "/home/yizaochen/codes/structural_x3dna/xrays/1ilc/work exists\n",
      "/home/yizaochen/codes/structural_x3dna/xrays/2dnd exists\n",
      "/home/yizaochen/codes/structural_x3dna/xrays/2dnd/work exists\n",
      "/home/yizaochen/codes/structural_x3dna/xrays/287d exists\n",
      "/home/yizaochen/codes/structural_x3dna/xrays/287d/work exists\n",
      "/home/yizaochen/codes/structural_x3dna/xrays/1dn9 exists\n",
      "/home/yizaochen/codes/structural_x3dna/xrays/1dn9/work exists\n",
      "/home/yizaochen/codes/structural_x3dna/xrays/1dc0 exists\n",
      "/home/yizaochen/codes/structural_x3dna/xrays/1dc0/work exists\n",
      "/home/yizaochen/codes/structural_x3dna/xrays/1cgc exists\n",
      "/home/yizaochen/codes/structural_x3dna/xrays/1cgc/work exists\n",
      "/home/yizaochen/codes/structural_x3dna/xrays/5mvk exists\n",
      "/home/yizaochen/codes/structural_x3dna/xrays/5mvk/work exists\n"
     ]
    }
   ],
   "source": [
    "x_agent = XrayCollectAgent(rootfolder)"
   ]
  },
  {
   "cell_type": "markdown",
   "metadata": {},
   "source": [
    "### Part 2: Read All Data"
   ]
  },
  {
   "cell_type": "code",
   "execution_count": 3,
   "metadata": {
    "collapsed": true,
    "jupyter": {
     "outputs_hidden": true
    }
   },
   "outputs": [
    {
     "name": "stdout",
     "output_type": "stream",
     "text": [
      "1d98: Read Local Base Pair.\n",
      "1d89: Read Local Base Pair.\n",
      "1bdn: Read Local Base Pair.\n",
      "1fzx: Read Local Base Pair.\n",
      "1nev: Read Local Base Pair.\n",
      "1nev: Read Local Base Pair.\n",
      "1nev: Read Local Base Pair.\n",
      "1nev: Read Local Base Pair.\n",
      "1nev: Read Local Base Pair.\n",
      "1nev: Read Local Base Pair.\n",
      "1nev: Read Local Base Pair.\n",
      "1nev: Read Local Base Pair.\n",
      "1nev: Read Local Base Pair.\n",
      "1nev: Read Local Base Pair.\n",
      "1d65: Read Local Base Pair.\n",
      "167d: Read Local Base Pair.\n",
      "1ilc: Read Local Base Pair.\n",
      "2dnd: Read Local Base Pair.\n",
      "287d: Read Local Base Pair.\n",
      "1dn9: Read Local Base Pair.\n",
      "1dc0: Read Local Base Pair.\n",
      "1cgc: Read Local Base Pair.\n",
      "5mvk: Read Local Base Pair.\n",
      "1d98: Read Local Base Pair Steps.\n",
      "1d89: Read Local Base Pair Steps.\n",
      "1bdn: Read Local Base Pair Steps.\n",
      "1fzx: Read Local Base Pair Steps.\n",
      "1nev: Read Local Base Pair Steps.\n",
      "1nev: Read Local Base Pair Steps.\n",
      "1nev: Read Local Base Pair Steps.\n",
      "1nev: Read Local Base Pair Steps.\n",
      "1nev: Read Local Base Pair Steps.\n",
      "1nev: Read Local Base Pair Steps.\n",
      "1nev: Read Local Base Pair Steps.\n",
      "1nev: Read Local Base Pair Steps.\n",
      "1nev: Read Local Base Pair Steps.\n",
      "1nev: Read Local Base Pair Steps.\n",
      "1d65: Read Local Base Pair Steps.\n",
      "167d: Read Local Base Pair Steps.\n",
      "1ilc: Read Local Base Pair Steps.\n",
      "2dnd: Read Local Base Pair Steps.\n",
      "287d: Read Local Base Pair Steps.\n",
      "1dn9: Read Local Base Pair Steps.\n",
      "1dc0: Read Local Base Pair Steps.\n",
      "1cgc: Read Local Base Pair Steps.\n",
      "5mvk: Read Local Base Pair Steps.\n",
      "1d98: Read Local Base Pair Helical.\n",
      "1d89: Read Local Base Pair Helical.\n",
      "1bdn: Read Local Base Pair Helical.\n",
      "1fzx: Read Local Base Pair Helical.\n",
      "1nev: Read Local Base Pair Helical.\n",
      "1nev: Read Local Base Pair Helical.\n",
      "1nev: Read Local Base Pair Helical.\n",
      "1nev: Read Local Base Pair Helical.\n",
      "1nev: Read Local Base Pair Helical.\n",
      "1nev: Read Local Base Pair Helical.\n",
      "1nev: Read Local Base Pair Helical.\n",
      "1nev: Read Local Base Pair Helical.\n",
      "1nev: Read Local Base Pair Helical.\n",
      "1nev: Read Local Base Pair Helical.\n",
      "1d65: Read Local Base Pair Helical.\n",
      "167d: Read Local Base Pair Helical.\n",
      "1ilc: Read Local Base Pair Helical.\n",
      "2dnd: Read Local Base Pair Helical.\n",
      "287d: Read Local Base Pair Helical.\n",
      "1dn9: Read Local Base Pair Helical.\n",
      "1dc0: Read Local Base Pair Helical.\n",
      "1cgc: Read Local Base Pair Helical.\n",
      "5mvk: Read Local Base Pair Helical.\n",
      "1d98: Read Major Minor Groove Width.\n",
      "1d89: Read Major Minor Groove Width.\n",
      "1bdn: Read Major Minor Groove Width.\n",
      "1fzx: Read Major Minor Groove Width.\n",
      "1nev: Read Major Minor Groove Width.\n",
      "1nev: Read Major Minor Groove Width.\n",
      "1nev: Read Major Minor Groove Width.\n",
      "1nev: Read Major Minor Groove Width.\n",
      "1nev: Read Major Minor Groove Width.\n",
      "1nev: Read Major Minor Groove Width.\n",
      "1nev: Read Major Minor Groove Width.\n",
      "1nev: Read Major Minor Groove Width.\n",
      "1nev: Read Major Minor Groove Width.\n",
      "1nev: Read Major Minor Groove Width.\n",
      "1d65: Read Major Minor Groove Width.\n",
      "167d: Read Major Minor Groove Width.\n",
      "1ilc: Read Major Minor Groove Width.\n",
      "2dnd: Read Major Minor Groove Width.\n",
      "287d: Read Major Minor Groove Width.\n",
      "1dn9: Read Major Minor Groove Width.\n",
      "1dc0: Read Major Minor Groove Width.\n",
      "1cgc: Read Major Minor Groove Width.\n",
      "5mvk: Read Major Minor Groove Width.\n"
     ]
    }
   ],
   "source": [
    "x_agent.read_all_local_base_pair_dat()\n",
    "x_agent.read_all_local_base_pair_step_dat()\n",
    "x_agent.read_all_local_base_pair_h_dat()\n",
    "x_agent.read_all_major_minor_dat()"
   ]
  },
  {
   "cell_type": "markdown",
   "metadata": {},
   "source": [
    "### Part 3: Plot Local Base Pair Parameter"
   ]
  },
  {
   "cell_type": "code",
   "execution_count": 29,
   "metadata": {},
   "outputs": [],
   "source": [
    "parameter = 'opening' # 'shear', 'stretch', 'stagger', 'buckle', 'propeller', 'opening'\n",
    "data = x_agent.get_local_base_pair_data_for_boxplot(parameter)"
   ]
  },
  {
   "cell_type": "code",
   "execution_count": 31,
   "metadata": {},
   "outputs": [
    {
     "data": {
      "image/png": "[encoded data removed]",
      "text/plain": [
       "<Figure size 576x288 with 1 Axes>"
      ]
     },
     "metadata": {
      "needs_background": "light"
     },
     "output_type": "display_data"
    }
   ],
   "source": [
    "fig, ax = plt.subplots(figsize=(8,4))\n",
    "\n",
    "d_position = x_agent.get_box_positions()\n",
    "for group_id in x_agent.group_list:\n",
    "    boxprops = {'facecolor': x_agent.d_colors_group[group_id], 'color': x_agent.d_colors_group[group_id]}\n",
    "    ax.boxplot(data[group_id], widths=0.6, patch_artist=True, boxprops=boxprops, positions=d_position[group_id])\n",
    "ax.set_xticklabels(x_agent.hosts)\n",
    "ax.set_ylabel(parameter, fontsize=14)\n",
    "\n",
    "legends = [Patch(facecolor=x_agent.d_colors_group[group_id], edgecolor=x_agent.d_colors_group[group_id], label=f'{group_id}') for group_id in x_agent.group_list]\n",
    "ax.legend(handles=legends)\n",
    "\n",
    "plt.tight_layout()\n",
    "#plt.savefig(f'/home/yizaochen/Desktop/drawzone_temp/{parameter}.svg')\n",
    "plt.show()"
   ]
  },
  {
   "cell_type": "markdown",
   "metadata": {},
   "source": [
    "### Part 4: Plot Local Base Pair Step Parameter"
   ]
  },
  {
   "cell_type": "code",
   "execution_count": 22,
   "metadata": {},
   "outputs": [],
   "source": [
    "parameter = 'twist' # 'shift', 'slide', 'rise', 'tilt', 'roll', 'twist'\n",
    "data = x_agent.get_local_base_pair_step_data_for_boxplot(parameter)"
   ]
  },
  {
   "cell_type": "code",
   "execution_count": 23,
   "metadata": {},
   "outputs": [
    {
     "data": {
      "image/png": "[encoded data removed]",
      "text/plain": [
       "<Figure size 576x288 with 1 Axes>"
      ]
     },
     "metadata": {
      "needs_background": "light"
     },
     "output_type": "display_data"
    }
   ],
   "source": [
    "fig, ax = plt.subplots(figsize=(8,4))\n",
    "\n",
    "d_position = x_agent.get_box_positions()\n",
    "for group_id in x_agent.group_list:\n",
    "    boxprops = {'facecolor': x_agent.d_colors_group[group_id], 'color': x_agent.d_colors_group[group_id]}\n",
    "    ax.boxplot(data[group_id], widths=0.6, patch_artist=True, boxprops=boxprops, positions=d_position[group_id])\n",
    "ax.set_xticklabels(x_agent.hosts)\n",
    "ax.set_ylabel(parameter, fontsize=14)\n",
    "\n",
    "legends = [Patch(facecolor=x_agent.d_colors_group[group_id], edgecolor=x_agent.d_colors_group[group_id], label=f'{group_id}') for group_id in x_agent.group_list]\n",
    "ax.legend(handles=legends)\n",
    "\n",
    "plt.tight_layout()\n",
    "plt.savefig(f'/home/yizaochen/Desktop/drawzone_temp/{parameter}.svg')\n",
    "plt.show()"
   ]
  },
  {
   "cell_type": "markdown",
   "metadata": {},
   "source": [
    "### Part 5: Plot Local Base Pair Helical Parameter"
   ]
  },
  {
   "cell_type": "code",
   "execution_count": 14,
   "metadata": {},
   "outputs": [],
   "source": [
    "parameter = 'h-Twist' # 'X-disp', 'Y-disp', 'h-Rise', 'Inclination', 'Tip', 'h-Twist'\n",
    "data = x_agent.get_local_base_pair_h_data_for_boxplot(parameter)"
   ]
  },
  {
   "cell_type": "code",
   "execution_count": 15,
   "metadata": {},
   "outputs": [
    {
     "data": {
      "image/png": "[encoded data removed]",
      "text/plain": [
       "<Figure size 576x288 with 1 Axes>"
      ]
     },
     "metadata": {
      "needs_background": "light"
     },
     "output_type": "display_data"
    }
   ],
   "source": [
    "fig, ax = plt.subplots(figsize=(8,4))\n",
    "\n",
    "d_position = x_agent.get_box_positions()\n",
    "for group_id in x_agent.group_list:\n",
    "    boxprops = {'facecolor': x_agent.d_colors_group[group_id], 'color': x_agent.d_colors_group[group_id]}\n",
    "    ax.boxplot(data[group_id], widths=0.6, patch_artist=True, boxprops=boxprops, positions=d_position[group_id])\n",
    "ax.set_xticklabels(x_agent.hosts)\n",
    "ax.set_ylabel(parameter, fontsize=14)\n",
    "\n",
    "legends = [Patch(facecolor=x_agent.d_colors_group[group_id], edgecolor=x_agent.d_colors_group[group_id], label=f'{group_id}') for group_id in x_agent.group_list]\n",
    "ax.legend(handles=legends)\n",
    "\n",
    "plt.tight_layout()\n",
    "plt.savefig(f'/home/yizaochen/Desktop/drawzone_temp/{parameter}.svg')\n",
    "plt.show()"
   ]
  },
  {
   "cell_type": "markdown",
   "metadata": {},
   "source": [
    "### Part 6: Plot Major and Minor Groove Width Parameter"
   ]
  },
  {
   "cell_type": "code",
   "execution_count": 6,
   "metadata": {},
   "outputs": [],
   "source": [
    "parameter = 'Major-P-P' # 'Minor-P-P', 'Minor-Refined', 'Major-P-P',  'Major-Refined'\n",
    "data = x_agent.get_major_minor_data_for_boxplot(parameter)"
   ]
  },
  {
   "cell_type": "code",
   "execution_count": 7,
   "metadata": {},
   "outputs": [
    {
     "data": {
      "image/png": "[encoded data removed]",
      "text/plain": [
       "<Figure size 576x288 with 1 Axes>"
      ]
     },
     "metadata": {
      "needs_background": "light"
     },
     "output_type": "display_data"
    }
   ],
   "source": [
    "fig, ax = plt.subplots(figsize=(8,4))\n",
    "\n",
    "d_position = x_agent.get_box_positions()\n",
    "for group_id in x_agent.group_list:\n",
    "    boxprops = {'facecolor': x_agent.d_colors_group[group_id], 'color': x_agent.d_colors_group[group_id]}\n",
    "    ax.boxplot(data[group_id], widths=0.6, patch_artist=True, boxprops=boxprops, positions=d_position[group_id])\n",
    "ax.set_xticklabels(x_agent.hosts)\n",
    "ax.set_ylabel(parameter, fontsize=14)\n",
    "\n",
    "legends = [Patch(facecolor=x_agent.d_colors_group[group_id], edgecolor=x_agent.d_colors_group[group_id], label=f'{group_id}') for group_id in x_agent.group_list]\n",
    "ax.legend(handles=legends)\n",
    "\n",
    "plt.tight_layout()\n",
    "plt.savefig(f'/home/yizaochen/Desktop/drawzone_temp/{parameter}.svg')\n",
    "plt.show()"
   ]
  },
  {
   "cell_type": "code",
   "execution_count": null,
   "metadata": {},
   "outputs": [],
   "source": []
  }
 ],
 "metadata": {
  "kernelspec": {
   "display_name": "Python 3",
   "language": "python",
   "name": "python3"
  },
  "language_info": {
   "codemirror_mode": {
    "name": "ipython",
    "version": 3
   },
   "file_extension": ".py",
   "mimetype": "text/x-python",
   "name": "python",
   "nbconvert_exporter": "python",
   "pygments_lexer": "ipython3",
   "version": "3.8.5"
  }
 },
 "nbformat": 4,
 "nbformat_minor": 4
}
