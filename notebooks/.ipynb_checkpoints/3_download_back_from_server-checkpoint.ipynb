{
 "cells": [
  {
   "cell_type": "code",
   "execution_count": 1,
   "metadata": {},
   "outputs": [],
   "source": [
    "from strucpara.processing import BasePairAgent\n",
    "import pandas as pd\n",
    "rootfolder = '/home/ytcdata/x3dna_data'"
   ]
  },
  {
   "cell_type": "markdown",
   "metadata": {},
   "source": [
    "### Part 1: Initialize"
   ]
  },
  {
   "cell_type": "code",
   "execution_count": 20,
   "metadata": {},
   "outputs": [
    {
     "name": "stdout",
     "output_type": "stream",
     "text": [
      "mkdir /home/ytcdata/x3dna_data/tgtg_21mer\n",
      "mkdir /home/ytcdata/x3dna_data/tgtg_21mer/0_1us\n"
     ]
    }
   ],
   "source": [
    "host = 'tgtg_21mer'\n",
    "time_interval = '0_1us' # '0_1us', '1_2us', '2_3us', '3_4us', '4_5us'\n",
    "bp_agent = BasePairAgent(rootfolder, host, time_interval)"
   ]
  },
  {
   "cell_type": "markdown",
   "metadata": {},
   "source": [
    "### Part 2: Download bdna+bdna.ensemble.out from server"
   ]
  },
  {
   "cell_type": "code",
   "execution_count": 21,
   "metadata": {},
   "outputs": [
    {
     "name": "stdout",
     "output_type": "stream",
     "text": [
      "Please excute the following in the terminal:\n",
      "scp yizaochen@140.113.120.131:/home/yizaochen/x3dna/paper_2021/tgtg_21mer/0_1us/bdna+bdna.ensemble.out /home/ytcdata/x3dna_data/tgtg_21mer/0_1us/bdna+bdna.ensemble.out\n"
     ]
    }
   ],
   "source": [
    "server_ip = '140.113.120.131'\n",
    "bp_agent.download_ensesmble_out(server_ip)"
   ]
  },
  {
   "cell_type": "markdown",
   "metadata": {},
   "source": [
    "### Additional Part 1: Clean all the dat file"
   ]
  },
  {
   "cell_type": "code",
   "execution_count": null,
   "metadata": {},
   "outputs": [],
   "source": [
    "bp_agent.clean_dat_files()"
   ]
  }
 ],
 "metadata": {
  "kernelspec": {
   "display_name": "Python 3",
   "language": "python",
   "name": "python3"
  },
  "language_info": {
   "codemirror_mode": {
    "name": "ipython",
    "version": 3
   },
   "file_extension": ".py",
   "mimetype": "text/x-python",
   "name": "python",
   "nbconvert_exporter": "python",
   "pygments_lexer": "ipython3",
   "version": "3.8.5"
  }
 },
 "nbformat": 4,
 "nbformat_minor": 4
}
