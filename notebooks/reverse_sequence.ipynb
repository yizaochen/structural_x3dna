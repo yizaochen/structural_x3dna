{
 "cells": [
  {
   "cell_type": "markdown",
   "metadata": {},
   "source": [
    "### Reverse Sequence"
   ]
  },
  {
   "cell_type": "code",
   "execution_count": 1,
   "metadata": {},
   "outputs": [
    {
     "name": "stdout",
     "output_type": "stream",
     "text": [
      "XXUAUACAACCUACUACCUCGU\n"
     ]
    }
   ],
   "source": [
    "seq_3to5 = 'UGCUCCAUCAUCCAACAUAUXX' # Input\n",
    "\n",
    "temp_list = [seq for seq in seq_3to5[::-1]]\n",
    "seq_5to3 = ''.join(temp_list)\n",
    "print(seq_5to3)"
   ]
  },
  {
   "cell_type": "markdown",
   "metadata": {},
   "source": [
    "### Get Complement Sequence"
   ]
  },
  {
   "cell_type": "code",
   "execution_count": 1,
   "metadata": {},
   "outputs": [
    {
     "name": "stdout",
     "output_type": "stream",
     "text": [
      "CGCAATAATAATAATAATGCG\n",
      "CGCATTATTATTATTATTGCG\n"
     ]
    }
   ],
   "source": [
    "d_complement = {'A': 'T', 'C': 'G', 'T': 'A', 'G': 'C'}\n",
    "\n",
    "sense_5to3 = 'CGCAATAATAATAATAATGCG'\n",
    "temp_list = [d_complement[seq] for seq in sense_5to3[::-1]]\n",
    "antisense_5to3 = ''.join(temp_list)\n",
    "print(sense_5to3)\n",
    "print(antisense_5to3)"
   ]
  },
  {
   "cell_type": "code",
   "execution_count": 1,
   "metadata": {},
   "outputs": [
    {
     "name": "stdout",
     "output_type": "stream",
     "text": [
      "CGCAAATTTGCG\n",
      "GCGTTTAAACGC\n"
     ]
    }
   ],
   "source": [
    "d_complement = {'A': 'T', 'C': 'G', 'T': 'A', 'G': 'C'}\n",
    "\n",
    "sense_5to3 = 'CGCAAATTTGCG'\n",
    "temp_list = [d_complement[seq] for seq in sense_5to3]\n",
    "antisense_3to5 = ''.join(temp_list)\n",
    "print(sense_5to3)\n",
    "print(antisense_3to5)"
   ]
  },
  {
   "cell_type": "code",
   "execution_count": null,
   "metadata": {},
   "outputs": [],
   "source": []
  }
 ],
 "metadata": {
  "kernelspec": {
   "display_name": "Python 3",
   "language": "python",
   "name": "python3"
  },
  "language_info": {
   "codemirror_mode": {
    "name": "ipython",
    "version": 3
   },
   "file_extension": ".py",
   "mimetype": "text/x-python",
   "name": "python",
   "nbconvert_exporter": "python",
   "pygments_lexer": "ipython3",
   "version": "3.8.5"
  }
 },
 "nbformat": 4,
 "nbformat_minor": 4
}
