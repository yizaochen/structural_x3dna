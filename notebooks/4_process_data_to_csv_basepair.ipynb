{
 "cells": [
  {
   "cell_type": "code",
   "execution_count": 1,
   "metadata": {},
   "outputs": [],
   "source": [
    "from strucpara.processing import BasePairAgent\n",
    "import pandas as pd\n",
    "rootfolder = '/home/ytcdata/x3dna_data'"
   ]
  },
  {
   "cell_type": "markdown",
   "metadata": {},
   "source": [
    "### Part 1: Initialize"
   ]
  },
  {
   "cell_type": "code",
   "execution_count": 20,
   "metadata": {},
   "outputs": [
    {
     "name": "stdout",
     "output_type": "stream",
     "text": [
      "mkdir /home/ytcdata/x3dna_data/tgtg_21mer\n",
      "mkdir /home/ytcdata/x3dna_data/tgtg_21mer/0_1us\n"
     ]
    }
   ],
   "source": [
    "host = 'tgtg_21mer'\n",
    "time_interval = '0_1us' # '0_1us', '1_2us', '2_3us', '3_4us', '4_5us'\n",
    "bp_agent = BasePairAgent(rootfolder, host, time_interval)"
   ]
  },
  {
   "cell_type": "markdown",
   "metadata": {},
   "source": [
    "### Part 2: Extract BasePair Parameters"
   ]
  },
  {
   "cell_type": "code",
   "execution_count": 22,
   "metadata": {},
   "outputs": [
    {
     "name": "stdout",
     "output_type": "stream",
     "text": [
      "/home/yizaochen/opt/x3dna-v2.3/bin/x3dna_ensemble extract -f /home/ytcdata/x3dna_data/tgtg_21mer/0_1us/bdna+bdna.ensemble.out -p shear -o /home/ytcdata/x3dna_data/tgtg_21mer/0_1us/shear.dat\n",
      "/home/yizaochen/opt/x3dna-v2.3/bin/x3dna_ensemble extract -f /home/ytcdata/x3dna_data/tgtg_21mer/0_1us/bdna+bdna.ensemble.out -p buckle -o /home/ytcdata/x3dna_data/tgtg_21mer/0_1us/buckle.dat\n",
      "/home/yizaochen/opt/x3dna-v2.3/bin/x3dna_ensemble extract -f /home/ytcdata/x3dna_data/tgtg_21mer/0_1us/bdna+bdna.ensemble.out -p stretch -o /home/ytcdata/x3dna_data/tgtg_21mer/0_1us/stretch.dat\n",
      "/home/yizaochen/opt/x3dna-v2.3/bin/x3dna_ensemble extract -f /home/ytcdata/x3dna_data/tgtg_21mer/0_1us/bdna+bdna.ensemble.out -p propeller -o /home/ytcdata/x3dna_data/tgtg_21mer/0_1us/propeller.dat\n",
      "/home/yizaochen/opt/x3dna-v2.3/bin/x3dna_ensemble extract -f /home/ytcdata/x3dna_data/tgtg_21mer/0_1us/bdna+bdna.ensemble.out -p stagger -o /home/ytcdata/x3dna_data/tgtg_21mer/0_1us/stagger.dat\n",
      "/home/yizaochen/opt/x3dna-v2.3/bin/x3dna_ensemble extract -f /home/ytcdata/x3dna_data/tgtg_21mer/0_1us/bdna+bdna.ensemble.out -p opening -o /home/ytcdata/x3dna_data/tgtg_21mer/0_1us/opening.dat\n"
     ]
    }
   ],
   "source": [
    "bp_agent.extract_parameters()"
   ]
  },
  {
   "cell_type": "markdown",
   "metadata": {},
   "source": [
    "### Part 3: Convert dat to csv"
   ]
  },
  {
   "cell_type": "code",
   "execution_count": 23,
   "metadata": {},
   "outputs": [
    {
     "name": "stdout",
     "output_type": "stream",
     "text": [
      "Dataframe to csv: /home/ytcdata/x3dna_data/tgtg_21mer/0_1us/shear.csv\n",
      "Dataframe to csv: /home/ytcdata/x3dna_data/tgtg_21mer/0_1us/buckle.csv\n",
      "Dataframe to csv: /home/ytcdata/x3dna_data/tgtg_21mer/0_1us/stretch.csv\n",
      "Dataframe to csv: /home/ytcdata/x3dna_data/tgtg_21mer/0_1us/propeller.csv\n",
      "Dataframe to csv: /home/ytcdata/x3dna_data/tgtg_21mer/0_1us/stagger.csv\n",
      "Dataframe to csv: /home/ytcdata/x3dna_data/tgtg_21mer/0_1us/opening.csv\n"
     ]
    }
   ],
   "source": [
    "bp_agent.convert_dat_to_csv()"
   ]
  },
  {
   "cell_type": "markdown",
   "metadata": {},
   "source": [
    "### Additional Part 1: Clean all the dat file"
   ]
  },
  {
   "cell_type": "code",
   "execution_count": null,
   "metadata": {},
   "outputs": [],
   "source": [
    "bp_agent.clean_dat_files()"
   ]
  }
 ],
 "metadata": {
  "kernelspec": {
   "display_name": "Python 3",
   "language": "python",
   "name": "python3"
  },
  "language_info": {
   "codemirror_mode": {
    "name": "ipython",
    "version": 3
   },
   "file_extension": ".py",
   "mimetype": "text/x-python",
   "name": "python",
   "nbconvert_exporter": "python",
   "pygments_lexer": "ipython3",
   "version": "3.8.5"
  }
 },
 "nbformat": 4,
 "nbformat_minor": 4
}
