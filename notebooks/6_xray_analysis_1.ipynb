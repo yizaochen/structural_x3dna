{
 "cells": [
  {
   "cell_type": "code",
   "execution_count": 1,
   "metadata": {},
   "outputs": [],
   "source": [
    "from strucpara.xrays import XrayAgent\n",
    "rootfolder = '/home/yizaochen/codes/structural_x3dna/xrays'"
   ]
  },
  {
   "cell_type": "markdown",
   "metadata": {},
   "source": [
    "### Part 1: Initialize"
   ]
  },
  {
   "cell_type": "code",
   "execution_count": 3,
   "metadata": {},
   "outputs": [
    {
     "name": "stdout",
     "output_type": "stream",
     "text": [
      "/home/yizaochen/codes/structural_x3dna/xrays/1d98 exists\n",
      "/home/yizaochen/codes/structural_x3dna/xrays/1d98/work exists\n"
     ]
    }
   ],
   "source": [
    "host = '1d98'\n",
    "x_agent = XrayAgent(rootfolder, host)"
   ]
  },
  {
   "cell_type": "code",
   "execution_count": 3,
   "metadata": {},
   "outputs": [],
   "source": [
    "d_result = x_agent.read_local_base_pair_dat()"
   ]
  },
  {
   "cell_type": "code",
   "execution_count": 4,
   "metadata": {},
   "outputs": [],
   "source": [
    "d_result = x_agent.read_local_base_pair_step_dat()"
   ]
  },
  {
   "cell_type": "code",
   "execution_count": 4,
   "metadata": {},
   "outputs": [
    {
     "data": {
      "text/plain": [
       "{'Minor-P-P': {1: b'0.22',\n",
       "  2: b'0.74',\n",
       "  3: b'-0.32',\n",
       "  4: b'-0.15',\n",
       "  5: b'-0.31',\n",
       "  6: b'0.02',\n",
       "  7: b'0.06',\n",
       "  8: b'-0.45',\n",
       "  9: b'0.73',\n",
       "  10: b'-1.06',\n",
       "  11: b'0.00'},\n",
       " 'Minor-Refined': {1: b'0.01',\n",
       "  2: b'0.29',\n",
       "  3: b'0.85',\n",
       "  4: b'-0.14',\n",
       "  5: b'-0.06',\n",
       "  6: b'-0.77',\n",
       "  7: b'0.19',\n",
       "  8: b'-0.22',\n",
       "  9: b'0.56',\n",
       "  10: b'0.37',\n",
       "  11: b'0.26'},\n",
       " 'Major-P-P': {1: b'3.95',\n",
       "  2: b'3.60',\n",
       "  3: b'3.01',\n",
       "  4: b'3.24',\n",
       "  5: b'3.44',\n",
       "  6: b'3.38',\n",
       "  7: b'3.21',\n",
       "  8: b'3.21',\n",
       "  9: b'3.29',\n",
       "  10: b'3.63',\n",
       "  11: b'3.43'},\n",
       " 'Major-Refined': {1: b'-5.12',\n",
       "  2: b'2.94',\n",
       "  3: b'3.41',\n",
       "  4: b'-1.36',\n",
       "  5: b'1.37',\n",
       "  6: b'7.28',\n",
       "  7: b'-4.78',\n",
       "  8: b'4.27',\n",
       "  9: b'-3.90',\n",
       "  10: b'-5.33',\n",
       "  11: b'4.98'}}"
      ]
     },
     "execution_count": 4,
     "metadata": {},
     "output_type": "execute_result"
    }
   ],
   "source": [
    "d_result = x_agent.read_major_minor_dat()\n",
    "d_result"
   ]
  },
  {
   "cell_type": "markdown",
   "metadata": {},
   "source": [
    "### Part 2: Check clean PDB by VMD"
   ]
  },
  {
   "cell_type": "code",
   "execution_count": 10,
   "metadata": {},
   "outputs": [
    {
     "name": "stdout",
     "output_type": "stream",
     "text": [
      "vmd -pdb /home/yizaochen/codes/structural_x3dna/xrays/1qp5/1qp5_clean.pdb\n"
     ]
    }
   ],
   "source": [
    "x_agent.check_clean_pdb_by_vmd()"
   ]
  },
  {
   "cell_type": "code",
   "execution_count": 11,
   "metadata": {},
   "outputs": [
    {
     "name": "stdout",
     "output_type": "stream",
     "text": [
      "cp /home/yizaochen/codes/structural_x3dna/xrays/original_pdbs/1qp5.pdb /home/yizaochen/codes/structural_x3dna/xrays/1qp5/1qp5_clean.pdb\n",
      "vim /home/yizaochen/codes/structural_x3dna/xrays/1qp5/1qp5_clean.pdb\n"
     ]
    }
   ],
   "source": [
    "# Make clean pdb\n",
    "make_clean_pdb = False\n",
    "if make_clean_pdb:\n",
    "    x_agent.make_clean_pdb()"
   ]
  },
  {
   "cell_type": "markdown",
   "metadata": {},
   "source": [
    "### Part 3: Get output file"
   ]
  },
  {
   "cell_type": "code",
   "execution_count": 5,
   "metadata": {},
   "outputs": [
    {
     "name": "stdout",
     "output_type": "stream",
     "text": [
      "/home/yizaochen/opt/x3dna-v2.3/bin/find_pair /home/yizaochen/codes/structural_x3dna/xrays/1dn9/1dn9_clean.pdb /home/yizaochen/codes/structural_x3dna/xrays/1dn9/1dn9.inp\n",
      "/home/yizaochen/opt/x3dna-v2.3/bin/analyze /home/yizaochen/codes/structural_x3dna/xrays/1dn9/1dn9.inp\n"
     ]
    }
   ],
   "source": [
    "x_agent.find_pair()\n",
    "analyze_out = x_agent.analyze()"
   ]
  },
  {
   "cell_type": "markdown",
   "metadata": {},
   "source": [
    "### Part 4: Process output file"
   ]
  },
  {
   "cell_type": "code",
   "execution_count": 6,
   "metadata": {},
   "outputs": [
    {
     "name": "stdout",
     "output_type": "stream",
     "text": [
      "grep -A 13 '^Local base-pair parameters' /home/yizaochen/codes/structural_x3dna/xrays/1dn9/work/1dn9_clean.out > /home/yizaochen/codes/structural_x3dna/xrays/1dn9/local_base_pair.dat\n",
      "grep -A 12 '^Local base-pair step parameters' /home/yizaochen/codes/structural_x3dna/xrays/1dn9/work/1dn9_clean.out > /home/yizaochen/codes/structural_x3dna/xrays/1dn9/local_base_pair_step.dat\n",
      "grep -A 12 '^                  Minor Groove        Major Groove' /home/yizaochen/codes/structural_x3dna/xrays/1dn9/work/1dn9_clean.out > /home/yizaochen/codes/structural_x3dna/xrays/1dn9/major_minor.dat\n"
     ]
    }
   ],
   "source": [
    "x_agent.get_local_base_pair_dat()\n",
    "x_agent.get_local_base_pair_step_dat()\n",
    "x_agent.get_major_minor_dat()"
   ]
  },
  {
   "cell_type": "code",
   "execution_count": 7,
   "metadata": {},
   "outputs": [
    {
     "name": "stdout",
     "output_type": "stream",
     "text": [
      "vim /home/yizaochen/codes/structural_x3dna/xrays/1dn9/local_base_pair.dat\n",
      "vim /home/yizaochen/codes/structural_x3dna/xrays/1dn9/local_base_pair_step.dat\n",
      "vim /home/yizaochen/codes/structural_x3dna/xrays/1dn9/major_minor.dat\n"
     ]
    }
   ],
   "source": [
    "x_agent.vim_three_dats()"
   ]
  },
  {
   "cell_type": "markdown",
   "metadata": {},
   "source": [
    "### Part 5: vim input and output"
   ]
  },
  {
   "cell_type": "code",
   "execution_count": 8,
   "metadata": {},
   "outputs": [
    {
     "name": "stdout",
     "output_type": "stream",
     "text": [
      "vim /home/yizaochen/codes/structural_x3dna/xrays/1dn9/1dn9.inp\n",
      "vim /home/yizaochen/codes/structural_x3dna/xrays/1dn9/work/1dn9_clean.out\n"
     ]
    }
   ],
   "source": [
    "x_agent.vim_inp_and_outfile()"
   ]
  },
  {
   "cell_type": "code",
   "execution_count": null,
   "metadata": {},
   "outputs": [],
   "source": []
  }
 ],
 "metadata": {
  "kernelspec": {
   "display_name": "Python 3 (ipykernel)",
   "language": "python",
   "name": "python3"
  },
  "language_info": {
   "codemirror_mode": {
    "name": "ipython",
    "version": 3
   },
   "file_extension": ".py",
   "mimetype": "text/x-python",
   "name": "python",
   "nbconvert_exporter": "python",
   "pygments_lexer": "ipython3",
   "version": "3.8.10"
  }
 },
 "nbformat": 4,
 "nbformat_minor": 4
}
