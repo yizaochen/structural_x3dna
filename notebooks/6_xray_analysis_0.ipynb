{
 "cells": [
  {
   "cell_type": "code",
   "execution_count": 1,
   "metadata": {},
   "outputs": [],
   "source": [
    "from strucpara.xrays import XrayAgent\n",
    "rootfolder = '/home/yizaochen/codes/structural_x3dna/xrays'"
   ]
  },
  {
   "cell_type": "markdown",
   "metadata": {},
   "source": [
    "### Part 1: Initialize"
   ]
  },
  {
   "cell_type": "code",
   "execution_count": 9,
   "metadata": {},
   "outputs": [
    {
     "name": "stdout",
     "output_type": "stream",
     "text": [
      "mkdir /home/yizaochen/codes/structural_x3dna/xrays/1qp5\n",
      "mkdir /home/yizaochen/codes/structural_x3dna/xrays/1qp5/work\n"
     ]
    }
   ],
   "source": [
    "host = '1qp5'\n",
    "x_agent = XrayAgent(rootfolder, host)"
   ]
  },
  {
   "cell_type": "markdown",
   "metadata": {},
   "source": [
    "### Part 2: Check clean PDB by VMD"
   ]
  },
  {
   "cell_type": "code",
   "execution_count": 10,
   "metadata": {},
   "outputs": [
    {
     "name": "stdout",
     "output_type": "stream",
     "text": [
      "vmd -pdb /home/yizaochen/codes/structural_x3dna/xrays/1qp5/1qp5_clean.pdb\n"
     ]
    }
   ],
   "source": [
    "x_agent.check_clean_pdb_by_vmd()"
   ]
  },
  {
   "cell_type": "code",
   "execution_count": 11,
   "metadata": {},
   "outputs": [
    {
     "name": "stdout",
     "output_type": "stream",
     "text": [
      "cp /home/yizaochen/codes/structural_x3dna/xrays/original_pdbs/1qp5.pdb /home/yizaochen/codes/structural_x3dna/xrays/1qp5/1qp5_clean.pdb\n",
      "vim /home/yizaochen/codes/structural_x3dna/xrays/1qp5/1qp5_clean.pdb\n"
     ]
    }
   ],
   "source": [
    "# Make clean pdb\n",
    "make_clean_pdb = False\n",
    "if make_clean_pdb:\n",
    "    x_agent.make_clean_pdb()"
   ]
  },
  {
   "cell_type": "markdown",
   "metadata": {},
   "source": [
    "### Part 3: Get output file"
   ]
  },
  {
   "cell_type": "code",
   "execution_count": 5,
   "metadata": {},
   "outputs": [
    {
     "name": "stdout",
     "output_type": "stream",
     "text": [
      "/home/yizaochen/opt/x3dna-v2.3/bin/find_pair /home/yizaochen/codes/structural_x3dna/xrays/1dn9/1dn9_clean.pdb /home/yizaochen/codes/structural_x3dna/xrays/1dn9/1dn9.inp\n",
      "/home/yizaochen/opt/x3dna-v2.3/bin/analyze /home/yizaochen/codes/structural_x3dna/xrays/1dn9/1dn9.inp\n"
     ]
    }
   ],
   "source": [
    "fpair_out = x_agent.find_pair()\n",
    "analyze_out = x_agent.analyze()"
   ]
  },
  {
   "cell_type": "markdown",
   "metadata": {},
   "source": [
    "### Part 4: Process output file"
   ]
  },
  {
   "cell_type": "code",
   "execution_count": 6,
   "metadata": {},
   "outputs": [
    {
     "name": "stdout",
     "output_type": "stream",
     "text": [
      "grep -A 13 '^Local base-pair parameters' /home/yizaochen/codes/structural_x3dna/xrays/1dn9/work/1dn9_clean.out > /home/yizaochen/codes/structural_x3dna/xrays/1dn9/local_base_pair.dat\n",
      "grep -A 12 '^Local base-pair step parameters' /home/yizaochen/codes/structural_x3dna/xrays/1dn9/work/1dn9_clean.out > /home/yizaochen/codes/structural_x3dna/xrays/1dn9/local_base_pair_step.dat\n",
      "grep -A 12 '^                  Minor Groove        Major Groove' /home/yizaochen/codes/structural_x3dna/xrays/1dn9/work/1dn9_clean.out > /home/yizaochen/codes/structural_x3dna/xrays/1dn9/major_minor.dat\n"
     ]
    }
   ],
   "source": [
    "x_agent.get_local_base_pair_dat()\n",
    "x_agent.get_local_base_pair_step_dat()\n",
    "x_agent.get_major_minor_dat()"
   ]
  },
  {
   "cell_type": "code",
   "execution_count": 7,
   "metadata": {},
   "outputs": [
    {
     "name": "stdout",
     "output_type": "stream",
     "text": [
      "vim /home/yizaochen/codes/structural_x3dna/xrays/1dn9/local_base_pair.dat\n",
      "vim /home/yizaochen/codes/structural_x3dna/xrays/1dn9/local_base_pair_step.dat\n",
      "vim /home/yizaochen/codes/structural_x3dna/xrays/1dn9/major_minor.dat\n"
     ]
    }
   ],
   "source": [
    "x_agent.vim_three_dats()"
   ]
  },
  {
   "cell_type": "markdown",
   "metadata": {},
   "source": [
    "### Part 5: vim input and output"
   ]
  },
  {
   "cell_type": "code",
   "execution_count": 8,
   "metadata": {},
   "outputs": [
    {
     "name": "stdout",
     "output_type": "stream",
     "text": [
      "vim /home/yizaochen/codes/structural_x3dna/xrays/1dn9/1dn9.inp\n",
      "vim /home/yizaochen/codes/structural_x3dna/xrays/1dn9/work/1dn9_clean.out\n"
     ]
    }
   ],
   "source": [
    "x_agent.vim_inp_and_outfile()"
   ]
  },
  {
   "cell_type": "markdown",
   "metadata": {},
   "source": [
    "### Batch run"
   ]
  },
  {
   "cell_type": "code",
   "execution_count": 2,
   "metadata": {},
   "outputs": [
    {
     "name": "stdout",
     "output_type": "stream",
     "text": [
      "/home/yizaochen/codes/structural_x3dna/xrays/1d98 exists\n",
      "/home/yizaochen/codes/structural_x3dna/xrays/1d98/work exists\n",
      "grep -A 12 '^Local base-pair helical parameters' /home/yizaochen/codes/structural_x3dna/xrays/1d98/work/1d98_clean.out > /home/yizaochen/codes/structural_x3dna/xrays/1d98/local_base_pair_helical.dat\n",
      "/home/yizaochen/codes/structural_x3dna/xrays/1d89 exists\n",
      "/home/yizaochen/codes/structural_x3dna/xrays/1d89/work exists\n",
      "grep -A 12 '^Local base-pair helical parameters' /home/yizaochen/codes/structural_x3dna/xrays/1d89/work/1d89_clean.out > /home/yizaochen/codes/structural_x3dna/xrays/1d89/local_base_pair_helical.dat\n",
      "/home/yizaochen/codes/structural_x3dna/xrays/1bdn exists\n",
      "/home/yizaochen/codes/structural_x3dna/xrays/1bdn/work exists\n",
      "grep -A 12 '^Local base-pair helical parameters' /home/yizaochen/codes/structural_x3dna/xrays/1bdn/work/1bdn_clean.out > /home/yizaochen/codes/structural_x3dna/xrays/1bdn/local_base_pair_helical.dat\n",
      "/home/yizaochen/codes/structural_x3dna/xrays/1fzx exists\n",
      "/home/yizaochen/codes/structural_x3dna/xrays/1fzx/work exists\n",
      "grep -A 12 '^Local base-pair helical parameters' /home/yizaochen/codes/structural_x3dna/xrays/1fzx/work/1fzx_clean.out > /home/yizaochen/codes/structural_x3dna/xrays/1fzx/local_base_pair_helical.dat\n",
      "/home/yizaochen/codes/structural_x3dna/xrays/1d65 exists\n",
      "/home/yizaochen/codes/structural_x3dna/xrays/1d65/work exists\n",
      "grep -A 12 '^Local base-pair helical parameters' /home/yizaochen/codes/structural_x3dna/xrays/1d65/work/1d65_clean.out > /home/yizaochen/codes/structural_x3dna/xrays/1d65/local_base_pair_helical.dat\n",
      "/home/yizaochen/codes/structural_x3dna/xrays/167d exists\n",
      "/home/yizaochen/codes/structural_x3dna/xrays/167d/work exists\n",
      "grep -A 10 '^Local base-pair helical parameters' /home/yizaochen/codes/structural_x3dna/xrays/167d/work/167d_clean.out > /home/yizaochen/codes/structural_x3dna/xrays/167d/local_base_pair_helical.dat\n",
      "/home/yizaochen/codes/structural_x3dna/xrays/1ilc exists\n",
      "/home/yizaochen/codes/structural_x3dna/xrays/1ilc/work exists\n",
      "grep -A 12 '^Local base-pair helical parameters' /home/yizaochen/codes/structural_x3dna/xrays/1ilc/work/1ilc_clean.out > /home/yizaochen/codes/structural_x3dna/xrays/1ilc/local_base_pair_helical.dat\n",
      "/home/yizaochen/codes/structural_x3dna/xrays/2dnd exists\n",
      "/home/yizaochen/codes/structural_x3dna/xrays/2dnd/work exists\n",
      "grep -A 12 '^Local base-pair helical parameters' /home/yizaochen/codes/structural_x3dna/xrays/2dnd/work/2dnd_clean.out > /home/yizaochen/codes/structural_x3dna/xrays/2dnd/local_base_pair_helical.dat\n",
      "/home/yizaochen/codes/structural_x3dna/xrays/287d exists\n",
      "/home/yizaochen/codes/structural_x3dna/xrays/287d/work exists\n",
      "grep -A 12 '^Local base-pair helical parameters' /home/yizaochen/codes/structural_x3dna/xrays/287d/work/287d_clean.out > /home/yizaochen/codes/structural_x3dna/xrays/287d/local_base_pair_helical.dat\n",
      "/home/yizaochen/codes/structural_x3dna/xrays/1dn9 exists\n",
      "/home/yizaochen/codes/structural_x3dna/xrays/1dn9/work exists\n",
      "grep -A 12 '^Local base-pair helical parameters' /home/yizaochen/codes/structural_x3dna/xrays/1dn9/work/1dn9_clean.out > /home/yizaochen/codes/structural_x3dna/xrays/1dn9/local_base_pair_helical.dat\n",
      "/home/yizaochen/codes/structural_x3dna/xrays/1dc0 exists\n",
      "/home/yizaochen/codes/structural_x3dna/xrays/1dc0/work exists\n",
      "grep -A 12 '^Local base-pair helical parameters' /home/yizaochen/codes/structural_x3dna/xrays/1dc0/work/1dc0_clean.out > /home/yizaochen/codes/structural_x3dna/xrays/1dc0/local_base_pair_helical.dat\n",
      "/home/yizaochen/codes/structural_x3dna/xrays/1cgc exists\n",
      "/home/yizaochen/codes/structural_x3dna/xrays/1cgc/work exists\n",
      "grep -A 10 '^Local base-pair helical parameters' /home/yizaochen/codes/structural_x3dna/xrays/1cgc/work/1cgc_clean.out > /home/yizaochen/codes/structural_x3dna/xrays/1cgc/local_base_pair_helical.dat\n",
      "/home/yizaochen/codes/structural_x3dna/xrays/5mvk exists\n",
      "/home/yizaochen/codes/structural_x3dna/xrays/5mvk/work exists\n",
      "grep -A 12 '^Local base-pair helical parameters' /home/yizaochen/codes/structural_x3dna/xrays/5mvk/work/5mvk_clean.out > /home/yizaochen/codes/structural_x3dna/xrays/5mvk/local_base_pair_helical.dat\n"
     ]
    }
   ],
   "source": [
    "hosts = ['1d98', '1d89', '1bdn', '1fzx', '1d65', '167d', '1ilc', '2dnd', '287d', '1dn9', '1dc0', '1cgc', '5mvk']\n",
    "for host in hosts:\n",
    "    x_agent = XrayAgent(rootfolder, host)\n",
    "    x_agent.get_local_base_pair_h_dat()"
   ]
  },
  {
   "cell_type": "code",
   "execution_count": null,
   "metadata": {},
   "outputs": [],
   "source": []
  }
 ],
 "metadata": {
  "kernelspec": {
   "display_name": "Python 3",
   "language": "python",
   "name": "python3"
  },
  "language_info": {
   "codemirror_mode": {
    "name": "ipython",
    "version": 3
   },
   "file_extension": ".py",
   "mimetype": "text/x-python",
   "name": "python",
   "nbconvert_exporter": "python",
   "pygments_lexer": "ipython3",
   "version": "3.8.5"
  }
 },
 "nbformat": 4,
 "nbformat_minor": 4
}
