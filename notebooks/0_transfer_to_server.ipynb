{
 "cells": [
  {
   "cell_type": "code",
   "execution_count": 1,
   "metadata": {},
   "outputs": [],
   "source": [
    "from strucpara.transfer import TransferAgent\n",
    "allsys_folder = '/home/yizaochen/codes/dna_rna/all_systems'"
   ]
  },
  {
   "cell_type": "markdown",
   "metadata": {},
   "source": [
    "### Part 0: Initialize"
   ]
  },
  {
   "cell_type": "code",
   "execution_count": 2,
   "metadata": {},
   "outputs": [
    {
     "name": "stdout",
     "output_type": "stream",
     "text": [
      "/home/yizaochen/codes/dna_rna/collect_folder_to_multiscale/a_tract_21mer exists\n",
      "/home/yizaochen/codes/dna_rna/collect_folder_to_multiscale/a_tract_21mer/1_2us exists\n"
     ]
    }
   ],
   "source": [
    "host = 'a_tract_21mer'\n",
    "time_interval = '1_2us' # '0_1us', '1_2us', '2_3us', '3_4us', '4_5us'\n",
    "t_agent = TransferAgent(allsys_folder, host, time_interval)"
   ]
  },
  {
   "cell_type": "markdown",
   "metadata": {},
   "source": [
    "### Part 1: Convert perfect.gro to perfect.pdb"
   ]
  },
  {
   "cell_type": "code",
   "execution_count": 3,
   "metadata": {},
   "outputs": [
    {
     "name": "stdout",
     "output_type": "stream",
     "text": [
      "/usr/bin/gmx editconf -f /home/yizaochen/codes/dna_rna/all_systems/a_tract_21mer/bdna+bdna/input/allatoms/bdna+bdna.perfect.gro -o /home/yizaochen/codes/dna_rna/all_systems/a_tract_21mer/bdna+bdna/input/allatoms/bdna+bdna.perfect.pdb\n"
     ]
    }
   ],
   "source": [
    "t_agent.perfect_gro_to_pdb()"
   ]
  },
  {
   "cell_type": "markdown",
   "metadata": {},
   "source": [
    "### Part 2: Concatenate xtc"
   ]
  },
  {
   "cell_type": "code",
   "execution_count": 4,
   "metadata": {},
   "outputs": [
    {
     "name": "stdout",
     "output_type": "stream",
     "text": [
      "/usr/bin/gmx trjcat -f /home/ytcdata/simulation/a_tract_21mer/bdna+bdna/data/roughtrj/1000/bdna+bdna.nopbc.fit.11.1000.xtc /home/ytcdata/simulation/a_tract_21mer/bdna+bdna/data/roughtrj/1000/bdna+bdna.nopbc.fit.12.1000.xtc /home/ytcdata/simulation/a_tract_21mer/bdna+bdna/data/roughtrj/1000/bdna+bdna.nopbc.fit.13.1000.xtc /home/ytcdata/simulation/a_tract_21mer/bdna+bdna/data/roughtrj/1000/bdna+bdna.nopbc.fit.14.1000.xtc /home/ytcdata/simulation/a_tract_21mer/bdna+bdna/data/roughtrj/1000/bdna+bdna.nopbc.fit.15.1000.xtc /home/ytcdata/simulation/a_tract_21mer/bdna+bdna/data/roughtrj/1000/bdna+bdna.nopbc.fit.16.1000.xtc /home/ytcdata/simulation/a_tract_21mer/bdna+bdna/data/roughtrj/1000/bdna+bdna.nopbc.fit.17.1000.xtc /home/ytcdata/simulation/a_tract_21mer/bdna+bdna/data/roughtrj/1000/bdna+bdna.nopbc.fit.18.1000.xtc /home/ytcdata/simulation/a_tract_21mer/bdna+bdna/data/roughtrj/1000/bdna+bdna.nopbc.fit.19.1000.xtc /home/ytcdata/simulation/a_tract_21mer/bdna+bdna/data/roughtrj/1000/bdna+bdna.nopbc.fit.20.1000.xtc  -o /home/yizaochen/codes/dna_rna/all_systems/a_tract_21mer/bdna+bdna/input/allatoms/bdna+bdna.1_2us.xtc -dt 100\n"
     ]
    }
   ],
   "source": [
    "# Concatenate xtc by gmx\n",
    "simu_folder = '/home/ytcdata/simulation'\n",
    "t_agent.concatenate_trajectory(simu_folder)"
   ]
  },
  {
   "cell_type": "markdown",
   "metadata": {},
   "source": [
    "### Part 3: Fitting xtc to perfect structure"
   ]
  },
  {
   "cell_type": "code",
   "execution_count": 6,
   "metadata": {},
   "outputs": [
    {
     "name": "stdout",
     "output_type": "stream",
     "text": [
      "echo 0 0 | /usr/bin/gmx trjconv -fit rot+trans -s /home/yizaochen/codes/dna_rna/all_systems/a_tract_21mer/bdna+bdna/input/allatoms/bdna+bdna.perfect.pdb -f /home/yizaochen/codes/dna_rna/all_systems/a_tract_21mer/bdna+bdna/input/allatoms/bdna+bdna.1_2us.xtc -o /home/yizaochen/codes/dna_rna/all_systems/a_tract_21mer/bdna+bdna/input/allatoms/bdna+bdna.1_2us.fitperfect.xtc\n"
     ]
    }
   ],
   "source": [
    "t_agent.rmsd_fit_to_perfect()"
   ]
  },
  {
   "cell_type": "markdown",
   "metadata": {},
   "source": [
    "### Part 4: Copy to collect folder"
   ]
  },
  {
   "cell_type": "code",
   "execution_count": 7,
   "metadata": {},
   "outputs": [
    {
     "name": "stdout",
     "output_type": "stream",
     "text": [
      "cp /home/yizaochen/codes/dna_rna/all_systems/a_tract_21mer/bdna+bdna/input/allatoms/bdna+bdna.perfect.pdb /home/yizaochen/codes/dna_rna/collect_folder_to_multiscale/a_tract_21mer/1_2us/bdna+bdna.perfect.pdb\n",
      "cp /home/yizaochen/codes/dna_rna/all_systems/a_tract_21mer/bdna+bdna/input/allatoms/bdna+bdna.1_2us.fitperfect.xtc /home/yizaochen/codes/dna_rna/collect_folder_to_multiscale/a_tract_21mer/1_2us/bdna+bdna.all.fitperfect.xtc\n"
     ]
    }
   ],
   "source": [
    "t_agent.copy_to_collect_folder()"
   ]
  },
  {
   "cell_type": "code",
   "execution_count": 3,
   "metadata": {},
   "outputs": [
    {
     "name": "stdout",
     "output_type": "stream",
     "text": [
      "vmd -pdb /home/yizaochen/codes/dna_rna/collect_folder_to_multiscale/a_tract_21mer/1_2us/bdna+bdna.perfect.pdb /home/yizaochen/codes/dna_rna/collect_folder_to_multiscale/a_tract_21mer/1_2us/bdna+bdna.all.fitperfect.xtc\n"
     ]
    }
   ],
   "source": [
    "t_agent.check_pdb_xtc_by_vmd()"
   ]
  },
  {
   "cell_type": "markdown",
   "metadata": {},
   "source": [
    "### Part 5: Remove temp xtc"
   ]
  },
  {
   "cell_type": "code",
   "execution_count": 4,
   "metadata": {},
   "outputs": [
    {
     "name": "stdout",
     "output_type": "stream",
     "text": [
      "rm /home/yizaochen/codes/dna_rna/all_systems/a_tract_21mer/bdna+bdna/input/allatoms/bdna+bdna.1_2us.xtc\n",
      "rm /home/yizaochen/codes/dna_rna/all_systems/a_tract_21mer/bdna+bdna/input/allatoms/bdna+bdna.1_2us.fitperfect.xtc\n"
     ]
    }
   ],
   "source": [
    "t_agent.remove_temp_xtc()"
   ]
  },
  {
   "cell_type": "markdown",
   "metadata": {},
   "source": [
    "### Part 6: Compress Input"
   ]
  },
  {
   "cell_type": "code",
   "execution_count": 3,
   "metadata": {},
   "outputs": [
    {
     "name": "stdout",
     "output_type": "stream",
     "text": [
      "Archive /home/yizaochen/codes/dna_rna/collect_folder_to_multiscale/a_tract_21mer/1_2us into /home/yizaochen/codes/dna_rna/collect_folder_to_multiscale/a_tract_21mer/a_tract_21mer.1_2us.zip\n"
     ]
    }
   ],
   "source": [
    "t_agent.compress_input()"
   ]
  },
  {
   "cell_type": "markdown",
   "metadata": {},
   "source": [
    "### Part 7: Transfer to server"
   ]
  },
  {
   "cell_type": "code",
   "execution_count": 4,
   "metadata": {},
   "outputs": [
    {
     "name": "stdout",
     "output_type": "stream",
     "text": [
      "Please excute the following in the terminal:\n",
      "scp /home/yizaochen/codes/dna_rna/collect_folder_to_multiscale/a_tract_21mer/a_tract_21mer.1_2us.zip yizaochen@140.113.120.133:/home/yizaochen/x3dna/paper_2021\n"
     ]
    }
   ],
   "source": [
    "server_ip = '140.113.120.133'\n",
    "t_agent.scp_to_server(server_ip)"
   ]
  },
  {
   "cell_type": "markdown",
   "metadata": {},
   "source": [
    "### Part 8: Decompress in server"
   ]
  },
  {
   "cell_type": "code",
   "execution_count": 3,
   "metadata": {},
   "outputs": [
    {
     "name": "stdout",
     "output_type": "stream",
     "text": [
      "Please excute the following in the terminal:\n",
      "cd /home/yizaochen/x3dna/paper_2021\n",
      "unzip a_tract_21mer.1_2us.zip\n",
      "mv ./1_2us ./a_tract_21mer\n",
      "rm a_tract_21mer.1_2us.zip\n"
     ]
    }
   ],
   "source": [
    "t_agent.decompress_in_server()"
   ]
  },
  {
   "cell_type": "code",
   "execution_count": null,
   "metadata": {},
   "outputs": [],
   "source": []
  }
 ],
 "metadata": {
  "kernelspec": {
   "display_name": "Python 3",
   "language": "python",
   "name": "python3"
  },
  "language_info": {
   "codemirror_mode": {
    "name": "ipython",
    "version": 3
   },
   "file_extension": ".py",
   "mimetype": "text/x-python",
   "name": "python",
   "nbconvert_exporter": "python",
   "pygments_lexer": "ipython3",
   "version": "3.8.5"
  }
 },
 "nbformat": 4,
 "nbformat_minor": 4
}
