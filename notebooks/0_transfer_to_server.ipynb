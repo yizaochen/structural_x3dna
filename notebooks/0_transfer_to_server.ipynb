{
 "cells": [
  {
   "cell_type": "code",
   "execution_count": 1,
   "metadata": {},
   "outputs": [],
   "source": [
    "from strucpara.transfer import TransferAgent\n",
    "allsys_folder = '/home/yizaochen/codes/dna_rna/all_systems'"
   ]
  },
  {
   "cell_type": "markdown",
   "metadata": {},
   "source": [
    "### Part 0: Initialize"
   ]
  },
  {
   "cell_type": "code",
   "execution_count": 2,
   "metadata": {},
   "outputs": [
    {
     "name": "stdout",
     "output_type": "stream",
     "text": [
      "/home/yizaochen/codes/dna_rna/collect_folder_to_multiscale/pnas_dna exists\n",
      "/home/yizaochen/codes/dna_rna/collect_folder_to_multiscale/pnas_dna/0_1us exists\n"
     ]
    }
   ],
   "source": [
    "host = 'tgtg_21mer' # For pnas: pnas_dna, pnas_rna\n",
    "type_na = 'bdna+bdna' # bdna+bdna, arna+arna\n",
    "time_interval = '0_1us' # '0_1us', '1_2us', '2_3us', '3_4us', '4_5us'\n",
    "t_agent = TransferAgent(allsys_folder, host, time_interval, type_na)"
   ]
  },
  {
   "cell_type": "markdown",
   "metadata": {},
   "source": [
    "### Part 1: Convert perfect.gro to perfect.pdb"
   ]
  },
  {
   "cell_type": "code",
   "execution_count": 10,
   "metadata": {},
   "outputs": [
    {
     "name": "stdout",
     "output_type": "stream",
     "text": [
      "/usr/bin/gmx editconf -f /home/yizaochen/codes/dna_rna/all_systems/pnas_rna/arna+arna/input/allatoms/arna+arna.perfect.gro -o /home/yizaochen/codes/dna_rna/all_systems/pnas_rna/arna+arna/input/allatoms/arna+arna.perfect.pdb\n"
     ]
    }
   ],
   "source": [
    "t_agent.perfect_gro_to_pdb()"
   ]
  },
  {
   "cell_type": "markdown",
   "metadata": {},
   "source": [
    "### Part 2: Concatenate xtc"
   ]
  },
  {
   "cell_type": "code",
   "execution_count": 127,
   "metadata": {},
   "outputs": [
    {
     "name": "stdout",
     "output_type": "stream",
     "text": [
      "/usr/bin/gmx trjcat -f /home/ytcdata/simulation/atat_21mer/bdna+bdna/data/roughtrj/1000/bdna+bdna.nopbc.fit.41.1000.xtc /home/ytcdata/simulation/atat_21mer/bdna+bdna/data/roughtrj/1000/bdna+bdna.nopbc.fit.42.1000.xtc /home/ytcdata/simulation/atat_21mer/bdna+bdna/data/roughtrj/1000/bdna+bdna.nopbc.fit.43.1000.xtc /home/ytcdata/simulation/atat_21mer/bdna+bdna/data/roughtrj/1000/bdna+bdna.nopbc.fit.44.1000.xtc /home/ytcdata/simulation/atat_21mer/bdna+bdna/data/roughtrj/1000/bdna+bdna.nopbc.fit.45.1000.xtc /home/ytcdata/simulation/atat_21mer/bdna+bdna/data/roughtrj/1000/bdna+bdna.nopbc.fit.46.1000.xtc /home/ytcdata/simulation/atat_21mer/bdna+bdna/data/roughtrj/1000/bdna+bdna.nopbc.fit.47.1000.xtc /home/ytcdata/simulation/atat_21mer/bdna+bdna/data/roughtrj/1000/bdna+bdna.nopbc.fit.48.1000.xtc /home/ytcdata/simulation/atat_21mer/bdna+bdna/data/roughtrj/1000/bdna+bdna.nopbc.fit.49.1000.xtc /home/ytcdata/simulation/atat_21mer/bdna+bdna/data/roughtrj/1000/bdna+bdna.nopbc.fit.50.1000.xtc  -o /home/yizaochen/codes/dna_rna/all_systems/atat_21mer/bdna+bdna/input/allatoms/bdna+bdna.4_5us.xtc -dt 100\n"
     ]
    }
   ],
   "source": [
    "# Concatenate xtc by gmx\n",
    "simu_folder = '/home/ytcdata/simulation'\n",
    "t_agent.concatenate_trajectory(simu_folder)"
   ]
  },
  {
   "cell_type": "markdown",
   "metadata": {},
   "source": [
    "### Part 3: Fitting xtc to perfect structure"
   ]
  },
  {
   "cell_type": "code",
   "execution_count": 11,
   "metadata": {},
   "outputs": [
    {
     "name": "stdout",
     "output_type": "stream",
     "text": [
      "echo 0 0 | /usr/bin/gmx trjconv -fit rot+trans -s /home/yizaochen/codes/dna_rna/all_systems/pnas_rna/arna+arna/input/allatoms/arna+arna.perfect.pdb -f /home/yizaochen/codes/dna_rna/all_systems/pnas_rna/arna+arna/input/allatoms/arna+arna.0_1us.xtc -o /home/yizaochen/codes/dna_rna/all_systems/pnas_rna/arna+arna/input/allatoms/arna+arna.0_1us.fitperfect.xtc\n"
     ]
    }
   ],
   "source": [
    "t_agent.rmsd_fit_to_perfect()"
   ]
  },
  {
   "cell_type": "markdown",
   "metadata": {},
   "source": [
    "### Part 4: Copy to collect folder"
   ]
  },
  {
   "cell_type": "code",
   "execution_count": 12,
   "metadata": {},
   "outputs": [
    {
     "name": "stdout",
     "output_type": "stream",
     "text": [
      "cp /home/yizaochen/codes/dna_rna/all_systems/pnas_rna/arna+arna/input/allatoms/arna+arna.perfect.pdb /home/yizaochen/codes/dna_rna/collect_folder_to_multiscale/pnas_rna/0_1us/arna+arna.perfect.pdb\n",
      "cp /home/yizaochen/codes/dna_rna/all_systems/pnas_rna/arna+arna/input/allatoms/arna+arna.0_1us.fitperfect.xtc /home/yizaochen/codes/dna_rna/collect_folder_to_multiscale/pnas_rna/0_1us/arna+arna.all.fitperfect.xtc\n"
     ]
    }
   ],
   "source": [
    "t_agent.copy_to_collect_folder()"
   ]
  },
  {
   "cell_type": "code",
   "execution_count": 13,
   "metadata": {},
   "outputs": [
    {
     "name": "stdout",
     "output_type": "stream",
     "text": [
      "vmd -pdb /home/yizaochen/codes/dna_rna/collect_folder_to_multiscale/pnas_rna/0_1us/arna+arna.perfect.pdb /home/yizaochen/codes/dna_rna/collect_folder_to_multiscale/pnas_rna/0_1us/arna+arna.all.fitperfect.xtc\n"
     ]
    }
   ],
   "source": [
    "t_agent.check_pdb_xtc_by_vmd()"
   ]
  },
  {
   "cell_type": "markdown",
   "metadata": {},
   "source": [
    "### Part 3-1: Batch Preparing"
   ]
  },
  {
   "cell_type": "code",
   "execution_count": null,
   "metadata": {},
   "outputs": [],
   "source": [
    "\"\"\"\n",
    "hosts = ['ctct_21mer', 'tgtg_21mer']\n",
    "time_intervals = ['1_2us', '2_3us', '3_4us', '4_5us']\n",
    "for host in hosts:\n",
    "    for time_interval in time_intervals:\n",
    "        t_agent = TransferAgent(allsys_folder, host, time_interval)\n",
    "        t_agent.perfect_gro_to_pdb()        \n",
    "        simu_folder = '/home/ytcdata/simulation'\n",
    "        t_agent.concatenate_trajectory(simu_folder)\n",
    "        t_agent.rmsd_fit_to_perfect()\n",
    "        t_agent.copy_to_collect_folder()\n",
    "\"\"\""
   ]
  },
  {
   "cell_type": "markdown",
   "metadata": {},
   "source": [
    "### Part 5: Remove temp xtc"
   ]
  },
  {
   "cell_type": "code",
   "execution_count": 22,
   "metadata": {},
   "outputs": [
    {
     "name": "stdout",
     "output_type": "stream",
     "text": [
      "rm /home/yizaochen/codes/dna_rna/all_systems/a_tract_21mer/bdna+bdna/input/allatoms/bdna+bdna.4_5us.xtc\n",
      "rm /home/yizaochen/codes/dna_rna/all_systems/a_tract_21mer/bdna+bdna/input/allatoms/bdna+bdna.4_5us.fitperfect.xtc\n"
     ]
    }
   ],
   "source": [
    "t_agent.remove_temp_xtc()"
   ]
  },
  {
   "cell_type": "markdown",
   "metadata": {},
   "source": [
    "### Part 6: Compress Input"
   ]
  },
  {
   "cell_type": "code",
   "execution_count": 4,
   "metadata": {},
   "outputs": [
    {
     "name": "stdout",
     "output_type": "stream",
     "text": [
      "Archive /home/yizaochen/codes/dna_rna/collect_folder_to_multiscale/pnas_dna/0_1us into /home/yizaochen/codes/dna_rna/collect_folder_to_multiscale/pnas_dna/pnas_dna.0_1us.zip\n"
     ]
    }
   ],
   "source": [
    "t_agent.compress_input()"
   ]
  },
  {
   "cell_type": "markdown",
   "metadata": {},
   "source": [
    "### Part 7: Transfer to server"
   ]
  },
  {
   "cell_type": "code",
   "execution_count": 5,
   "metadata": {},
   "outputs": [
    {
     "name": "stdout",
     "output_type": "stream",
     "text": [
      "Please excute the following in the terminal:\n",
      "scp /home/yizaochen/codes/dna_rna/collect_folder_to_multiscale/pnas_dna/pnas_dna.0_1us.zip yizaochen@140.113.120.133:/home/yizaochen/x3dna/paper_2021\n"
     ]
    }
   ],
   "source": [
    "server_ip = '140.113.120.133'\n",
    "t_agent.scp_to_server(server_ip)"
   ]
  },
  {
   "cell_type": "markdown",
   "metadata": {},
   "source": [
    "### Part 8: Decompress in server"
   ]
  },
  {
   "cell_type": "code",
   "execution_count": 6,
   "metadata": {},
   "outputs": [
    {
     "name": "stdout",
     "output_type": "stream",
     "text": [
      "Please excute the following in the terminal:\n",
      "cd /home/yizaochen/x3dna/paper_2021\n",
      "unzip pnas_dna.0_1us.zip\n",
      "mv ./0_1us ./pnas_dna\n",
      "rm pnas_dna.0_1us.zip\n"
     ]
    }
   ],
   "source": [
    "t_agent.decompress_in_server()"
   ]
  },
  {
   "cell_type": "code",
   "execution_count": null,
   "metadata": {},
   "outputs": [],
   "source": []
  }
 ],
 "metadata": {
  "kernelspec": {
   "display_name": "Python 3",
   "language": "python",
   "name": "python3"
  },
  "language_info": {
   "codemirror_mode": {
    "name": "ipython",
    "version": 3
   },
   "file_extension": ".py",
   "mimetype": "text/x-python",
   "name": "python",
   "nbconvert_exporter": "python",
   "pygments_lexer": "ipython3",
   "version": "3.8.5"
  }
 },
 "nbformat": 4,
 "nbformat_minor": 4
}
