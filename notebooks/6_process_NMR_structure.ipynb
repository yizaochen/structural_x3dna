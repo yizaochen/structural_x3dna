{
 "cells": [
  {
   "cell_type": "code",
   "execution_count": 1,
   "metadata": {},
   "outputs": [],
   "source": [
    "from strucpara.xrays import NMRBigAgnet, NMRAgent\n",
    "rootfolder = '/home/yizaochen/codes/structural_x3dna/xrays'"
   ]
  },
  {
   "cell_type": "markdown",
   "metadata": {},
   "source": [
    "### Part 1: Extract clean PDB for all models"
   ]
  },
  {
   "cell_type": "code",
   "execution_count": 3,
   "metadata": {},
   "outputs": [
    {
     "name": "stdout",
     "output_type": "stream",
     "text": [
      "/home/yizaochen/codes/structural_x3dna/xrays/1nev exists\n"
     ]
    }
   ],
   "source": [
    "host = '1nev'\n",
    "b_agent = NMRBigAgnet(rootfolder, host)"
   ]
  },
  {
   "cell_type": "code",
   "execution_count": 3,
   "metadata": {},
   "outputs": [
    {
     "name": "stdout",
     "output_type": "stream",
     "text": [
      "mkdir /home/yizaochen/codes/structural_x3dna/xrays/1nev/1\n",
      "mkdir /home/yizaochen/codes/structural_x3dna/xrays/1nev/2\n",
      "mkdir /home/yizaochen/codes/structural_x3dna/xrays/1nev/3\n",
      "mkdir /home/yizaochen/codes/structural_x3dna/xrays/1nev/4\n",
      "mkdir /home/yizaochen/codes/structural_x3dna/xrays/1nev/5\n",
      "mkdir /home/yizaochen/codes/structural_x3dna/xrays/1nev/6\n",
      "mkdir /home/yizaochen/codes/structural_x3dna/xrays/1nev/7\n",
      "mkdir /home/yizaochen/codes/structural_x3dna/xrays/1nev/8\n",
      "mkdir /home/yizaochen/codes/structural_x3dna/xrays/1nev/9\n",
      "mkdir /home/yizaochen/codes/structural_x3dna/xrays/1nev/10\n"
     ]
    }
   ],
   "source": [
    "# Make All folder\n",
    "#b_agent.make_model_folder()"
   ]
  },
  {
   "cell_type": "code",
   "execution_count": 4,
   "metadata": {},
   "outputs": [
    {
     "name": "stdout",
     "output_type": "stream",
     "text": [
      "grep -A 632 'MODEL        1' /home/yizaochen/codes/structural_x3dna/xrays/1nev/1nev_clean.pdb > /home/yizaochen/codes/structural_x3dna/xrays/1nev/1/1nev_clean.pdb\n",
      "grep -A 632 'MODEL        2' /home/yizaochen/codes/structural_x3dna/xrays/1nev/1nev_clean.pdb > /home/yizaochen/codes/structural_x3dna/xrays/1nev/2/1nev_clean.pdb\n",
      "grep -A 632 'MODEL        3' /home/yizaochen/codes/structural_x3dna/xrays/1nev/1nev_clean.pdb > /home/yizaochen/codes/structural_x3dna/xrays/1nev/3/1nev_clean.pdb\n",
      "grep -A 632 'MODEL        4' /home/yizaochen/codes/structural_x3dna/xrays/1nev/1nev_clean.pdb > /home/yizaochen/codes/structural_x3dna/xrays/1nev/4/1nev_clean.pdb\n",
      "grep -A 632 'MODEL        5' /home/yizaochen/codes/structural_x3dna/xrays/1nev/1nev_clean.pdb > /home/yizaochen/codes/structural_x3dna/xrays/1nev/5/1nev_clean.pdb\n",
      "grep -A 632 'MODEL        6' /home/yizaochen/codes/structural_x3dna/xrays/1nev/1nev_clean.pdb > /home/yizaochen/codes/structural_x3dna/xrays/1nev/6/1nev_clean.pdb\n",
      "grep -A 632 'MODEL        7' /home/yizaochen/codes/structural_x3dna/xrays/1nev/1nev_clean.pdb > /home/yizaochen/codes/structural_x3dna/xrays/1nev/7/1nev_clean.pdb\n",
      "grep -A 632 'MODEL        8' /home/yizaochen/codes/structural_x3dna/xrays/1nev/1nev_clean.pdb > /home/yizaochen/codes/structural_x3dna/xrays/1nev/8/1nev_clean.pdb\n",
      "grep -A 632 'MODEL        9' /home/yizaochen/codes/structural_x3dna/xrays/1nev/1nev_clean.pdb > /home/yizaochen/codes/structural_x3dna/xrays/1nev/9/1nev_clean.pdb\n",
      "grep -A 632 'MODEL       10' /home/yizaochen/codes/structural_x3dna/xrays/1nev/1nev_clean.pdb > /home/yizaochen/codes/structural_x3dna/xrays/1nev/10/1nev_clean.pdb\n"
     ]
    }
   ],
   "source": [
    "#b_agent.extract_pdb_to_model_folder()"
   ]
  },
  {
   "cell_type": "markdown",
   "metadata": {},
   "source": [
    "### Part 2: Initialize All Model Agent"
   ]
  },
  {
   "cell_type": "code",
   "execution_count": 5,
   "metadata": {},
   "outputs": [
    {
     "name": "stdout",
     "output_type": "stream",
     "text": [
      "/home/yizaochen/codes/structural_x3dna/xrays/1nev/1 exists\n",
      "/home/yizaochen/codes/structural_x3dna/xrays/1nev/1/work exists\n",
      "/home/yizaochen/codes/structural_x3dna/xrays/1nev/2 exists\n",
      "/home/yizaochen/codes/structural_x3dna/xrays/1nev/2/work exists\n",
      "/home/yizaochen/codes/structural_x3dna/xrays/1nev/3 exists\n",
      "/home/yizaochen/codes/structural_x3dna/xrays/1nev/3/work exists\n",
      "/home/yizaochen/codes/structural_x3dna/xrays/1nev/4 exists\n",
      "/home/yizaochen/codes/structural_x3dna/xrays/1nev/4/work exists\n",
      "/home/yizaochen/codes/structural_x3dna/xrays/1nev/5 exists\n",
      "/home/yizaochen/codes/structural_x3dna/xrays/1nev/5/work exists\n",
      "/home/yizaochen/codes/structural_x3dna/xrays/1nev/6 exists\n",
      "/home/yizaochen/codes/structural_x3dna/xrays/1nev/6/work exists\n",
      "/home/yizaochen/codes/structural_x3dna/xrays/1nev/7 exists\n",
      "/home/yizaochen/codes/structural_x3dna/xrays/1nev/7/work exists\n",
      "/home/yizaochen/codes/structural_x3dna/xrays/1nev/8 exists\n",
      "/home/yizaochen/codes/structural_x3dna/xrays/1nev/8/work exists\n",
      "/home/yizaochen/codes/structural_x3dna/xrays/1nev/9 exists\n",
      "/home/yizaochen/codes/structural_x3dna/xrays/1nev/9/work exists\n",
      "/home/yizaochen/codes/structural_x3dna/xrays/1nev/10 exists\n",
      "/home/yizaochen/codes/structural_x3dna/xrays/1nev/10/work exists\n"
     ]
    }
   ],
   "source": [
    "b_agent.get_all_model_agents()"
   ]
  },
  {
   "cell_type": "markdown",
   "metadata": {},
   "source": [
    "### Part 3: Find Pair and Analyze"
   ]
  },
  {
   "cell_type": "code",
   "execution_count": 5,
   "metadata": {},
   "outputs": [
    {
     "name": "stdout",
     "output_type": "stream",
     "text": [
      "/home/yizaochen/opt/x3dna-v2.3/bin/find_pair /home/yizaochen/codes/structural_x3dna/xrays/1nev/1/1nev_clean.pdb /home/yizaochen/codes/structural_x3dna/xrays/1nev/1/1nev.inp\n",
      "/home/yizaochen/opt/x3dna-v2.3/bin/find_pair /home/yizaochen/codes/structural_x3dna/xrays/1nev/2/1nev_clean.pdb /home/yizaochen/codes/structural_x3dna/xrays/1nev/2/1nev.inp\n",
      "/home/yizaochen/opt/x3dna-v2.3/bin/find_pair /home/yizaochen/codes/structural_x3dna/xrays/1nev/3/1nev_clean.pdb /home/yizaochen/codes/structural_x3dna/xrays/1nev/3/1nev.inp\n",
      "/home/yizaochen/opt/x3dna-v2.3/bin/find_pair /home/yizaochen/codes/structural_x3dna/xrays/1nev/4/1nev_clean.pdb /home/yizaochen/codes/structural_x3dna/xrays/1nev/4/1nev.inp\n",
      "/home/yizaochen/opt/x3dna-v2.3/bin/find_pair /home/yizaochen/codes/structural_x3dna/xrays/1nev/5/1nev_clean.pdb /home/yizaochen/codes/structural_x3dna/xrays/1nev/5/1nev.inp\n",
      "/home/yizaochen/opt/x3dna-v2.3/bin/find_pair /home/yizaochen/codes/structural_x3dna/xrays/1nev/6/1nev_clean.pdb /home/yizaochen/codes/structural_x3dna/xrays/1nev/6/1nev.inp\n",
      "/home/yizaochen/opt/x3dna-v2.3/bin/find_pair /home/yizaochen/codes/structural_x3dna/xrays/1nev/7/1nev_clean.pdb /home/yizaochen/codes/structural_x3dna/xrays/1nev/7/1nev.inp\n",
      "/home/yizaochen/opt/x3dna-v2.3/bin/find_pair /home/yizaochen/codes/structural_x3dna/xrays/1nev/8/1nev_clean.pdb /home/yizaochen/codes/structural_x3dna/xrays/1nev/8/1nev.inp\n",
      "/home/yizaochen/opt/x3dna-v2.3/bin/find_pair /home/yizaochen/codes/structural_x3dna/xrays/1nev/9/1nev_clean.pdb /home/yizaochen/codes/structural_x3dna/xrays/1nev/9/1nev.inp\n",
      "/home/yizaochen/opt/x3dna-v2.3/bin/find_pair /home/yizaochen/codes/structural_x3dna/xrays/1nev/10/1nev_clean.pdb /home/yizaochen/codes/structural_x3dna/xrays/1nev/10/1nev.inp\n"
     ]
    }
   ],
   "source": [
    "#b_agent.find_all_pair()"
   ]
  },
  {
   "cell_type": "code",
   "execution_count": 7,
   "metadata": {},
   "outputs": [
    {
     "name": "stdout",
     "output_type": "stream",
     "text": [
      "/home/yizaochen/opt/x3dna-v2.3/bin/analyze /home/yizaochen/codes/structural_x3dna/xrays/1nev/1/1nev.inp\n",
      "/home/yizaochen/opt/x3dna-v2.3/bin/analyze /home/yizaochen/codes/structural_x3dna/xrays/1nev/2/1nev.inp\n",
      "/home/yizaochen/opt/x3dna-v2.3/bin/analyze /home/yizaochen/codes/structural_x3dna/xrays/1nev/3/1nev.inp\n",
      "/home/yizaochen/opt/x3dna-v2.3/bin/analyze /home/yizaochen/codes/structural_x3dna/xrays/1nev/4/1nev.inp\n",
      "/home/yizaochen/opt/x3dna-v2.3/bin/analyze /home/yizaochen/codes/structural_x3dna/xrays/1nev/5/1nev.inp\n",
      "/home/yizaochen/opt/x3dna-v2.3/bin/analyze /home/yizaochen/codes/structural_x3dna/xrays/1nev/6/1nev.inp\n",
      "/home/yizaochen/opt/x3dna-v2.3/bin/analyze /home/yizaochen/codes/structural_x3dna/xrays/1nev/7/1nev.inp\n",
      "/home/yizaochen/opt/x3dna-v2.3/bin/analyze /home/yizaochen/codes/structural_x3dna/xrays/1nev/8/1nev.inp\n",
      "/home/yizaochen/opt/x3dna-v2.3/bin/analyze /home/yizaochen/codes/structural_x3dna/xrays/1nev/9/1nev.inp\n",
      "/home/yizaochen/opt/x3dna-v2.3/bin/analyze /home/yizaochen/codes/structural_x3dna/xrays/1nev/10/1nev.inp\n"
     ]
    }
   ],
   "source": [
    "#b_agent.analyze_all()"
   ]
  },
  {
   "cell_type": "code",
   "execution_count": 6,
   "metadata": {
    "collapsed": true,
    "jupyter": {
     "outputs_hidden": true
    }
   },
   "outputs": [
    {
     "name": "stdout",
     "output_type": "stream",
     "text": [
      "grep -A 11 '^Local base-pair parameters' /home/yizaochen/codes/structural_x3dna/xrays/1nev/1/work/1nev_clean.out > /home/yizaochen/codes/structural_x3dna/xrays/1nev/1/local_base_pair.dat\n",
      "grep -A 10 '^Local base-pair step parameters' /home/yizaochen/codes/structural_x3dna/xrays/1nev/1/work/1nev_clean.out > /home/yizaochen/codes/structural_x3dna/xrays/1nev/1/local_base_pair_step.dat\n",
      "grep -A 10 '^Local base-pair helical parameters' /home/yizaochen/codes/structural_x3dna/xrays/1nev/1/work/1nev_clean.out > /home/yizaochen/codes/structural_x3dna/xrays/1nev/1/local_base_pair_helical.dat\n",
      "grep -A 10 '^                  Minor Groove        Major Groove' /home/yizaochen/codes/structural_x3dna/xrays/1nev/1/work/1nev_clean.out > /home/yizaochen/codes/structural_x3dna/xrays/1nev/1/major_minor.dat\n",
      "grep -A 11 '^Local base-pair parameters' /home/yizaochen/codes/structural_x3dna/xrays/1nev/2/work/1nev_clean.out > /home/yizaochen/codes/structural_x3dna/xrays/1nev/2/local_base_pair.dat\n",
      "grep -A 10 '^Local base-pair step parameters' /home/yizaochen/codes/structural_x3dna/xrays/1nev/2/work/1nev_clean.out > /home/yizaochen/codes/structural_x3dna/xrays/1nev/2/local_base_pair_step.dat\n",
      "grep -A 10 '^Local base-pair helical parameters' /home/yizaochen/codes/structural_x3dna/xrays/1nev/2/work/1nev_clean.out > /home/yizaochen/codes/structural_x3dna/xrays/1nev/2/local_base_pair_helical.dat\n",
      "grep -A 10 '^                  Minor Groove        Major Groove' /home/yizaochen/codes/structural_x3dna/xrays/1nev/2/work/1nev_clean.out > /home/yizaochen/codes/structural_x3dna/xrays/1nev/2/major_minor.dat\n",
      "grep -A 11 '^Local base-pair parameters' /home/yizaochen/codes/structural_x3dna/xrays/1nev/3/work/1nev_clean.out > /home/yizaochen/codes/structural_x3dna/xrays/1nev/3/local_base_pair.dat\n",
      "grep -A 10 '^Local base-pair step parameters' /home/yizaochen/codes/structural_x3dna/xrays/1nev/3/work/1nev_clean.out > /home/yizaochen/codes/structural_x3dna/xrays/1nev/3/local_base_pair_step.dat\n",
      "grep -A 10 '^Local base-pair helical parameters' /home/yizaochen/codes/structural_x3dna/xrays/1nev/3/work/1nev_clean.out > /home/yizaochen/codes/structural_x3dna/xrays/1nev/3/local_base_pair_helical.dat\n",
      "grep -A 10 '^                  Minor Groove        Major Groove' /home/yizaochen/codes/structural_x3dna/xrays/1nev/3/work/1nev_clean.out > /home/yizaochen/codes/structural_x3dna/xrays/1nev/3/major_minor.dat\n",
      "grep -A 11 '^Local base-pair parameters' /home/yizaochen/codes/structural_x3dna/xrays/1nev/4/work/1nev_clean.out > /home/yizaochen/codes/structural_x3dna/xrays/1nev/4/local_base_pair.dat\n",
      "grep -A 10 '^Local base-pair step parameters' /home/yizaochen/codes/structural_x3dna/xrays/1nev/4/work/1nev_clean.out > /home/yizaochen/codes/structural_x3dna/xrays/1nev/4/local_base_pair_step.dat\n",
      "grep -A 10 '^Local base-pair helical parameters' /home/yizaochen/codes/structural_x3dna/xrays/1nev/4/work/1nev_clean.out > /home/yizaochen/codes/structural_x3dna/xrays/1nev/4/local_base_pair_helical.dat\n",
      "grep -A 10 '^                  Minor Groove        Major Groove' /home/yizaochen/codes/structural_x3dna/xrays/1nev/4/work/1nev_clean.out > /home/yizaochen/codes/structural_x3dna/xrays/1nev/4/major_minor.dat\n",
      "grep -A 11 '^Local base-pair parameters' /home/yizaochen/codes/structural_x3dna/xrays/1nev/5/work/1nev_clean.out > /home/yizaochen/codes/structural_x3dna/xrays/1nev/5/local_base_pair.dat\n",
      "grep -A 10 '^Local base-pair step parameters' /home/yizaochen/codes/structural_x3dna/xrays/1nev/5/work/1nev_clean.out > /home/yizaochen/codes/structural_x3dna/xrays/1nev/5/local_base_pair_step.dat\n",
      "grep -A 10 '^Local base-pair helical parameters' /home/yizaochen/codes/structural_x3dna/xrays/1nev/5/work/1nev_clean.out > /home/yizaochen/codes/structural_x3dna/xrays/1nev/5/local_base_pair_helical.dat\n",
      "grep -A 10 '^                  Minor Groove        Major Groove' /home/yizaochen/codes/structural_x3dna/xrays/1nev/5/work/1nev_clean.out > /home/yizaochen/codes/structural_x3dna/xrays/1nev/5/major_minor.dat\n",
      "grep -A 11 '^Local base-pair parameters' /home/yizaochen/codes/structural_x3dna/xrays/1nev/6/work/1nev_clean.out > /home/yizaochen/codes/structural_x3dna/xrays/1nev/6/local_base_pair.dat\n",
      "grep -A 10 '^Local base-pair step parameters' /home/yizaochen/codes/structural_x3dna/xrays/1nev/6/work/1nev_clean.out > /home/yizaochen/codes/structural_x3dna/xrays/1nev/6/local_base_pair_step.dat\n",
      "grep -A 10 '^Local base-pair helical parameters' /home/yizaochen/codes/structural_x3dna/xrays/1nev/6/work/1nev_clean.out > /home/yizaochen/codes/structural_x3dna/xrays/1nev/6/local_base_pair_helical.dat\n",
      "grep -A 10 '^                  Minor Groove        Major Groove' /home/yizaochen/codes/structural_x3dna/xrays/1nev/6/work/1nev_clean.out > /home/yizaochen/codes/structural_x3dna/xrays/1nev/6/major_minor.dat\n",
      "grep -A 11 '^Local base-pair parameters' /home/yizaochen/codes/structural_x3dna/xrays/1nev/7/work/1nev_clean.out > /home/yizaochen/codes/structural_x3dna/xrays/1nev/7/local_base_pair.dat\n",
      "grep -A 10 '^Local base-pair step parameters' /home/yizaochen/codes/structural_x3dna/xrays/1nev/7/work/1nev_clean.out > /home/yizaochen/codes/structural_x3dna/xrays/1nev/7/local_base_pair_step.dat\n",
      "grep -A 10 '^Local base-pair helical parameters' /home/yizaochen/codes/structural_x3dna/xrays/1nev/7/work/1nev_clean.out > /home/yizaochen/codes/structural_x3dna/xrays/1nev/7/local_base_pair_helical.dat\n",
      "grep -A 10 '^                  Minor Groove        Major Groove' /home/yizaochen/codes/structural_x3dna/xrays/1nev/7/work/1nev_clean.out > /home/yizaochen/codes/structural_x3dna/xrays/1nev/7/major_minor.dat\n",
      "grep -A 11 '^Local base-pair parameters' /home/yizaochen/codes/structural_x3dna/xrays/1nev/8/work/1nev_clean.out > /home/yizaochen/codes/structural_x3dna/xrays/1nev/8/local_base_pair.dat\n",
      "grep -A 10 '^Local base-pair step parameters' /home/yizaochen/codes/structural_x3dna/xrays/1nev/8/work/1nev_clean.out > /home/yizaochen/codes/structural_x3dna/xrays/1nev/8/local_base_pair_step.dat\n",
      "grep -A 10 '^Local base-pair helical parameters' /home/yizaochen/codes/structural_x3dna/xrays/1nev/8/work/1nev_clean.out > /home/yizaochen/codes/structural_x3dna/xrays/1nev/8/local_base_pair_helical.dat\n",
      "grep -A 10 '^                  Minor Groove        Major Groove' /home/yizaochen/codes/structural_x3dna/xrays/1nev/8/work/1nev_clean.out > /home/yizaochen/codes/structural_x3dna/xrays/1nev/8/major_minor.dat\n",
      "grep -A 11 '^Local base-pair parameters' /home/yizaochen/codes/structural_x3dna/xrays/1nev/9/work/1nev_clean.out > /home/yizaochen/codes/structural_x3dna/xrays/1nev/9/local_base_pair.dat\n",
      "grep -A 10 '^Local base-pair step parameters' /home/yizaochen/codes/structural_x3dna/xrays/1nev/9/work/1nev_clean.out > /home/yizaochen/codes/structural_x3dna/xrays/1nev/9/local_base_pair_step.dat\n",
      "grep -A 10 '^Local base-pair helical parameters' /home/yizaochen/codes/structural_x3dna/xrays/1nev/9/work/1nev_clean.out > /home/yizaochen/codes/structural_x3dna/xrays/1nev/9/local_base_pair_helical.dat\n",
      "grep -A 10 '^                  Minor Groove        Major Groove' /home/yizaochen/codes/structural_x3dna/xrays/1nev/9/work/1nev_clean.out > /home/yizaochen/codes/structural_x3dna/xrays/1nev/9/major_minor.dat\n",
      "grep -A 11 '^Local base-pair parameters' /home/yizaochen/codes/structural_x3dna/xrays/1nev/10/work/1nev_clean.out > /home/yizaochen/codes/structural_x3dna/xrays/1nev/10/local_base_pair.dat\n",
      "grep -A 10 '^Local base-pair step parameters' /home/yizaochen/codes/structural_x3dna/xrays/1nev/10/work/1nev_clean.out > /home/yizaochen/codes/structural_x3dna/xrays/1nev/10/local_base_pair_step.dat\n",
      "grep -A 10 '^Local base-pair helical parameters' /home/yizaochen/codes/structural_x3dna/xrays/1nev/10/work/1nev_clean.out > /home/yizaochen/codes/structural_x3dna/xrays/1nev/10/local_base_pair_helical.dat\n",
      "grep -A 10 '^                  Minor Groove        Major Groove' /home/yizaochen/codes/structural_x3dna/xrays/1nev/10/work/1nev_clean.out > /home/yizaochen/codes/structural_x3dna/xrays/1nev/10/major_minor.dat\n"
     ]
    }
   ],
   "source": [
    "b_agent.make_all_dat()"
   ]
  },
  {
   "cell_type": "markdown",
   "metadata": {},
   "source": [
    "### Part 4: Read All dat"
   ]
  },
  {
   "cell_type": "code",
   "execution_count": 5,
   "metadata": {
    "collapsed": true,
    "jupyter": {
     "outputs_hidden": true
    }
   },
   "outputs": [
    {
     "name": "stdout",
     "output_type": "stream",
     "text": [
      "/home/yizaochen/codes/structural_x3dna/xrays/1nev/1 exists\n",
      "/home/yizaochen/codes/structural_x3dna/xrays/1nev/1/work exists\n",
      "/home/yizaochen/codes/structural_x3dna/xrays/1nev/2 exists\n",
      "/home/yizaochen/codes/structural_x3dna/xrays/1nev/2/work exists\n",
      "/home/yizaochen/codes/structural_x3dna/xrays/1nev/3 exists\n",
      "/home/yizaochen/codes/structural_x3dna/xrays/1nev/3/work exists\n",
      "/home/yizaochen/codes/structural_x3dna/xrays/1nev/4 exists\n",
      "/home/yizaochen/codes/structural_x3dna/xrays/1nev/4/work exists\n",
      "/home/yizaochen/codes/structural_x3dna/xrays/1nev/5 exists\n",
      "/home/yizaochen/codes/structural_x3dna/xrays/1nev/5/work exists\n",
      "/home/yizaochen/codes/structural_x3dna/xrays/1nev/6 exists\n",
      "/home/yizaochen/codes/structural_x3dna/xrays/1nev/6/work exists\n",
      "/home/yizaochen/codes/structural_x3dna/xrays/1nev/7 exists\n",
      "/home/yizaochen/codes/structural_x3dna/xrays/1nev/7/work exists\n",
      "/home/yizaochen/codes/structural_x3dna/xrays/1nev/8 exists\n",
      "/home/yizaochen/codes/structural_x3dna/xrays/1nev/8/work exists\n",
      "/home/yizaochen/codes/structural_x3dna/xrays/1nev/9 exists\n",
      "/home/yizaochen/codes/structural_x3dna/xrays/1nev/9/work exists\n",
      "/home/yizaochen/codes/structural_x3dna/xrays/1nev/10 exists\n",
      "/home/yizaochen/codes/structural_x3dna/xrays/1nev/10/work exists\n",
      "1nev: Read Local Base Pair.\n",
      "1nev: Read Local Base Pair.\n",
      "1nev: Read Local Base Pair.\n",
      "1nev: Read Local Base Pair.\n",
      "1nev: Read Local Base Pair.\n",
      "1nev: Read Local Base Pair.\n",
      "1nev: Read Local Base Pair.\n",
      "1nev: Read Local Base Pair.\n",
      "1nev: Read Local Base Pair.\n",
      "1nev: Read Local Base Pair.\n",
      "1nev: Read Local Base Pair Steps.\n",
      "1nev: Read Local Base Pair Steps.\n",
      "1nev: Read Local Base Pair Steps.\n",
      "1nev: Read Local Base Pair Steps.\n",
      "1nev: Read Local Base Pair Steps.\n",
      "1nev: Read Local Base Pair Steps.\n",
      "1nev: Read Local Base Pair Steps.\n",
      "1nev: Read Local Base Pair Steps.\n",
      "1nev: Read Local Base Pair Steps.\n",
      "1nev: Read Local Base Pair Steps.\n",
      "1nev: Read Major Minor Groove Width.\n",
      "1nev: Read Major Minor Groove Width.\n",
      "1nev: Read Major Minor Groove Width.\n",
      "1nev: Read Major Minor Groove Width.\n",
      "1nev: Read Major Minor Groove Width.\n",
      "1nev: Read Major Minor Groove Width.\n",
      "1nev: Read Major Minor Groove Width.\n",
      "1nev: Read Major Minor Groove Width.\n",
      "1nev: Read Major Minor Groove Width.\n",
      "1nev: Read Major Minor Groove Width.\n"
     ]
    }
   ],
   "source": [
    "b_agent.pre_processing()"
   ]
  },
  {
   "cell_type": "code",
   "execution_count": null,
   "metadata": {},
   "outputs": [],
   "source": []
  }
 ],
 "metadata": {
  "kernelspec": {
   "display_name": "Python 3",
   "language": "python",
   "name": "python3"
  },
  "language_info": {
   "codemirror_mode": {
    "name": "ipython",
    "version": 3
   },
   "file_extension": ".py",
   "mimetype": "text/x-python",
   "name": "python",
   "nbconvert_exporter": "python",
   "pygments_lexer": "ipython3",
   "version": "3.8.5"
  }
 },
 "nbformat": 4,
 "nbformat_minor": 4
}
